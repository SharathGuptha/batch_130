{
 "cells": [
  {
   "cell_type": "markdown",
   "id": "10bab00e",
   "metadata": {
    "papermill": {
     "duration": 0.016287,
     "end_time": "2023-01-12T05:50:29.700488",
     "exception": false,
     "start_time": "2023-01-12T05:50:29.684201",
     "status": "completed"
    },
    "tags": []
   },
   "source": [
    "Fish market dataset was created by SAS Ondemand for Academics, record 7 different fish species in fish market sales, and contains 7 features.\n",
    "\n",
    "each features are about...\n",
    "\n",
    "1. Species: Name of the species\n",
    "2. Weight: Weight of the individual fish in grams\n",
    "3. Length1: Vertical length in cm\n",
    "4. Length2: Diagnoal length in cm\n",
    "5. Length3: Cross length in cm\n",
    "6. Height: Height in cm\n",
    "7. Width: Width in cm\n"
   ]
  },
  {
   "cell_type": "code",
   "execution_count": 1,
   "id": "7f65cf40",
   "metadata": {
    "_cell_guid": "b1076dfc-b9ad-4769-8c92-a6c4dae69d19",
    "_uuid": "8f2839f25d086af736a60e9eeb907d3b93b6e0e5",
    "execution": {
     "iopub.execute_input": "2023-01-12T05:50:29.730850Z",
     "iopub.status.busy": "2023-01-12T05:50:29.729949Z",
     "iopub.status.idle": "2023-01-12T05:50:32.559403Z",
     "shell.execute_reply": "2023-01-12T05:50:32.558323Z"
    },
    "papermill": {
     "duration": 2.846273,
     "end_time": "2023-01-12T05:50:32.562510",
     "exception": false,
     "start_time": "2023-01-12T05:50:29.716237",
     "status": "completed"
    },
    "tags": []
   },
   "outputs": [
    {
     "name": "stdout",
     "output_type": "stream",
     "text": [
      "/kaggle/input/fish-market/Fish.csv\n"
     ]
    }
   ],
   "source": [
    "\n",
    "\n",
    "import numpy as np # linear algebra\n",
    "import pandas as pd # data processing, CSV file I/O (e.g. pd.read_csv)\n",
    "\n",
    "#libraries for visualization\n",
    "import matplotlib.pyplot as plt\n",
    "import seaborn as sns\n",
    "import plotly.express as px\n",
    "import squarify\n",
    "\n",
    "\n",
    "\n",
    "import os\n",
    "for dirname, _, filenames in os.walk('/kaggle/input'):\n",
    "    for filename in filenames:\n",
    "        print(os.path.join(dirname, filename))\n",
    "\n"
   ]
  },
  {
   "cell_type": "code",
   "execution_count": 2,
   "id": "c3ef2f0d",
   "metadata": {
    "execution": {
     "iopub.execute_input": "2023-01-12T05:50:32.584517Z",
     "iopub.status.busy": "2023-01-12T05:50:32.583027Z",
     "iopub.status.idle": "2023-01-12T05:50:32.608781Z",
     "shell.execute_reply": "2023-01-12T05:50:32.607496Z"
    },
    "papermill": {
     "duration": 0.039309,
     "end_time": "2023-01-12T05:50:32.611078",
     "exception": false,
     "start_time": "2023-01-12T05:50:32.571769",
     "status": "completed"
    },
    "tags": []
   },
   "outputs": [
    {
     "name": "stdout",
     "output_type": "stream",
     "text": [
      "  Species  Weight  Length1  Length2  Length3   Height   Width\n",
      "0   Bream   242.0     23.2     25.4     30.0  11.5200  4.0200\n",
      "1   Bream   290.0     24.0     26.3     31.2  12.4800  4.3056\n",
      "2   Bream   340.0     23.9     26.5     31.1  12.3778  4.6961\n",
      "3   Bream   363.0     26.3     29.0     33.5  12.7300  4.4555\n",
      "4   Bream   430.0     26.5     29.0     34.0  12.4440  5.1340\n",
      "(159, 7)\n"
     ]
    }
   ],
   "source": [
    "df = pd.read_csv(\"../input/fish-market/Fish.csv\")\n",
    "print(df.head())\n",
    "print(df.shape)"
   ]
  },
  {
   "cell_type": "code",
   "execution_count": 3,
   "id": "ec29be72",
   "metadata": {
    "execution": {
     "iopub.execute_input": "2023-01-12T05:50:32.630744Z",
     "iopub.status.busy": "2023-01-12T05:50:32.629732Z",
     "iopub.status.idle": "2023-01-12T05:50:32.641927Z",
     "shell.execute_reply": "2023-01-12T05:50:32.640964Z"
    },
    "papermill": {
     "duration": 0.02408,
     "end_time": "2023-01-12T05:50:32.644227",
     "exception": false,
     "start_time": "2023-01-12T05:50:32.620147",
     "status": "completed"
    },
    "tags": []
   },
   "outputs": [
    {
     "data": {
      "text/plain": [
       "Index(['target', 'Weight', 'Length1', 'Length2', 'Length3', 'Height', 'Width'], dtype='object')"
      ]
     },
     "execution_count": 3,
     "metadata": {},
     "output_type": "execute_result"
    }
   ],
   "source": [
    "df = df.rename(columns = {\"Species\":\"target\"})\n",
    "df.columns"
   ]
  },
  {
   "cell_type": "markdown",
   "id": "666fa2ff",
   "metadata": {
    "papermill": {
     "duration": 0.008999,
     "end_time": "2023-01-12T05:50:32.662754",
     "exception": false,
     "start_time": "2023-01-12T05:50:32.653755",
     "status": "completed"
    },
    "tags": []
   },
   "source": [
    "<div style=\"text-align: left; background-color: #2D70B7; color: white; padding: 5px; line-height: 1; border-radius:10px\"> <center> <h3> 2. Data preprocessing </h3> </center> </div>\n",
    "\n",
    "I belive that this dataset must be well defined, but checking dataset a time to certain it."
   ]
  },
  {
   "cell_type": "markdown",
   "id": "2735772e",
   "metadata": {
    "papermill": {
     "duration": 0.008497,
     "end_time": "2023-01-12T05:50:32.680131",
     "exception": false,
     "start_time": "2023-01-12T05:50:32.671634",
     "status": "completed"
    },
    "tags": []
   },
   "source": [
    "<h3>Checking missing values</h3>"
   ]
  },
  {
   "cell_type": "code",
   "execution_count": 4,
   "id": "7e27876f",
   "metadata": {
    "execution": {
     "iopub.execute_input": "2023-01-12T05:50:32.699411Z",
     "iopub.status.busy": "2023-01-12T05:50:32.699082Z",
     "iopub.status.idle": "2023-01-12T05:50:32.707665Z",
     "shell.execute_reply": "2023-01-12T05:50:32.706735Z"
    },
    "papermill": {
     "duration": 0.02082,
     "end_time": "2023-01-12T05:50:32.709589",
     "exception": false,
     "start_time": "2023-01-12T05:50:32.688769",
     "status": "completed"
    },
    "tags": []
   },
   "outputs": [
    {
     "data": {
      "text/plain": [
       "target     0\n",
       "Weight     0\n",
       "Length1    0\n",
       "Length2    0\n",
       "Length3    0\n",
       "Height     0\n",
       "Width      0\n",
       "dtype: int64"
      ]
     },
     "execution_count": 4,
     "metadata": {},
     "output_type": "execute_result"
    }
   ],
   "source": [
    "df.isnull().sum().sort_values()"
   ]
  },
  {
   "cell_type": "markdown",
   "id": "b10adee4",
   "metadata": {
    "papermill": {
     "duration": 0.009459,
     "end_time": "2023-01-12T05:50:32.727682",
     "exception": false,
     "start_time": "2023-01-12T05:50:32.718223",
     "status": "completed"
    },
    "tags": []
   },
   "source": [
    "There is no missing value😀"
   ]
  },
  {
   "cell_type": "code",
   "execution_count": 5,
   "id": "8de0687d",
   "metadata": {
    "execution": {
     "iopub.execute_input": "2023-01-12T05:50:32.751403Z",
     "iopub.status.busy": "2023-01-12T05:50:32.749454Z",
     "iopub.status.idle": "2023-01-12T05:50:32.763133Z",
     "shell.execute_reply": "2023-01-12T05:50:32.762025Z"
    },
    "papermill": {
     "duration": 0.027486,
     "end_time": "2023-01-12T05:50:32.765426",
     "exception": false,
     "start_time": "2023-01-12T05:50:32.737940",
     "status": "completed"
    },
    "tags": []
   },
   "outputs": [
    {
     "data": {
      "text/plain": [
       "target\n",
       "Perch        56\n",
       "Bream        35\n",
       "Roach        20\n",
       "Pike         17\n",
       "Smelt        14\n",
       "Parkki       11\n",
       "Whitefish     6\n",
       "dtype: int64"
      ]
     },
     "execution_count": 5,
     "metadata": {},
     "output_type": "execute_result"
    }
   ],
   "source": [
    "df.value_counts('target')"
   ]
  },
  {
   "cell_type": "markdown",
   "id": "a26dfcc5",
   "metadata": {
    "papermill": {
     "duration": 0.009995,
     "end_time": "2023-01-12T05:50:32.785671",
     "exception": false,
     "start_time": "2023-01-12T05:50:32.775676",
     "status": "completed"
    },
    "tags": []
   },
   "source": [
    "<h3>Checking outlier</h3>"
   ]
  },
  {
   "cell_type": "code",
   "execution_count": 6,
   "id": "f41a1198",
   "metadata": {
    "execution": {
     "iopub.execute_input": "2023-01-12T05:50:32.809695Z",
     "iopub.status.busy": "2023-01-12T05:50:32.807918Z",
     "iopub.status.idle": "2023-01-12T05:50:32.815837Z",
     "shell.execute_reply": "2023-01-12T05:50:32.814670Z"
    },
    "papermill": {
     "duration": 0.022024,
     "end_time": "2023-01-12T05:50:32.817888",
     "exception": false,
     "start_time": "2023-01-12T05:50:32.795864",
     "status": "completed"
    },
    "tags": []
   },
   "outputs": [
    {
     "data": {
      "text/plain": [
       "['Weight', 'Length1', 'Length2', 'Length3', 'Height', 'Width']"
      ]
     },
     "execution_count": 6,
     "metadata": {},
     "output_type": "execute_result"
    }
   ],
   "source": [
    "col_list = list(df.columns)\n",
    "col_list.remove('target')\n",
    "col_list"
   ]
  },
  {
   "cell_type": "code",
   "execution_count": 7,
   "id": "8a9d1a0c",
   "metadata": {
    "execution": {
     "iopub.execute_input": "2023-01-12T05:50:32.840784Z",
     "iopub.status.busy": "2023-01-12T05:50:32.838998Z",
     "iopub.status.idle": "2023-01-12T05:50:32.847740Z",
     "shell.execute_reply": "2023-01-12T05:50:32.846693Z"
    },
    "papermill": {
     "duration": 0.02193,
     "end_time": "2023-01-12T05:50:32.849879",
     "exception": false,
     "start_time": "2023-01-12T05:50:32.827949",
     "status": "completed"
    },
    "tags": []
   },
   "outputs": [
    {
     "data": {
      "text/plain": [
       "target      object\n",
       "Weight     float64\n",
       "Length1    float64\n",
       "Length2    float64\n",
       "Length3    float64\n",
       "Height     float64\n",
       "Width      float64\n",
       "dtype: object"
      ]
     },
     "execution_count": 7,
     "metadata": {},
     "output_type": "execute_result"
    }
   ],
   "source": [
    "df.dtypes"
   ]
  },
  {
   "cell_type": "code",
   "execution_count": 8,
   "id": "021d9aad",
   "metadata": {
    "execution": {
     "iopub.execute_input": "2023-01-12T05:50:32.872473Z",
     "iopub.status.busy": "2023-01-12T05:50:32.870924Z",
     "iopub.status.idle": "2023-01-12T05:50:33.825083Z",
     "shell.execute_reply": "2023-01-12T05:50:33.824156Z"
    },
    "papermill": {
     "duration": 0.96721,
     "end_time": "2023-01-12T05:50:33.827199",
     "exception": false,
     "start_time": "2023-01-12T05:50:32.859989",
     "status": "completed"
    },
    "tags": []
   },
   "outputs": [
    {
     "data": {
      "image/png": "[encoded data removed]",
      "text/plain": [
       "<Figure size 360x2880 with 6 Axes>"
      ]
     },
     "metadata": {},
     "output_type": "display_data"
    }
   ],
   "source": [
    "sns.set_style('darkgrid')\n",
    "\n",
    "fig, ax = plt.subplots(nrows=6, figsize=(5,40))\n",
    "\n",
    "for i,c in enumerate(col_list):\n",
    "    sns.boxplot(x=c, data=df, ax=ax[int(i)])\n",
    "    "
   ]
  },
  {
   "cell_type": "markdown",
   "id": "7caa44e3",
   "metadata": {
    "papermill": {
     "duration": 0.009087,
     "end_time": "2023-01-12T05:50:33.845847",
     "exception": false,
     "start_time": "2023-01-12T05:50:33.836760",
     "status": "completed"
    },
    "tags": []
   },
   "source": [
    "There are some overliers in Roach, Smelt."
   ]
  },
  {
   "cell_type": "code",
   "execution_count": 9,
   "id": "248ca872",
   "metadata": {
    "execution": {
     "iopub.execute_input": "2023-01-12T05:50:33.866207Z",
     "iopub.status.busy": "2023-01-12T05:50:33.865250Z",
     "iopub.status.idle": "2023-01-12T05:50:33.881863Z",
     "shell.execute_reply": "2023-01-12T05:50:33.880745Z"
    },
    "papermill": {
     "duration": 0.029697,
     "end_time": "2023-01-12T05:50:33.884751",
     "exception": false,
     "start_time": "2023-01-12T05:50:33.855054",
     "status": "completed"
    },
    "tags": []
   },
   "outputs": [
    {
     "name": "stdout",
     "output_type": "stream",
     "text": [
      "delete outlier success\n"
     ]
    },
    {
     "name": "stderr",
     "output_type": "stream",
     "text": [
      "/opt/conda/lib/python3.7/site-packages/ipykernel_launcher.py:16: FutureWarning: Automatic reindexing on DataFrame vs Series comparisons is deprecated and will raise ValueError in a future version.  Do `left, right = left.align(right, axis=1, copy=False)` before e.g. `left == right`\n",
      "  \n"
     ]
    }
   ],
   "source": [
    "#delete outlier\n",
    "'''\n",
    "df_outlier = df[(abs(df[col_list]-np.mean(df[col_list]))/np.std(df[col_list])<=3)].reset_index()\n",
    "df_outlier['target'] = df['target']\n",
    "df = df_outlier.drop(['index'], axis=1)\n",
    "df.head()\n",
    "'''\n",
    "\n",
    "#I don't know the reason but when I used this code to delete outliers, it caused more outliers\n",
    "\n",
    "# @wonduk gave me some advice!\n",
    "## Delete outlier using |Q1-Q2|\n",
    "Q1 = df.quantile(0.25)\n",
    "Q3 = df.quantile(0.75)\n",
    "IQR = Q3 - Q1\n",
    "df = df[~((df<(Q1-1.5*IQR))|(df>(Q3+1.5*IQR))).any(axis=1)]\n",
    "print(\"delete outlier success\")\n",
    "#df = df.query('~(%s<@)')\n",
    "#df = df[~((df[col] < (feature_value_less_than_3sigma)) |(df[col] > (feature_value_greater_than_3sigma)))]\n",
    "#df = df.query('~(%s < @feature_value_less_than_3sigma or %s > @feature_value_greater_than_3sigma)' %(col,col))\n",
    "  "
   ]
  },
  {
   "cell_type": "markdown",
   "id": "8ced1863",
   "metadata": {
    "papermill": {
     "duration": 0.009196,
     "end_time": "2023-01-12T05:50:33.904270",
     "exception": false,
     "start_time": "2023-01-12T05:50:33.895074",
     "status": "completed"
    },
    "tags": []
   },
   "source": [
    "<h2>Feature scaling</h2>"
   ]
  },
  {
   "cell_type": "markdown",
   "id": "a44914fc",
   "metadata": {
    "papermill": {
     "duration": 0.00925,
     "end_time": "2023-01-12T05:50:33.922813",
     "exception": false,
     "start_time": "2023-01-12T05:50:33.913563",
     "status": "completed"
    },
    "tags": []
   },
   "source": [
    "<h3>Standaridization</h3>"
   ]
  },
  {
   "cell_type": "code",
   "execution_count": 10,
   "id": "4df0e602",
   "metadata": {
    "execution": {
     "iopub.execute_input": "2023-01-12T05:50:33.943374Z",
     "iopub.status.busy": "2023-01-12T05:50:33.942505Z",
     "iopub.status.idle": "2023-01-12T05:50:34.072189Z",
     "shell.execute_reply": "2023-01-12T05:50:34.071187Z"
    },
    "papermill": {
     "duration": 0.142082,
     "end_time": "2023-01-12T05:50:34.074233",
     "exception": false,
     "start_time": "2023-01-12T05:50:33.932151",
     "status": "completed"
    },
    "tags": []
   },
   "outputs": [
    {
     "data": {
      "text/html": [
       "<div>\n",
       "<style scoped>\n",
       "    .dataframe tbody tr th:only-of-type {\n",
       "        vertical-align: middle;\n",
       "    }\n",
       "\n",
       "    .dataframe tbody tr th {\n",
       "        vertical-align: top;\n",
       "    }\n",
       "\n",
       "    .dataframe thead th {\n",
       "        text-align: right;\n",
       "    }\n",
       "</style>\n",
       "<table border=\"1\" class=\"dataframe\">\n",
       "  <thead>\n",
       "    <tr style=\"text-align: right;\">\n",
       "      <th></th>\n",
       "      <th>Weight</th>\n",
       "      <th>Length1</th>\n",
       "      <th>Length2</th>\n",
       "      <th>Length3</th>\n",
       "      <th>Height</th>\n",
       "      <th>Width</th>\n",
       "    </tr>\n",
       "  </thead>\n",
       "  <tbody>\n",
       "    <tr>\n",
       "      <th>0</th>\n",
       "      <td>-0.416894</td>\n",
       "      <td>-0.269284</td>\n",
       "      <td>-0.243707</td>\n",
       "      <td>-0.053402</td>\n",
       "      <td>0.594052</td>\n",
       "      <td>-0.212727</td>\n",
       "    </tr>\n",
       "    <tr>\n",
       "      <th>1</th>\n",
       "      <td>-0.266682</td>\n",
       "      <td>-0.181561</td>\n",
       "      <td>-0.151801</td>\n",
       "      <td>0.058796</td>\n",
       "      <td>0.816051</td>\n",
       "      <td>-0.041933</td>\n",
       "    </tr>\n",
       "    <tr>\n",
       "      <th>2</th>\n",
       "      <td>-0.110210</td>\n",
       "      <td>-0.192526</td>\n",
       "      <td>-0.131378</td>\n",
       "      <td>0.049446</td>\n",
       "      <td>0.792418</td>\n",
       "      <td>0.191594</td>\n",
       "    </tr>\n",
       "    <tr>\n",
       "      <th>3</th>\n",
       "      <td>-0.038233</td>\n",
       "      <td>0.070642</td>\n",
       "      <td>0.123916</td>\n",
       "      <td>0.273843</td>\n",
       "      <td>0.873864</td>\n",
       "      <td>0.047710</td>\n",
       "    </tr>\n",
       "    <tr>\n",
       "      <th>4</th>\n",
       "      <td>0.171439</td>\n",
       "      <td>0.092573</td>\n",
       "      <td>0.123916</td>\n",
       "      <td>0.320592</td>\n",
       "      <td>0.807726</td>\n",
       "      <td>0.453466</td>\n",
       "    </tr>\n",
       "  </tbody>\n",
       "</table>\n",
       "</div>"
      ],
      "text/plain": [
       "     Weight   Length1   Length2   Length3    Height     Width\n",
       "0 -0.416894 -0.269284 -0.243707 -0.053402  0.594052 -0.212727\n",
       "1 -0.266682 -0.181561 -0.151801  0.058796  0.816051 -0.041933\n",
       "2 -0.110210 -0.192526 -0.131378  0.049446  0.792418  0.191594\n",
       "3 -0.038233  0.070642  0.123916  0.273843  0.873864  0.047710\n",
       "4  0.171439  0.092573  0.123916  0.320592  0.807726  0.453466"
      ]
     },
     "execution_count": 10,
     "metadata": {},
     "output_type": "execute_result"
    }
   ],
   "source": [
    "from sklearn.preprocessing import StandardScaler\n",
    "df_std = (df[col_list]-df[col_list].mean())/df[col_list].std()\n",
    "df_std.head()"
   ]
  },
  {
   "cell_type": "markdown",
   "id": "c22f11e9",
   "metadata": {
    "papermill": {
     "duration": 0.009514,
     "end_time": "2023-01-12T05:50:34.093726",
     "exception": false,
     "start_time": "2023-01-12T05:50:34.084212",
     "status": "completed"
    },
    "tags": []
   },
   "source": [
    "<h3>Min-Max scaling</h3>"
   ]
  },
  {
   "cell_type": "code",
   "execution_count": 11,
   "id": "b9091ed2",
   "metadata": {
    "execution": {
     "iopub.execute_input": "2023-01-12T05:50:34.114506Z",
     "iopub.status.busy": "2023-01-12T05:50:34.113683Z",
     "iopub.status.idle": "2023-01-12T05:50:34.130398Z",
     "shell.execute_reply": "2023-01-12T05:50:34.129328Z"
    },
    "papermill": {
     "duration": 0.029029,
     "end_time": "2023-01-12T05:50:34.132331",
     "exception": false,
     "start_time": "2023-01-12T05:50:34.103302",
     "status": "completed"
    },
    "tags": []
   },
   "outputs": [
    {
     "data": {
      "text/html": [
       "<div>\n",
       "<style scoped>\n",
       "    .dataframe tbody tr th:only-of-type {\n",
       "        vertical-align: middle;\n",
       "    }\n",
       "\n",
       "    .dataframe tbody tr th {\n",
       "        vertical-align: top;\n",
       "    }\n",
       "\n",
       "    .dataframe thead th {\n",
       "        text-align: right;\n",
       "    }\n",
       "</style>\n",
       "<table border=\"1\" class=\"dataframe\">\n",
       "  <thead>\n",
       "    <tr style=\"text-align: right;\">\n",
       "      <th></th>\n",
       "      <th>Weight</th>\n",
       "      <th>Length1</th>\n",
       "      <th>Length2</th>\n",
       "      <th>Length3</th>\n",
       "      <th>Height</th>\n",
       "      <th>Width</th>\n",
       "    </tr>\n",
       "  </thead>\n",
       "  <tbody>\n",
       "    <tr>\n",
       "      <th>0</th>\n",
       "      <td>0.1936</td>\n",
       "      <td>0.352809</td>\n",
       "      <td>0.357143</td>\n",
       "      <td>0.416503</td>\n",
       "      <td>0.568334</td>\n",
       "      <td>0.418978</td>\n",
       "    </tr>\n",
       "    <tr>\n",
       "      <th>1</th>\n",
       "      <td>0.2320</td>\n",
       "      <td>0.370787</td>\n",
       "      <td>0.376050</td>\n",
       "      <td>0.440079</td>\n",
       "      <td>0.624055</td>\n",
       "      <td>0.459235</td>\n",
       "    </tr>\n",
       "    <tr>\n",
       "      <th>2</th>\n",
       "      <td>0.2720</td>\n",
       "      <td>0.368539</td>\n",
       "      <td>0.380252</td>\n",
       "      <td>0.438114</td>\n",
       "      <td>0.618123</td>\n",
       "      <td>0.514279</td>\n",
       "    </tr>\n",
       "    <tr>\n",
       "      <th>3</th>\n",
       "      <td>0.2904</td>\n",
       "      <td>0.422472</td>\n",
       "      <td>0.432773</td>\n",
       "      <td>0.485265</td>\n",
       "      <td>0.638566</td>\n",
       "      <td>0.480365</td>\n",
       "    </tr>\n",
       "    <tr>\n",
       "      <th>4</th>\n",
       "      <td>0.3440</td>\n",
       "      <td>0.426966</td>\n",
       "      <td>0.432773</td>\n",
       "      <td>0.495088</td>\n",
       "      <td>0.621966</td>\n",
       "      <td>0.576004</td>\n",
       "    </tr>\n",
       "  </tbody>\n",
       "</table>\n",
       "</div>"
      ],
      "text/plain": [
       "   Weight   Length1   Length2   Length3    Height     Width\n",
       "0  0.1936  0.352809  0.357143  0.416503  0.568334  0.418978\n",
       "1  0.2320  0.370787  0.376050  0.440079  0.624055  0.459235\n",
       "2  0.2720  0.368539  0.380252  0.438114  0.618123  0.514279\n",
       "3  0.2904  0.422472  0.432773  0.485265  0.638566  0.480365\n",
       "4  0.3440  0.426966  0.432773  0.495088  0.621966  0.576004"
      ]
     },
     "execution_count": 11,
     "metadata": {},
     "output_type": "execute_result"
    }
   ],
   "source": [
    "df_std[col_list] = (df_std[col_list]-df_std[col_list].min())/(df_std[col_list].max()-df_std[col_list].min())\n",
    "df_std.head()"
   ]
  },
  {
   "cell_type": "code",
   "execution_count": 12,
   "id": "cfb9425a",
   "metadata": {
    "execution": {
     "iopub.execute_input": "2023-01-12T05:50:34.153625Z",
     "iopub.status.busy": "2023-01-12T05:50:34.152826Z",
     "iopub.status.idle": "2023-01-12T05:50:34.179130Z",
     "shell.execute_reply": "2023-01-12T05:50:34.178249Z"
    },
    "papermill": {
     "duration": 0.038942,
     "end_time": "2023-01-12T05:50:34.181139",
     "exception": false,
     "start_time": "2023-01-12T05:50:34.142197",
     "status": "completed"
    },
    "tags": []
   },
   "outputs": [
    {
     "data": {
      "text/html": [
       "<div>\n",
       "<style scoped>\n",
       "    .dataframe tbody tr th:only-of-type {\n",
       "        vertical-align: middle;\n",
       "    }\n",
       "\n",
       "    .dataframe tbody tr th {\n",
       "        vertical-align: top;\n",
       "    }\n",
       "\n",
       "    .dataframe thead th {\n",
       "        text-align: right;\n",
       "    }\n",
       "</style>\n",
       "<table border=\"1\" class=\"dataframe\">\n",
       "  <thead>\n",
       "    <tr style=\"text-align: right;\">\n",
       "      <th></th>\n",
       "      <th>Weight</th>\n",
       "      <th>Length1</th>\n",
       "      <th>Length2</th>\n",
       "      <th>Length3</th>\n",
       "      <th>Height</th>\n",
       "      <th>Width</th>\n",
       "    </tr>\n",
       "  </thead>\n",
       "  <tbody>\n",
       "    <tr>\n",
       "      <th>count</th>\n",
       "      <td>156.000000</td>\n",
       "      <td>156.000000</td>\n",
       "      <td>156.000000</td>\n",
       "      <td>156.000000</td>\n",
       "      <td>156.000000</td>\n",
       "      <td>156.000000</td>\n",
       "    </tr>\n",
       "    <tr>\n",
       "      <th>mean</th>\n",
       "      <td>0.300174</td>\n",
       "      <td>0.407995</td>\n",
       "      <td>0.407280</td>\n",
       "      <td>0.427724</td>\n",
       "      <td>0.419229</td>\n",
       "      <td>0.469119</td>\n",
       "    </tr>\n",
       "    <tr>\n",
       "      <th>std</th>\n",
       "      <td>0.255638</td>\n",
       "      <td>0.204935</td>\n",
       "      <td>0.205728</td>\n",
       "      <td>0.210125</td>\n",
       "      <td>0.250997</td>\n",
       "      <td>0.235705</td>\n",
       "    </tr>\n",
       "    <tr>\n",
       "      <th>min</th>\n",
       "      <td>0.000000</td>\n",
       "      <td>0.000000</td>\n",
       "      <td>0.000000</td>\n",
       "      <td>0.000000</td>\n",
       "      <td>0.000000</td>\n",
       "      <td>0.000000</td>\n",
       "    </tr>\n",
       "    <tr>\n",
       "      <th>25%</th>\n",
       "      <td>0.096000</td>\n",
       "      <td>0.258427</td>\n",
       "      <td>0.264706</td>\n",
       "      <td>0.279470</td>\n",
       "      <td>0.243971</td>\n",
       "      <td>0.327300</td>\n",
       "    </tr>\n",
       "    <tr>\n",
       "      <th>50%</th>\n",
       "      <td>0.216800</td>\n",
       "      <td>0.393258</td>\n",
       "      <td>0.385504</td>\n",
       "      <td>0.401768</td>\n",
       "      <td>0.343580</td>\n",
       "      <td>0.450454</td>\n",
       "    </tr>\n",
       "    <tr>\n",
       "      <th>75%</th>\n",
       "      <td>0.490000</td>\n",
       "      <td>0.553371</td>\n",
       "      <td>0.558824</td>\n",
       "      <td>0.601670</td>\n",
       "      <td>0.618167</td>\n",
       "      <td>0.616934</td>\n",
       "    </tr>\n",
       "    <tr>\n",
       "      <th>max</th>\n",
       "      <td>1.000000</td>\n",
       "      <td>1.000000</td>\n",
       "      <td>1.000000</td>\n",
       "      <td>1.000000</td>\n",
       "      <td>1.000000</td>\n",
       "      <td>1.000000</td>\n",
       "    </tr>\n",
       "  </tbody>\n",
       "</table>\n",
       "</div>"
      ],
      "text/plain": [
       "           Weight     Length1     Length2     Length3      Height       Width\n",
       "count  156.000000  156.000000  156.000000  156.000000  156.000000  156.000000\n",
       "mean     0.300174    0.407995    0.407280    0.427724    0.419229    0.469119\n",
       "std      0.255638    0.204935    0.205728    0.210125    0.250997    0.235705\n",
       "min      0.000000    0.000000    0.000000    0.000000    0.000000    0.000000\n",
       "25%      0.096000    0.258427    0.264706    0.279470    0.243971    0.327300\n",
       "50%      0.216800    0.393258    0.385504    0.401768    0.343580    0.450454\n",
       "75%      0.490000    0.553371    0.558824    0.601670    0.618167    0.616934\n",
       "max      1.000000    1.000000    1.000000    1.000000    1.000000    1.000000"
      ]
     },
     "execution_count": 12,
     "metadata": {},
     "output_type": "execute_result"
    }
   ],
   "source": [
    "df_std.describe()"
   ]
  },
  {
   "cell_type": "code",
   "execution_count": 13,
   "id": "5885e81d",
   "metadata": {
    "execution": {
     "iopub.execute_input": "2023-01-12T05:50:34.203684Z",
     "iopub.status.busy": "2023-01-12T05:50:34.201914Z",
     "iopub.status.idle": "2023-01-12T05:50:34.215759Z",
     "shell.execute_reply": "2023-01-12T05:50:34.214784Z"
    },
    "papermill": {
     "duration": 0.026688,
     "end_time": "2023-01-12T05:50:34.217791",
     "exception": false,
     "start_time": "2023-01-12T05:50:34.191103",
     "status": "completed"
    },
    "tags": []
   },
   "outputs": [
    {
     "data": {
      "text/html": [
       "<div>\n",
       "<style scoped>\n",
       "    .dataframe tbody tr th:only-of-type {\n",
       "        vertical-align: middle;\n",
       "    }\n",
       "\n",
       "    .dataframe tbody tr th {\n",
       "        vertical-align: top;\n",
       "    }\n",
       "\n",
       "    .dataframe thead th {\n",
       "        text-align: right;\n",
       "    }\n",
       "</style>\n",
       "<table border=\"1\" class=\"dataframe\">\n",
       "  <thead>\n",
       "    <tr style=\"text-align: right;\">\n",
       "      <th></th>\n",
       "      <th>Weight</th>\n",
       "      <th>Length1</th>\n",
       "      <th>Length2</th>\n",
       "      <th>Length3</th>\n",
       "      <th>Height</th>\n",
       "      <th>Width</th>\n",
       "      <th>target</th>\n",
       "    </tr>\n",
       "  </thead>\n",
       "  <tbody>\n",
       "    <tr>\n",
       "      <th>0</th>\n",
       "      <td>0.1936</td>\n",
       "      <td>0.352809</td>\n",
       "      <td>0.357143</td>\n",
       "      <td>0.416503</td>\n",
       "      <td>0.568334</td>\n",
       "      <td>0.418978</td>\n",
       "      <td>Bream</td>\n",
       "    </tr>\n",
       "    <tr>\n",
       "      <th>1</th>\n",
       "      <td>0.2320</td>\n",
       "      <td>0.370787</td>\n",
       "      <td>0.376050</td>\n",
       "      <td>0.440079</td>\n",
       "      <td>0.624055</td>\n",
       "      <td>0.459235</td>\n",
       "      <td>Bream</td>\n",
       "    </tr>\n",
       "    <tr>\n",
       "      <th>2</th>\n",
       "      <td>0.2720</td>\n",
       "      <td>0.368539</td>\n",
       "      <td>0.380252</td>\n",
       "      <td>0.438114</td>\n",
       "      <td>0.618123</td>\n",
       "      <td>0.514279</td>\n",
       "      <td>Bream</td>\n",
       "    </tr>\n",
       "    <tr>\n",
       "      <th>3</th>\n",
       "      <td>0.2904</td>\n",
       "      <td>0.422472</td>\n",
       "      <td>0.432773</td>\n",
       "      <td>0.485265</td>\n",
       "      <td>0.638566</td>\n",
       "      <td>0.480365</td>\n",
       "      <td>Bream</td>\n",
       "    </tr>\n",
       "    <tr>\n",
       "      <th>4</th>\n",
       "      <td>0.3440</td>\n",
       "      <td>0.426966</td>\n",
       "      <td>0.432773</td>\n",
       "      <td>0.495088</td>\n",
       "      <td>0.621966</td>\n",
       "      <td>0.576004</td>\n",
       "      <td>Bream</td>\n",
       "    </tr>\n",
       "  </tbody>\n",
       "</table>\n",
       "</div>"
      ],
      "text/plain": [
       "   Weight   Length1   Length2   Length3    Height     Width target\n",
       "0  0.1936  0.352809  0.357143  0.416503  0.568334  0.418978  Bream\n",
       "1  0.2320  0.370787  0.376050  0.440079  0.624055  0.459235  Bream\n",
       "2  0.2720  0.368539  0.380252  0.438114  0.618123  0.514279  Bream\n",
       "3  0.2904  0.422472  0.432773  0.485265  0.638566  0.480365  Bream\n",
       "4  0.3440  0.426966  0.432773  0.495088  0.621966  0.576004  Bream"
      ]
     },
     "execution_count": 13,
     "metadata": {},
     "output_type": "execute_result"
    }
   ],
   "source": [
    "df_std['target'] = df['target']\n",
    "df = df_std\n",
    "df.head()"
   ]
  },
  {
   "cell_type": "code",
   "execution_count": 14,
   "id": "dc0f63be",
   "metadata": {
    "execution": {
     "iopub.execute_input": "2023-01-12T05:50:34.239481Z",
     "iopub.status.busy": "2023-01-12T05:50:34.239199Z",
     "iopub.status.idle": "2023-01-12T05:50:35.115206Z",
     "shell.execute_reply": "2023-01-12T05:50:35.114321Z"
    },
    "papermill": {
     "duration": 0.89022,
     "end_time": "2023-01-12T05:50:35.118333",
     "exception": false,
     "start_time": "2023-01-12T05:50:34.228113",
     "status": "completed"
    },
    "tags": []
   },
   "outputs": [
    {
     "data": {
      "image/png": "[encoded data removed]",
      "text/plain": [
       "<Figure size 360x2880 with 6 Axes>"
      ]
     },
     "metadata": {},
     "output_type": "display_data"
    }
   ],
   "source": [
    "sns.set_style('darkgrid')\n",
    "\n",
    "fig, ax = plt.subplots(nrows=6, figsize=(5,40))\n",
    "\n",
    "for i,c in enumerate(col_list):\n",
    "    sns.boxplot(x=c, data=df, ax=ax[int(i)])\n",
    "    \n",
    "    "
   ]
  },
  {
   "cell_type": "markdown",
   "id": "77403135",
   "metadata": {
    "papermill": {
     "duration": 0.011576,
     "end_time": "2023-01-12T05:50:35.142330",
     "exception": false,
     "start_time": "2023-01-12T05:50:35.130754",
     "status": "completed"
    },
    "tags": []
   },
   "source": [
    "<div style=\"text-align: left; background-color: #2D70B7; color: white; padding: 5px; line-height: 1; border-radius:10px\"> <center> <h3> 3. EDA </h3> </center> </div>\n"
   ]
  },
  {
   "cell_type": "code",
   "execution_count": 15,
   "id": "4355ba95",
   "metadata": {
    "execution": {
     "iopub.execute_input": "2023-01-12T05:50:35.164824Z",
     "iopub.status.busy": "2023-01-12T05:50:35.164515Z",
     "iopub.status.idle": "2023-01-12T05:50:35.368256Z",
     "shell.execute_reply": "2023-01-12T05:50:35.367344Z"
    },
    "papermill": {
     "duration": 0.217437,
     "end_time": "2023-01-12T05:50:35.370298",
     "exception": false,
     "start_time": "2023-01-12T05:50:35.152861",
     "status": "completed"
    },
    "tags": []
   },
   "outputs": [
    {
     "data": {
      "image/png": "[encoded data removed]",
      "text/plain": [
       "<Figure size 720x720 with 1 Axes>"
      ]
     },
     "metadata": {},
     "output_type": "display_data"
    },
    {
     "data": {
      "text/plain": [
       "Perch        56\n",
       "Bream        35\n",
       "Roach        20\n",
       "Pike         14\n",
       "Smelt        14\n",
       "Parkki       11\n",
       "Whitefish     6\n",
       "Name: target, dtype: int64"
      ]
     },
     "execution_count": 15,
     "metadata": {},
     "output_type": "execute_result"
    }
   ],
   "source": [
    "df_species = df['target'].value_counts()\n",
    "df_species.sort_values(ascending=False, inplace=True)\n",
    "\n",
    "fig, ax = plt.subplots(1, figsize=(10,10))\n",
    "squarify.plot(sizes=df_species.values, \n",
    "              label=[df_species.index[i]+'\\n'+str(df_species.values[i]) for i in range(len(df_species))],\n",
    "              #color= ,\n",
    "              text_kwargs={'fontsize':14},\n",
    "              pad = True,\n",
    "              alpha=0.6)\n",
    "plt.title(\"Fish species saling in Fish market\", fontsize=20)\n",
    "plt.axis('off')\n",
    "plt.show()\n",
    "df_species"
   ]
  },
  {
   "cell_type": "code",
   "execution_count": 16,
   "id": "db3015cc",
   "metadata": {
    "execution": {
     "iopub.execute_input": "2023-01-12T05:50:35.394334Z",
     "iopub.status.busy": "2023-01-12T05:50:35.393987Z",
     "iopub.status.idle": "2023-01-12T05:50:35.407338Z",
     "shell.execute_reply": "2023-01-12T05:50:35.406255Z"
    },
    "papermill": {
     "duration": 0.027618,
     "end_time": "2023-01-12T05:50:35.409446",
     "exception": false,
     "start_time": "2023-01-12T05:50:35.381828",
     "status": "completed"
    },
    "tags": []
   },
   "outputs": [
    {
     "data": {
      "text/html": [
       "<div>\n",
       "<style scoped>\n",
       "    .dataframe tbody tr th:only-of-type {\n",
       "        vertical-align: middle;\n",
       "    }\n",
       "\n",
       "    .dataframe tbody tr th {\n",
       "        vertical-align: top;\n",
       "    }\n",
       "\n",
       "    .dataframe thead th {\n",
       "        text-align: right;\n",
       "    }\n",
       "</style>\n",
       "<table border=\"1\" class=\"dataframe\">\n",
       "  <thead>\n",
       "    <tr style=\"text-align: right;\">\n",
       "      <th></th>\n",
       "      <th>Weight</th>\n",
       "      <th>Length1</th>\n",
       "      <th>Length2</th>\n",
       "      <th>Length3</th>\n",
       "      <th>Height</th>\n",
       "      <th>Width</th>\n",
       "      <th>target</th>\n",
       "    </tr>\n",
       "  </thead>\n",
       "  <tbody>\n",
       "    <tr>\n",
       "      <th>0</th>\n",
       "      <td>0.1936</td>\n",
       "      <td>0.352809</td>\n",
       "      <td>0.357143</td>\n",
       "      <td>0.416503</td>\n",
       "      <td>0.568334</td>\n",
       "      <td>0.418978</td>\n",
       "      <td>Bream</td>\n",
       "    </tr>\n",
       "    <tr>\n",
       "      <th>1</th>\n",
       "      <td>0.2320</td>\n",
       "      <td>0.370787</td>\n",
       "      <td>0.376050</td>\n",
       "      <td>0.440079</td>\n",
       "      <td>0.624055</td>\n",
       "      <td>0.459235</td>\n",
       "      <td>Bream</td>\n",
       "    </tr>\n",
       "    <tr>\n",
       "      <th>2</th>\n",
       "      <td>0.2720</td>\n",
       "      <td>0.368539</td>\n",
       "      <td>0.380252</td>\n",
       "      <td>0.438114</td>\n",
       "      <td>0.618123</td>\n",
       "      <td>0.514279</td>\n",
       "      <td>Bream</td>\n",
       "    </tr>\n",
       "    <tr>\n",
       "      <th>3</th>\n",
       "      <td>0.2904</td>\n",
       "      <td>0.422472</td>\n",
       "      <td>0.432773</td>\n",
       "      <td>0.485265</td>\n",
       "      <td>0.638566</td>\n",
       "      <td>0.480365</td>\n",
       "      <td>Bream</td>\n",
       "    </tr>\n",
       "    <tr>\n",
       "      <th>4</th>\n",
       "      <td>0.3440</td>\n",
       "      <td>0.426966</td>\n",
       "      <td>0.432773</td>\n",
       "      <td>0.495088</td>\n",
       "      <td>0.621966</td>\n",
       "      <td>0.576004</td>\n",
       "      <td>Bream</td>\n",
       "    </tr>\n",
       "  </tbody>\n",
       "</table>\n",
       "</div>"
      ],
      "text/plain": [
       "   Weight   Length1   Length2   Length3    Height     Width target\n",
       "0  0.1936  0.352809  0.357143  0.416503  0.568334  0.418978  Bream\n",
       "1  0.2320  0.370787  0.376050  0.440079  0.624055  0.459235  Bream\n",
       "2  0.2720  0.368539  0.380252  0.438114  0.618123  0.514279  Bream\n",
       "3  0.2904  0.422472  0.432773  0.485265  0.638566  0.480365  Bream\n",
       "4  0.3440  0.426966  0.432773  0.495088  0.621966  0.576004  Bream"
      ]
     },
     "execution_count": 16,
     "metadata": {},
     "output_type": "execute_result"
    }
   ],
   "source": [
    "df.head()"
   ]
  },
  {
   "cell_type": "markdown",
   "id": "04706bad",
   "metadata": {
    "papermill": {
     "duration": 0.011641,
     "end_time": "2023-01-12T05:50:35.433092",
     "exception": false,
     "start_time": "2023-01-12T05:50:35.421451",
     "status": "completed"
    },
    "tags": []
   },
   "source": [
    "Change feature name \"Species\" as \"target\""
   ]
  },
  {
   "cell_type": "code",
   "execution_count": 17,
   "id": "218c8f6a",
   "metadata": {
    "execution": {
     "iopub.execute_input": "2023-01-12T05:50:35.457432Z",
     "iopub.status.busy": "2023-01-12T05:50:35.456643Z",
     "iopub.status.idle": "2023-01-12T05:50:35.470075Z",
     "shell.execute_reply": "2023-01-12T05:50:35.468864Z"
    },
    "papermill": {
     "duration": 0.028072,
     "end_time": "2023-01-12T05:50:35.472203",
     "exception": false,
     "start_time": "2023-01-12T05:50:35.444131",
     "status": "completed"
    },
    "tags": []
   },
   "outputs": [
    {
     "name": "stdout",
     "output_type": "stream",
     "text": [
      "<class 'pandas.core.frame.DataFrame'>\n",
      "Int64Index: 156 entries, 0 to 158\n",
      "Data columns (total 7 columns):\n",
      " #   Column   Non-Null Count  Dtype  \n",
      "---  ------   --------------  -----  \n",
      " 0   Weight   156 non-null    float64\n",
      " 1   Length1  156 non-null    float64\n",
      " 2   Length2  156 non-null    float64\n",
      " 3   Length3  156 non-null    float64\n",
      " 4   Height   156 non-null    float64\n",
      " 5   Width    156 non-null    float64\n",
      " 6   target   156 non-null    object \n",
      "dtypes: float64(6), object(1)\n",
      "memory usage: 9.8+ KB\n"
     ]
    }
   ],
   "source": [
    "df.info()"
   ]
  },
  {
   "cell_type": "code",
   "execution_count": 18,
   "id": "23414f24",
   "metadata": {
    "execution": {
     "iopub.execute_input": "2023-01-12T05:50:35.506676Z",
     "iopub.status.busy": "2023-01-12T05:50:35.502126Z",
     "iopub.status.idle": "2023-01-12T05:50:36.762951Z",
     "shell.execute_reply": "2023-01-12T05:50:36.762011Z"
    },
    "papermill": {
     "duration": 1.281469,
     "end_time": "2023-01-12T05:50:36.765640",
     "exception": false,
     "start_time": "2023-01-12T05:50:35.484171",
     "status": "completed"
    },
    "tags": []
   },
   "outputs": [
    {
     "name": "stderr",
     "output_type": "stream",
     "text": [
      "/opt/conda/lib/python3.7/site-packages/seaborn/distributions.py:2619: FutureWarning: `distplot` is a deprecated function and will be removed in a future version. Please adapt your code to use either `displot` (a figure-level function with similar flexibility) or `histplot` (an axes-level function for histograms).\n",
      "  warnings.warn(msg, FutureWarning)\n",
      "/opt/conda/lib/python3.7/site-packages/seaborn/distributions.py:2619: FutureWarning: `distplot` is a deprecated function and will be removed in a future version. Please adapt your code to use either `displot` (a figure-level function with similar flexibility) or `histplot` (an axes-level function for histograms).\n",
      "  warnings.warn(msg, FutureWarning)\n",
      "/opt/conda/lib/python3.7/site-packages/seaborn/distributions.py:2619: FutureWarning: `distplot` is a deprecated function and will be removed in a future version. Please adapt your code to use either `displot` (a figure-level function with similar flexibility) or `histplot` (an axes-level function for histograms).\n",
      "  warnings.warn(msg, FutureWarning)\n",
      "/opt/conda/lib/python3.7/site-packages/seaborn/distributions.py:2619: FutureWarning: `distplot` is a deprecated function and will be removed in a future version. Please adapt your code to use either `displot` (a figure-level function with similar flexibility) or `histplot` (an axes-level function for histograms).\n",
      "  warnings.warn(msg, FutureWarning)\n",
      "/opt/conda/lib/python3.7/site-packages/seaborn/distributions.py:2619: FutureWarning: `distplot` is a deprecated function and will be removed in a future version. Please adapt your code to use either `displot` (a figure-level function with similar flexibility) or `histplot` (an axes-level function for histograms).\n",
      "  warnings.warn(msg, FutureWarning)\n",
      "/opt/conda/lib/python3.7/site-packages/seaborn/distributions.py:2619: FutureWarning: `distplot` is a deprecated function and will be removed in a future version. Please adapt your code to use either `displot` (a figure-level function with similar flexibility) or `histplot` (an axes-level function for histograms).\n",
      "  warnings.warn(msg, FutureWarning)\n"
     ]
    },
    {
     "data": {
      "image/png": "[encoded data removed]",
      "text/plain": [
       "<Figure size 720x1080 with 6 Axes>"
      ]
     },
     "metadata": {},
     "output_type": "display_data"
    }
   ],
   "source": [
    "sns.set_style('darkgrid')\n",
    "\n",
    "fig, ax = plt.subplots(nrows=3, ncols=2, figsize=(10,15))\n",
    "\n",
    "for i,c in enumerate(col_list):\n",
    "    sns.distplot(df[c], ax=ax[int(i/2),int(i%2)])\n",
    "    "
   ]
  },
  {
   "cell_type": "code",
   "execution_count": 19,
   "id": "79518617",
   "metadata": {
    "execution": {
     "iopub.execute_input": "2023-01-12T05:50:36.792860Z",
     "iopub.status.busy": "2023-01-12T05:50:36.792544Z",
     "iopub.status.idle": "2023-01-12T05:50:37.359079Z",
     "shell.execute_reply": "2023-01-12T05:50:37.358176Z"
    },
    "papermill": {
     "duration": 0.582423,
     "end_time": "2023-01-12T05:50:37.361433",
     "exception": false,
     "start_time": "2023-01-12T05:50:36.779010",
     "status": "completed"
    },
    "tags": []
   },
   "outputs": [
    {
     "data": {
      "text/plain": [
       "<AxesSubplot:>"
      ]
     },
     "execution_count": 19,
     "metadata": {},
     "output_type": "execute_result"
    },
    {
     "data": {
      "image/png": "[encoded data removed]",
      "text/plain": [
       "<Figure size 720x720 with 2 Axes>"
      ]
     },
     "metadata": {},
     "output_type": "display_data"
    }
   ],
   "source": [
    "plt.figure(figsize=(10,10))\n",
    "correlation = df.corr()\n",
    "sns.heatmap(correlation, cmap='GnBu', annot = True)"
   ]
  },
  {
   "cell_type": "markdown",
   "id": "52b290ef",
   "metadata": {
    "papermill": {
     "duration": 0.01378,
     "end_time": "2023-01-12T05:50:37.388907",
     "exception": false,
     "start_time": "2023-01-12T05:50:37.375127",
     "status": "completed"
    },
    "tags": []
   },
   "source": []
  },
  {
   "cell_type": "code",
   "execution_count": 20,
   "id": "a301c3d0",
   "metadata": {
    "execution": {
     "iopub.execute_input": "2023-01-12T05:50:37.417475Z",
     "iopub.status.busy": "2023-01-12T05:50:37.417122Z",
     "iopub.status.idle": "2023-01-12T05:50:37.425245Z",
     "shell.execute_reply": "2023-01-12T05:50:37.424258Z"
    },
    "papermill": {
     "duration": 0.025204,
     "end_time": "2023-01-12T05:50:37.427382",
     "exception": false,
     "start_time": "2023-01-12T05:50:37.402178",
     "status": "completed"
    },
    "tags": []
   },
   "outputs": [
    {
     "data": {
      "text/plain": [
       "Weight     float64\n",
       "Length1    float64\n",
       "Length2    float64\n",
       "Length3    float64\n",
       "Height     float64\n",
       "Width      float64\n",
       "target      object\n",
       "dtype: object"
      ]
     },
     "execution_count": 20,
     "metadata": {},
     "output_type": "execute_result"
    }
   ],
   "source": [
    "df.dtypes"
   ]
  },
  {
   "cell_type": "code",
   "execution_count": 21,
   "id": "0db4f831",
   "metadata": {
    "execution": {
     "iopub.execute_input": "2023-01-12T05:50:37.455571Z",
     "iopub.status.busy": "2023-01-12T05:50:37.454988Z",
     "iopub.status.idle": "2023-01-12T05:50:37.460598Z",
     "shell.execute_reply": "2023-01-12T05:50:37.459696Z"
    },
    "papermill": {
     "duration": 0.021748,
     "end_time": "2023-01-12T05:50:37.462541",
     "exception": false,
     "start_time": "2023-01-12T05:50:37.440793",
     "status": "completed"
    },
    "tags": []
   },
   "outputs": [],
   "source": [
    "for col in ['target']:\n",
    "    df[col] = df[col].astype('category')"
   ]
  },
  {
   "cell_type": "code",
   "execution_count": 22,
   "id": "9949c74f",
   "metadata": {
    "execution": {
     "iopub.execute_input": "2023-01-12T05:50:37.491868Z",
     "iopub.status.busy": "2023-01-12T05:50:37.490252Z",
     "iopub.status.idle": "2023-01-12T05:50:37.497805Z",
     "shell.execute_reply": "2023-01-12T05:50:37.496921Z"
    },
    "papermill": {
     "duration": 0.023851,
     "end_time": "2023-01-12T05:50:37.499734",
     "exception": false,
     "start_time": "2023-01-12T05:50:37.475883",
     "status": "completed"
    },
    "tags": []
   },
   "outputs": [
    {
     "data": {
      "text/plain": [
       "Weight      float64\n",
       "Length1     float64\n",
       "Length2     float64\n",
       "Length3     float64\n",
       "Height      float64\n",
       "Width       float64\n",
       "target     category\n",
       "dtype: object"
      ]
     },
     "execution_count": 22,
     "metadata": {},
     "output_type": "execute_result"
    }
   ],
   "source": [
    "df.dtypes"
   ]
  },
  {
   "cell_type": "code",
   "execution_count": 23,
   "id": "06d63a0c",
   "metadata": {
    "execution": {
     "iopub.execute_input": "2023-01-12T05:50:37.527738Z",
     "iopub.status.busy": "2023-01-12T05:50:37.526957Z",
     "iopub.status.idle": "2023-01-12T05:50:37.534919Z",
     "shell.execute_reply": "2023-01-12T05:50:37.534106Z"
    },
    "papermill": {
     "duration": 0.023999,
     "end_time": "2023-01-12T05:50:37.536914",
     "exception": false,
     "start_time": "2023-01-12T05:50:37.512915",
     "status": "completed"
    },
    "tags": []
   },
   "outputs": [],
   "source": [
    "df=pd.get_dummies(df)"
   ]
  },
  {
   "cell_type": "code",
   "execution_count": 24,
   "id": "99d8401f",
   "metadata": {
    "execution": {
     "iopub.execute_input": "2023-01-12T05:50:37.564671Z",
     "iopub.status.busy": "2023-01-12T05:50:37.564052Z",
     "iopub.status.idle": "2023-01-12T05:50:37.570344Z",
     "shell.execute_reply": "2023-01-12T05:50:37.569463Z"
    },
    "papermill": {
     "duration": 0.022407,
     "end_time": "2023-01-12T05:50:37.572305",
     "exception": false,
     "start_time": "2023-01-12T05:50:37.549898",
     "status": "completed"
    },
    "tags": []
   },
   "outputs": [
    {
     "data": {
      "text/plain": [
       "(156, 13)"
      ]
     },
     "execution_count": 24,
     "metadata": {},
     "output_type": "execute_result"
    }
   ],
   "source": [
    "df.shape"
   ]
  },
  {
   "cell_type": "code",
   "execution_count": 25,
   "id": "3f94f0ff",
   "metadata": {
    "execution": {
     "iopub.execute_input": "2023-01-12T05:50:37.600537Z",
     "iopub.status.busy": "2023-01-12T05:50:37.599672Z",
     "iopub.status.idle": "2023-01-12T05:50:37.651404Z",
     "shell.execute_reply": "2023-01-12T05:50:37.650514Z"
    },
    "papermill": {
     "duration": 0.068252,
     "end_time": "2023-01-12T05:50:37.653637",
     "exception": false,
     "start_time": "2023-01-12T05:50:37.585385",
     "status": "completed"
    },
    "tags": []
   },
   "outputs": [],
   "source": [
    "y=df[\"Weight\"]\n",
    "X=df.drop('Weight',axis=1)\n",
    "from sklearn.model_selection import train_test_split\n",
    "X_train,X_test,y_train,y_test=train_test_split(X,y, test_size=0.2,random_state=123)"
   ]
  },
  {
   "cell_type": "code",
   "execution_count": 26,
   "id": "905e0b78",
   "metadata": {
    "execution": {
     "iopub.execute_input": "2023-01-12T05:50:37.682572Z",
     "iopub.status.busy": "2023-01-12T05:50:37.681857Z",
     "iopub.status.idle": "2023-01-12T05:50:37.687230Z",
     "shell.execute_reply": "2023-01-12T05:50:37.686303Z"
    },
    "papermill": {
     "duration": 0.02262,
     "end_time": "2023-01-12T05:50:37.690070",
     "exception": false,
     "start_time": "2023-01-12T05:50:37.667450",
     "status": "completed"
    },
    "tags": []
   },
   "outputs": [
    {
     "name": "stdout",
     "output_type": "stream",
     "text": [
      "(124, 12)\n",
      "(32, 12)\n",
      "(124,)\n",
      "(32,)\n"
     ]
    }
   ],
   "source": [
    "print(X_train.shape)\n",
    "print(X_test.shape)\n",
    "print(y_train.shape)\n",
    "print(y_test.shape)"
   ]
  },
  {
   "cell_type": "code",
   "execution_count": 27,
   "id": "15d38b91",
   "metadata": {
    "execution": {
     "iopub.execute_input": "2023-01-12T05:50:37.719463Z",
     "iopub.status.busy": "2023-01-12T05:50:37.718679Z",
     "iopub.status.idle": "2023-01-12T05:50:37.726790Z",
     "shell.execute_reply": "2023-01-12T05:50:37.725779Z"
    },
    "papermill": {
     "duration": 0.024156,
     "end_time": "2023-01-12T05:50:37.728741",
     "exception": false,
     "start_time": "2023-01-12T05:50:37.704585",
     "status": "completed"
    },
    "tags": []
   },
   "outputs": [
    {
     "data": {
      "text/plain": [
       "Index(['Length1', 'Length2', 'Length3', 'Height', 'Width'], dtype='object')"
      ]
     },
     "execution_count": 27,
     "metadata": {},
     "output_type": "execute_result"
    }
   ],
   "source": [
    "num_attr=X_train.select_dtypes(['int64','float64']).columns\n",
    "num_attr"
   ]
  },
  {
   "cell_type": "code",
   "execution_count": 28,
   "id": "507e8a10",
   "metadata": {
    "execution": {
     "iopub.execute_input": "2023-01-12T05:50:37.757072Z",
     "iopub.status.busy": "2023-01-12T05:50:37.756456Z",
     "iopub.status.idle": "2023-01-12T05:50:37.769317Z",
     "shell.execute_reply": "2023-01-12T05:50:37.768331Z"
    },
    "papermill": {
     "duration": 0.029284,
     "end_time": "2023-01-12T05:50:37.771449",
     "exception": false,
     "start_time": "2023-01-12T05:50:37.742165",
     "status": "completed"
    },
    "tags": []
   },
   "outputs": [],
   "source": [
    "from sklearn.preprocessing import StandardScaler\n",
    "scaler=StandardScaler()\n",
    "X_train[num_attr]=scaler.fit_transform(X_train[num_attr])\n",
    "X_test[num_attr]=scaler.fit_transform(X_test[num_attr])"
   ]
  },
  {
   "cell_type": "code",
   "execution_count": 29,
   "id": "2a61c698",
   "metadata": {
    "execution": {
     "iopub.execute_input": "2023-01-12T05:50:37.800659Z",
     "iopub.status.busy": "2023-01-12T05:50:37.799962Z",
     "iopub.status.idle": "2023-01-12T05:50:37.805029Z",
     "shell.execute_reply": "2023-01-12T05:50:37.804119Z"
    },
    "papermill": {
     "duration": 0.022496,
     "end_time": "2023-01-12T05:50:37.807954",
     "exception": false,
     "start_time": "2023-01-12T05:50:37.785458",
     "status": "completed"
    },
    "tags": []
   },
   "outputs": [
    {
     "name": "stdout",
     "output_type": "stream",
     "text": [
      "(124, 12)\n",
      "(32, 12)\n"
     ]
    }
   ],
   "source": [
    "print(X_train.shape)\n",
    "print(X_test.shape)"
   ]
  },
  {
   "cell_type": "code",
   "execution_count": 30,
   "id": "2dd96d73",
   "metadata": {
    "execution": {
     "iopub.execute_input": "2023-01-12T05:50:37.837449Z",
     "iopub.status.busy": "2023-01-12T05:50:37.836560Z",
     "iopub.status.idle": "2023-01-12T05:50:37.902365Z",
     "shell.execute_reply": "2023-01-12T05:50:37.901459Z"
    },
    "papermill": {
     "duration": 0.082354,
     "end_time": "2023-01-12T05:50:37.904573",
     "exception": false,
     "start_time": "2023-01-12T05:50:37.822219",
     "status": "completed"
    },
    "tags": []
   },
   "outputs": [],
   "source": [
    "from sklearn.linear_model import LinearRegression\n",
    "LR=LinearRegression()\n",
    "LR.fit(X_train,y_train)\n",
    "X_train_pred=LR.predict(X_train)\n",
    "X_test_pred=LR.predict(X_test)"
   ]
  },
  {
   "cell_type": "markdown",
   "id": "fb136024",
   "metadata": {
    "papermill": {
     "duration": 0.013426,
     "end_time": "2023-01-12T05:50:37.931793",
     "exception": false,
     "start_time": "2023-01-12T05:50:37.918367",
     "status": "completed"
    },
    "tags": []
   },
   "source": [
    "#interpreting the linear model"
   ]
  },
  {
   "cell_type": "code",
   "execution_count": 31,
   "id": "5b350ef0",
   "metadata": {
    "execution": {
     "iopub.execute_input": "2023-01-12T05:50:37.960501Z",
     "iopub.status.busy": "2023-01-12T05:50:37.959679Z",
     "iopub.status.idle": "2023-01-12T05:50:38.480926Z",
     "shell.execute_reply": "2023-01-12T05:50:38.479000Z"
    },
    "papermill": {
     "duration": 0.538629,
     "end_time": "2023-01-12T05:50:38.483803",
     "exception": false,
     "start_time": "2023-01-12T05:50:37.945174",
     "status": "completed"
    },
    "tags": []
   },
   "outputs": [
    {
     "name": "stdout",
     "output_type": "stream",
     "text": [
      "Training set score: 0.947\n",
      "Test set score: 0.890\n",
      "                            OLS Regression Results                            \n",
      "==============================================================================\n",
      "Dep. Variable:                 Weight   R-squared:                       0.945\n",
      "Model:                            OLS   Adj. R-squared:                  0.941\n",
      "Method:                 Least Squares   F-statistic:                     226.4\n",
      "Date:                Thu, 12 Jan 2023   Prob (F-statistic):           5.21e-85\n",
      "Time:                        05:50:38   Log-Likelihood:                 218.64\n",
      "No. Observations:                 156   AIC:                            -413.3\n",
      "Df Residuals:                     144   BIC:                            -376.7\n",
      "Df Model:                          11                                         \n",
      "Covariance Type:            nonrobust                                         \n",
      "====================================================================================\n",
      "                       coef    std err          t      P>|t|      [0.025      0.975]\n",
      "------------------------------------------------------------------------------------\n",
      "Length1             -0.4963      1.109     -0.448      0.655      -2.688       1.695\n",
      "Length2              1.7724      1.446      1.226      0.222      -1.086       4.631\n",
      "Length3             -0.7135      1.021     -0.699      0.486      -2.731       1.304\n",
      "Height               0.6011      0.163      3.697      0.000       0.280       0.923\n",
      "Width                0.2803      0.118      2.384      0.018       0.048       0.513\n",
      "target_Bream        -0.3997      0.083     -4.817      0.000      -0.564      -0.236\n",
      "target_Parkki       -0.3379      0.044     -7.736      0.000      -0.424      -0.252\n",
      "target_Perch        -0.2856      0.019    -15.349      0.000      -0.322      -0.249\n",
      "target_Pike         -0.3056      0.064     -4.754      0.000      -0.433      -0.179\n",
      "target_Roach        -0.2981      0.035     -8.632      0.000      -0.366      -0.230\n",
      "target_Smelt        -0.0492      0.023     -2.101      0.037      -0.096      -0.003\n",
      "target_Whitefish    -0.2977      0.041     -7.256      0.000      -0.379      -0.217\n",
      "==============================================================================\n",
      "Omnibus:                       38.726   Durbin-Watson:                   0.928\n",
      "Prob(Omnibus):                  0.000   Jarque-Bera (JB):               74.180\n",
      "Skew:                           1.141   Prob(JB):                     7.80e-17\n",
      "Kurtosis:                       5.492   Cond. No.                         416.\n",
      "==============================================================================\n",
      "\n",
      "Notes:\n",
      "[1] Standard Errors assume that the covariance matrix of the errors is correctly specified.\n"
     ]
    }
   ],
   "source": [
    "print(\"Training set score: {:.3f}\".format(LR.score(X_train,y_train)))\n",
    "print(\"Test set score: {:.3f}\".format(LR.score(X_test,y_test)))\n",
    "\n",
    "import statsmodels.api as sm\n",
    "linear_model=sm.OLS(y,X)\n",
    "result=linear_model.fit()\n",
    "print(result.summary())"
   ]
  },
  {
   "cell_type": "code",
   "execution_count": 32,
   "id": "2e562717",
   "metadata": {
    "execution": {
     "iopub.execute_input": "2023-01-12T05:50:38.514472Z",
     "iopub.status.busy": "2023-01-12T05:50:38.513591Z",
     "iopub.status.idle": "2023-01-12T05:50:38.518577Z",
     "shell.execute_reply": "2023-01-12T05:50:38.517710Z"
    },
    "papermill": {
     "duration": 0.022077,
     "end_time": "2023-01-12T05:50:38.520652",
     "exception": false,
     "start_time": "2023-01-12T05:50:38.498575",
     "status": "completed"
    },
    "tags": []
   },
   "outputs": [],
   "source": [
    "from sklearn.metrics import mean_absolute_error,mean_squared_error,mean_absolute_percentage_error"
   ]
  },
  {
   "cell_type": "code",
   "execution_count": 33,
   "id": "468963fe",
   "metadata": {
    "execution": {
     "iopub.execute_input": "2023-01-12T05:50:38.550036Z",
     "iopub.status.busy": "2023-01-12T05:50:38.549192Z",
     "iopub.status.idle": "2023-01-12T05:50:38.557008Z",
     "shell.execute_reply": "2023-01-12T05:50:38.555400Z"
    },
    "papermill": {
     "duration": 0.024917,
     "end_time": "2023-01-12T05:50:38.559516",
     "exception": false,
     "start_time": "2023-01-12T05:50:38.534599",
     "status": "completed"
    },
    "tags": []
   },
   "outputs": [
    {
     "name": "stdout",
     "output_type": "stream",
     "text": [
      "0.04294465564876652\n",
      "0.003271073821606036\n",
      "2654603175072.21\n"
     ]
    }
   ],
   "source": [
    "print(mean_absolute_error(y_train,X_train_pred))\n",
    "print(mean_squared_error(y_train,X_train_pred))\n",
    "print(mean_absolute_percentage_error(y_train,X_train_pred))"
   ]
  },
  {
   "cell_type": "code",
   "execution_count": 34,
   "id": "1cea8531",
   "metadata": {
    "execution": {
     "iopub.execute_input": "2023-01-12T05:50:38.588961Z",
     "iopub.status.busy": "2023-01-12T05:50:38.588268Z",
     "iopub.status.idle": "2023-01-12T05:50:38.594681Z",
     "shell.execute_reply": "2023-01-12T05:50:38.593734Z"
    },
    "papermill": {
     "duration": 0.024027,
     "end_time": "2023-01-12T05:50:38.597657",
     "exception": false,
     "start_time": "2023-01-12T05:50:38.573630",
     "status": "completed"
    },
    "tags": []
   },
   "outputs": [
    {
     "name": "stdout",
     "output_type": "stream",
     "text": [
      "0.063619873867152\n",
      "0.008400048044385695\n",
      "0.6930316704242685\n"
     ]
    }
   ],
   "source": [
    "print(mean_absolute_error(y_test,X_test_pred))\n",
    "print(mean_squared_error(y_test,X_test_pred))\n",
    "print(mean_absolute_percentage_error(y_test,X_test_pred))"
   ]
  },
  {
   "cell_type": "code",
   "execution_count": null,
   "id": "4ba44b92",
   "metadata": {
    "papermill": {
     "duration": 0.013675,
     "end_time": "2023-01-12T05:50:38.626328",
     "exception": false,
     "start_time": "2023-01-12T05:50:38.612653",
     "status": "completed"
    },
    "tags": []
   },
   "outputs": [],
   "source": []
  }
 ],
 "metadata": {
  "kernelspec": {
   "display_name": "Python 3",
   "language": "python",
   "name": "python3"
  },
  "language_info": {
   "codemirror_mode": {
    "name": "ipython",
    "version": 3
   },
   "file_extension": ".py",
   "mimetype": "text/x-python",
   "name": "python",
   "nbconvert_exporter": "python",
   "pygments_lexer": "ipython3",
   "version": "3.7.12"
  },
  "papermill": {
   "default_parameters": {},
   "duration": 17.559765,
   "end_time": "2023-01-12T05:50:39.661017",
   "environment_variables": {},
   "exception": null,
   "input_path": "__notebook__.ipynb",
   "output_path": "__notebook__.ipynb",
   "parameters": {},
   "start_time": "2023-01-12T05:50:22.101252",
   "version": "2.3.4"
  }
 },
 "nbformat": 4,
 "nbformat_minor": 5
}
