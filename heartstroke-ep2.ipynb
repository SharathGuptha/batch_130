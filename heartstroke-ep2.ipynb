{
 "cells": [
  {
   "cell_type": "code",
   "execution_count": 1,
   "id": "dc5158df",
   "metadata": {
    "_cell_guid": "b1076dfc-b9ad-4769-8c92-a6c4dae69d19",
    "_uuid": "8f2839f25d086af736a60e9eeb907d3b93b6e0e5",
    "execution": {
     "iopub.execute_input": "2023-01-16T07:36:25.783096Z",
     "iopub.status.busy": "2023-01-16T07:36:25.781869Z",
     "iopub.status.idle": "2023-01-16T07:36:25.797216Z",
     "shell.execute_reply": "2023-01-16T07:36:25.796287Z"
    },
    "papermill": {
     "duration": 0.033485,
     "end_time": "2023-01-16T07:36:25.799441",
     "exception": false,
     "start_time": "2023-01-16T07:36:25.765956",
     "status": "completed"
    },
    "tags": []
   },
   "outputs": [
    {
     "name": "stdout",
     "output_type": "stream",
     "text": [
      "/kaggle/input/playground-series-s3e2/sample_submission.csv\n",
      "/kaggle/input/playground-series-s3e2/train.csv\n",
      "/kaggle/input/playground-series-s3e2/test.csv\n"
     ]
    }
   ],
   "source": [
    "# This Python 3 environment comes with many helpful analytics libraries installed\n",
    "# It is defined by the kaggle/python Docker image: https://github.com/kaggle/docker-python\n",
    "# For example, here's several helpful packages to load\n",
    "\n",
    "import numpy as np # linear algebra\n",
    "import pandas as pd # data processing, CSV file I/O (e.g. pd.read_csv)\n",
    "\n",
    "# Input data files are available in the read-only \"../input/\" directory\n",
    "# For example, running this (by clicking run or pressing Shift+Enter) will list all files under the input directory\n",
    "\n",
    "import os\n",
    "for dirname, _, filenames in os.walk('/kaggle/input'):\n",
    "    for filename in filenames:\n",
    "        print(os.path.join(dirname, filename))\n",
    "\n",
    "# You can write up to 20GB to the current directory (/kaggle/working/) that gets preserved as output when you create a version using \"Save & Run All\" \n",
    "# You can also write temporary files to /kaggle/temp/, but they won't be saved outside of the current session"
   ]
  },
  {
   "cell_type": "code",
   "execution_count": 2,
   "id": "2ab7d13d",
   "metadata": {
    "execution": {
     "iopub.execute_input": "2023-01-16T07:36:25.828640Z",
     "iopub.status.busy": "2023-01-16T07:36:25.828345Z",
     "iopub.status.idle": "2023-01-16T07:36:25.886020Z",
     "shell.execute_reply": "2023-01-16T07:36:25.884968Z"
    },
    "papermill": {
     "duration": 0.073569,
     "end_time": "2023-01-16T07:36:25.888096",
     "exception": false,
     "start_time": "2023-01-16T07:36:25.814527",
     "status": "completed"
    },
    "tags": []
   },
   "outputs": [
    {
     "data": {
      "text/html": [
       "<div>\n",
       "<style scoped>\n",
       "    .dataframe tbody tr th:only-of-type {\n",
       "        vertical-align: middle;\n",
       "    }\n",
       "\n",
       "    .dataframe tbody tr th {\n",
       "        vertical-align: top;\n",
       "    }\n",
       "\n",
       "    .dataframe thead th {\n",
       "        text-align: right;\n",
       "    }\n",
       "</style>\n",
       "<table border=\"1\" class=\"dataframe\">\n",
       "  <thead>\n",
       "    <tr style=\"text-align: right;\">\n",
       "      <th></th>\n",
       "      <th>id</th>\n",
       "      <th>gender</th>\n",
       "      <th>age</th>\n",
       "      <th>hypertension</th>\n",
       "      <th>heart_disease</th>\n",
       "      <th>ever_married</th>\n",
       "      <th>work_type</th>\n",
       "      <th>Residence_type</th>\n",
       "      <th>avg_glucose_level</th>\n",
       "      <th>bmi</th>\n",
       "      <th>smoking_status</th>\n",
       "    </tr>\n",
       "  </thead>\n",
       "  <tbody>\n",
       "    <tr>\n",
       "      <th>0</th>\n",
       "      <td>15304</td>\n",
       "      <td>Female</td>\n",
       "      <td>57.0</td>\n",
       "      <td>0</td>\n",
       "      <td>0</td>\n",
       "      <td>Yes</td>\n",
       "      <td>Private</td>\n",
       "      <td>Rural</td>\n",
       "      <td>82.54</td>\n",
       "      <td>33.4</td>\n",
       "      <td>Unknown</td>\n",
       "    </tr>\n",
       "    <tr>\n",
       "      <th>1</th>\n",
       "      <td>15305</td>\n",
       "      <td>Male</td>\n",
       "      <td>70.0</td>\n",
       "      <td>1</td>\n",
       "      <td>0</td>\n",
       "      <td>Yes</td>\n",
       "      <td>Private</td>\n",
       "      <td>Urban</td>\n",
       "      <td>72.06</td>\n",
       "      <td>28.5</td>\n",
       "      <td>Unknown</td>\n",
       "    </tr>\n",
       "    <tr>\n",
       "      <th>2</th>\n",
       "      <td>15306</td>\n",
       "      <td>Female</td>\n",
       "      <td>5.0</td>\n",
       "      <td>0</td>\n",
       "      <td>0</td>\n",
       "      <td>No</td>\n",
       "      <td>children</td>\n",
       "      <td>Urban</td>\n",
       "      <td>103.72</td>\n",
       "      <td>19.5</td>\n",
       "      <td>Unknown</td>\n",
       "    </tr>\n",
       "    <tr>\n",
       "      <th>3</th>\n",
       "      <td>15307</td>\n",
       "      <td>Female</td>\n",
       "      <td>56.0</td>\n",
       "      <td>0</td>\n",
       "      <td>0</td>\n",
       "      <td>Yes</td>\n",
       "      <td>Govt_job</td>\n",
       "      <td>Urban</td>\n",
       "      <td>69.24</td>\n",
       "      <td>41.4</td>\n",
       "      <td>smokes</td>\n",
       "    </tr>\n",
       "    <tr>\n",
       "      <th>4</th>\n",
       "      <td>15308</td>\n",
       "      <td>Male</td>\n",
       "      <td>32.0</td>\n",
       "      <td>0</td>\n",
       "      <td>0</td>\n",
       "      <td>Yes</td>\n",
       "      <td>Private</td>\n",
       "      <td>Rural</td>\n",
       "      <td>111.15</td>\n",
       "      <td>30.1</td>\n",
       "      <td>smokes</td>\n",
       "    </tr>\n",
       "    <tr>\n",
       "      <th>...</th>\n",
       "      <td>...</td>\n",
       "      <td>...</td>\n",
       "      <td>...</td>\n",
       "      <td>...</td>\n",
       "      <td>...</td>\n",
       "      <td>...</td>\n",
       "      <td>...</td>\n",
       "      <td>...</td>\n",
       "      <td>...</td>\n",
       "      <td>...</td>\n",
       "      <td>...</td>\n",
       "    </tr>\n",
       "    <tr>\n",
       "      <th>10199</th>\n",
       "      <td>25503</td>\n",
       "      <td>Female</td>\n",
       "      <td>27.0</td>\n",
       "      <td>0</td>\n",
       "      <td>0</td>\n",
       "      <td>No</td>\n",
       "      <td>Private</td>\n",
       "      <td>Urban</td>\n",
       "      <td>75.77</td>\n",
       "      <td>17.6</td>\n",
       "      <td>never smoked</td>\n",
       "    </tr>\n",
       "    <tr>\n",
       "      <th>10200</th>\n",
       "      <td>25504</td>\n",
       "      <td>Male</td>\n",
       "      <td>49.0</td>\n",
       "      <td>0</td>\n",
       "      <td>0</td>\n",
       "      <td>Yes</td>\n",
       "      <td>Private</td>\n",
       "      <td>Urban</td>\n",
       "      <td>102.91</td>\n",
       "      <td>26.7</td>\n",
       "      <td>Unknown</td>\n",
       "    </tr>\n",
       "    <tr>\n",
       "      <th>10201</th>\n",
       "      <td>25505</td>\n",
       "      <td>Female</td>\n",
       "      <td>3.0</td>\n",
       "      <td>0</td>\n",
       "      <td>0</td>\n",
       "      <td>No</td>\n",
       "      <td>children</td>\n",
       "      <td>Rural</td>\n",
       "      <td>104.04</td>\n",
       "      <td>18.3</td>\n",
       "      <td>Unknown</td>\n",
       "    </tr>\n",
       "    <tr>\n",
       "      <th>10202</th>\n",
       "      <td>25506</td>\n",
       "      <td>Male</td>\n",
       "      <td>31.0</td>\n",
       "      <td>0</td>\n",
       "      <td>0</td>\n",
       "      <td>Yes</td>\n",
       "      <td>Private</td>\n",
       "      <td>Urban</td>\n",
       "      <td>82.41</td>\n",
       "      <td>28.7</td>\n",
       "      <td>never smoked</td>\n",
       "    </tr>\n",
       "    <tr>\n",
       "      <th>10203</th>\n",
       "      <td>25507</td>\n",
       "      <td>Female</td>\n",
       "      <td>2.0</td>\n",
       "      <td>0</td>\n",
       "      <td>0</td>\n",
       "      <td>No</td>\n",
       "      <td>children</td>\n",
       "      <td>Urban</td>\n",
       "      <td>85.12</td>\n",
       "      <td>14.8</td>\n",
       "      <td>Unknown</td>\n",
       "    </tr>\n",
       "  </tbody>\n",
       "</table>\n",
       "<p>10204 rows × 11 columns</p>\n",
       "</div>"
      ],
      "text/plain": [
       "          id  gender   age  hypertension  heart_disease ever_married  \\\n",
       "0      15304  Female  57.0             0              0          Yes   \n",
       "1      15305    Male  70.0             1              0          Yes   \n",
       "2      15306  Female   5.0             0              0           No   \n",
       "3      15307  Female  56.0             0              0          Yes   \n",
       "4      15308    Male  32.0             0              0          Yes   \n",
       "...      ...     ...   ...           ...            ...          ...   \n",
       "10199  25503  Female  27.0             0              0           No   \n",
       "10200  25504    Male  49.0             0              0          Yes   \n",
       "10201  25505  Female   3.0             0              0           No   \n",
       "10202  25506    Male  31.0             0              0          Yes   \n",
       "10203  25507  Female   2.0             0              0           No   \n",
       "\n",
       "      work_type Residence_type  avg_glucose_level   bmi smoking_status  \n",
       "0       Private          Rural              82.54  33.4        Unknown  \n",
       "1       Private          Urban              72.06  28.5        Unknown  \n",
       "2      children          Urban             103.72  19.5        Unknown  \n",
       "3      Govt_job          Urban              69.24  41.4         smokes  \n",
       "4       Private          Rural             111.15  30.1         smokes  \n",
       "...         ...            ...                ...   ...            ...  \n",
       "10199   Private          Urban              75.77  17.6   never smoked  \n",
       "10200   Private          Urban             102.91  26.7        Unknown  \n",
       "10201  children          Rural             104.04  18.3        Unknown  \n",
       "10202   Private          Urban              82.41  28.7   never smoked  \n",
       "10203  children          Urban              85.12  14.8        Unknown  \n",
       "\n",
       "[10204 rows x 11 columns]"
      ]
     },
     "execution_count": 2,
     "metadata": {},
     "output_type": "execute_result"
    }
   ],
   "source": [
    "test_data=pd.read_csv('/kaggle/input/playground-series-s3e2/test.csv')\n",
    "test_data"
   ]
  },
  {
   "cell_type": "code",
   "execution_count": 3,
   "id": "c7639099",
   "metadata": {
    "execution": {
     "iopub.execute_input": "2023-01-16T07:36:25.917938Z",
     "iopub.status.busy": "2023-01-16T07:36:25.916369Z",
     "iopub.status.idle": "2023-01-16T07:36:25.951421Z",
     "shell.execute_reply": "2023-01-16T07:36:25.950573Z"
    },
    "papermill": {
     "duration": 0.051682,
     "end_time": "2023-01-16T07:36:25.953537",
     "exception": false,
     "start_time": "2023-01-16T07:36:25.901855",
     "status": "completed"
    },
    "tags": []
   },
   "outputs": [],
   "source": [
    "train_data=pd.read_csv('/kaggle/input/playground-series-s3e2/train.csv')"
   ]
  },
  {
   "cell_type": "code",
   "execution_count": 4,
   "id": "62122c37",
   "metadata": {
    "execution": {
     "iopub.execute_input": "2023-01-16T07:36:25.980561Z",
     "iopub.status.busy": "2023-01-16T07:36:25.979738Z",
     "iopub.status.idle": "2023-01-16T07:36:26.000990Z",
     "shell.execute_reply": "2023-01-16T07:36:26.000007Z"
    },
    "papermill": {
     "duration": 0.036872,
     "end_time": "2023-01-16T07:36:26.003115",
     "exception": false,
     "start_time": "2023-01-16T07:36:25.966243",
     "status": "completed"
    },
    "tags": []
   },
   "outputs": [
    {
     "data": {
      "text/html": [
       "<div>\n",
       "<style scoped>\n",
       "    .dataframe tbody tr th:only-of-type {\n",
       "        vertical-align: middle;\n",
       "    }\n",
       "\n",
       "    .dataframe tbody tr th {\n",
       "        vertical-align: top;\n",
       "    }\n",
       "\n",
       "    .dataframe thead th {\n",
       "        text-align: right;\n",
       "    }\n",
       "</style>\n",
       "<table border=\"1\" class=\"dataframe\">\n",
       "  <thead>\n",
       "    <tr style=\"text-align: right;\">\n",
       "      <th></th>\n",
       "      <th>id</th>\n",
       "      <th>gender</th>\n",
       "      <th>age</th>\n",
       "      <th>hypertension</th>\n",
       "      <th>heart_disease</th>\n",
       "      <th>ever_married</th>\n",
       "      <th>work_type</th>\n",
       "      <th>Residence_type</th>\n",
       "      <th>avg_glucose_level</th>\n",
       "      <th>bmi</th>\n",
       "      <th>smoking_status</th>\n",
       "      <th>stroke</th>\n",
       "    </tr>\n",
       "  </thead>\n",
       "  <tbody>\n",
       "    <tr>\n",
       "      <th>0</th>\n",
       "      <td>0</td>\n",
       "      <td>Male</td>\n",
       "      <td>28.0</td>\n",
       "      <td>0</td>\n",
       "      <td>0</td>\n",
       "      <td>Yes</td>\n",
       "      <td>Private</td>\n",
       "      <td>Urban</td>\n",
       "      <td>79.53</td>\n",
       "      <td>31.1</td>\n",
       "      <td>never smoked</td>\n",
       "      <td>0</td>\n",
       "    </tr>\n",
       "    <tr>\n",
       "      <th>1</th>\n",
       "      <td>1</td>\n",
       "      <td>Male</td>\n",
       "      <td>33.0</td>\n",
       "      <td>0</td>\n",
       "      <td>0</td>\n",
       "      <td>Yes</td>\n",
       "      <td>Private</td>\n",
       "      <td>Rural</td>\n",
       "      <td>78.44</td>\n",
       "      <td>23.9</td>\n",
       "      <td>formerly smoked</td>\n",
       "      <td>0</td>\n",
       "    </tr>\n",
       "    <tr>\n",
       "      <th>2</th>\n",
       "      <td>2</td>\n",
       "      <td>Female</td>\n",
       "      <td>42.0</td>\n",
       "      <td>0</td>\n",
       "      <td>0</td>\n",
       "      <td>Yes</td>\n",
       "      <td>Private</td>\n",
       "      <td>Rural</td>\n",
       "      <td>103.00</td>\n",
       "      <td>40.3</td>\n",
       "      <td>Unknown</td>\n",
       "      <td>0</td>\n",
       "    </tr>\n",
       "    <tr>\n",
       "      <th>3</th>\n",
       "      <td>3</td>\n",
       "      <td>Male</td>\n",
       "      <td>56.0</td>\n",
       "      <td>0</td>\n",
       "      <td>0</td>\n",
       "      <td>Yes</td>\n",
       "      <td>Private</td>\n",
       "      <td>Urban</td>\n",
       "      <td>64.87</td>\n",
       "      <td>28.8</td>\n",
       "      <td>never smoked</td>\n",
       "      <td>0</td>\n",
       "    </tr>\n",
       "    <tr>\n",
       "      <th>4</th>\n",
       "      <td>4</td>\n",
       "      <td>Female</td>\n",
       "      <td>24.0</td>\n",
       "      <td>0</td>\n",
       "      <td>0</td>\n",
       "      <td>No</td>\n",
       "      <td>Private</td>\n",
       "      <td>Rural</td>\n",
       "      <td>73.36</td>\n",
       "      <td>28.8</td>\n",
       "      <td>never smoked</td>\n",
       "      <td>0</td>\n",
       "    </tr>\n",
       "    <tr>\n",
       "      <th>...</th>\n",
       "      <td>...</td>\n",
       "      <td>...</td>\n",
       "      <td>...</td>\n",
       "      <td>...</td>\n",
       "      <td>...</td>\n",
       "      <td>...</td>\n",
       "      <td>...</td>\n",
       "      <td>...</td>\n",
       "      <td>...</td>\n",
       "      <td>...</td>\n",
       "      <td>...</td>\n",
       "      <td>...</td>\n",
       "    </tr>\n",
       "    <tr>\n",
       "      <th>15299</th>\n",
       "      <td>15299</td>\n",
       "      <td>Female</td>\n",
       "      <td>22.0</td>\n",
       "      <td>0</td>\n",
       "      <td>0</td>\n",
       "      <td>No</td>\n",
       "      <td>Govt_job</td>\n",
       "      <td>Urban</td>\n",
       "      <td>72.63</td>\n",
       "      <td>19.5</td>\n",
       "      <td>never smoked</td>\n",
       "      <td>0</td>\n",
       "    </tr>\n",
       "    <tr>\n",
       "      <th>15300</th>\n",
       "      <td>15300</td>\n",
       "      <td>Female</td>\n",
       "      <td>46.0</td>\n",
       "      <td>1</td>\n",
       "      <td>0</td>\n",
       "      <td>Yes</td>\n",
       "      <td>Private</td>\n",
       "      <td>Urban</td>\n",
       "      <td>101.19</td>\n",
       "      <td>32.1</td>\n",
       "      <td>never smoked</td>\n",
       "      <td>0</td>\n",
       "    </tr>\n",
       "    <tr>\n",
       "      <th>15301</th>\n",
       "      <td>15301</td>\n",
       "      <td>Female</td>\n",
       "      <td>75.0</td>\n",
       "      <td>0</td>\n",
       "      <td>0</td>\n",
       "      <td>Yes</td>\n",
       "      <td>Self-employed</td>\n",
       "      <td>Urban</td>\n",
       "      <td>87.69</td>\n",
       "      <td>26.2</td>\n",
       "      <td>never smoked</td>\n",
       "      <td>0</td>\n",
       "    </tr>\n",
       "    <tr>\n",
       "      <th>15302</th>\n",
       "      <td>15302</td>\n",
       "      <td>Male</td>\n",
       "      <td>46.0</td>\n",
       "      <td>0</td>\n",
       "      <td>0</td>\n",
       "      <td>Yes</td>\n",
       "      <td>Private</td>\n",
       "      <td>Rural</td>\n",
       "      <td>101.13</td>\n",
       "      <td>22.5</td>\n",
       "      <td>Unknown</td>\n",
       "      <td>0</td>\n",
       "    </tr>\n",
       "    <tr>\n",
       "      <th>15303</th>\n",
       "      <td>15303</td>\n",
       "      <td>Female</td>\n",
       "      <td>14.0</td>\n",
       "      <td>0</td>\n",
       "      <td>0</td>\n",
       "      <td>No</td>\n",
       "      <td>Private</td>\n",
       "      <td>Rural</td>\n",
       "      <td>85.12</td>\n",
       "      <td>24.7</td>\n",
       "      <td>never smoked</td>\n",
       "      <td>0</td>\n",
       "    </tr>\n",
       "  </tbody>\n",
       "</table>\n",
       "<p>15304 rows × 12 columns</p>\n",
       "</div>"
      ],
      "text/plain": [
       "          id  gender   age  hypertension  heart_disease ever_married  \\\n",
       "0          0    Male  28.0             0              0          Yes   \n",
       "1          1    Male  33.0             0              0          Yes   \n",
       "2          2  Female  42.0             0              0          Yes   \n",
       "3          3    Male  56.0             0              0          Yes   \n",
       "4          4  Female  24.0             0              0           No   \n",
       "...      ...     ...   ...           ...            ...          ...   \n",
       "15299  15299  Female  22.0             0              0           No   \n",
       "15300  15300  Female  46.0             1              0          Yes   \n",
       "15301  15301  Female  75.0             0              0          Yes   \n",
       "15302  15302    Male  46.0             0              0          Yes   \n",
       "15303  15303  Female  14.0             0              0           No   \n",
       "\n",
       "           work_type Residence_type  avg_glucose_level   bmi   smoking_status  \\\n",
       "0            Private          Urban              79.53  31.1     never smoked   \n",
       "1            Private          Rural              78.44  23.9  formerly smoked   \n",
       "2            Private          Rural             103.00  40.3          Unknown   \n",
       "3            Private          Urban              64.87  28.8     never smoked   \n",
       "4            Private          Rural              73.36  28.8     never smoked   \n",
       "...              ...            ...                ...   ...              ...   \n",
       "15299       Govt_job          Urban              72.63  19.5     never smoked   \n",
       "15300        Private          Urban             101.19  32.1     never smoked   \n",
       "15301  Self-employed          Urban              87.69  26.2     never smoked   \n",
       "15302        Private          Rural             101.13  22.5          Unknown   \n",
       "15303        Private          Rural              85.12  24.7     never smoked   \n",
       "\n",
       "       stroke  \n",
       "0           0  \n",
       "1           0  \n",
       "2           0  \n",
       "3           0  \n",
       "4           0  \n",
       "...       ...  \n",
       "15299       0  \n",
       "15300       0  \n",
       "15301       0  \n",
       "15302       0  \n",
       "15303       0  \n",
       "\n",
       "[15304 rows x 12 columns]"
      ]
     },
     "execution_count": 4,
     "metadata": {},
     "output_type": "execute_result"
    }
   ],
   "source": [
    "train_data"
   ]
  },
  {
   "cell_type": "code",
   "execution_count": 5,
   "id": "23625d42",
   "metadata": {
    "execution": {
     "iopub.execute_input": "2023-01-16T07:36:26.031690Z",
     "iopub.status.busy": "2023-01-16T07:36:26.030881Z",
     "iopub.status.idle": "2023-01-16T07:36:26.067266Z",
     "shell.execute_reply": "2023-01-16T07:36:26.066123Z"
    },
    "papermill": {
     "duration": 0.052939,
     "end_time": "2023-01-16T07:36:26.069896",
     "exception": false,
     "start_time": "2023-01-16T07:36:26.016957",
     "status": "completed"
    },
    "tags": []
   },
   "outputs": [
    {
     "data": {
      "text/html": [
       "<div>\n",
       "<style scoped>\n",
       "    .dataframe tbody tr th:only-of-type {\n",
       "        vertical-align: middle;\n",
       "    }\n",
       "\n",
       "    .dataframe tbody tr th {\n",
       "        vertical-align: top;\n",
       "    }\n",
       "\n",
       "    .dataframe thead th {\n",
       "        text-align: right;\n",
       "    }\n",
       "</style>\n",
       "<table border=\"1\" class=\"dataframe\">\n",
       "  <thead>\n",
       "    <tr style=\"text-align: right;\">\n",
       "      <th></th>\n",
       "      <th>id</th>\n",
       "      <th>age</th>\n",
       "      <th>hypertension</th>\n",
       "      <th>heart_disease</th>\n",
       "      <th>avg_glucose_level</th>\n",
       "      <th>bmi</th>\n",
       "      <th>stroke</th>\n",
       "    </tr>\n",
       "  </thead>\n",
       "  <tbody>\n",
       "    <tr>\n",
       "      <th>count</th>\n",
       "      <td>15304.000000</td>\n",
       "      <td>15304.000000</td>\n",
       "      <td>15304.000000</td>\n",
       "      <td>15304.000000</td>\n",
       "      <td>15304.000000</td>\n",
       "      <td>15304.000000</td>\n",
       "      <td>15304.000000</td>\n",
       "    </tr>\n",
       "    <tr>\n",
       "      <th>mean</th>\n",
       "      <td>7651.500000</td>\n",
       "      <td>41.417708</td>\n",
       "      <td>0.049726</td>\n",
       "      <td>0.023327</td>\n",
       "      <td>89.039853</td>\n",
       "      <td>28.112721</td>\n",
       "      <td>0.041296</td>\n",
       "    </tr>\n",
       "    <tr>\n",
       "      <th>std</th>\n",
       "      <td>4418.028595</td>\n",
       "      <td>21.444673</td>\n",
       "      <td>0.217384</td>\n",
       "      <td>0.150946</td>\n",
       "      <td>25.476102</td>\n",
       "      <td>6.722315</td>\n",
       "      <td>0.198981</td>\n",
       "    </tr>\n",
       "    <tr>\n",
       "      <th>min</th>\n",
       "      <td>0.000000</td>\n",
       "      <td>0.080000</td>\n",
       "      <td>0.000000</td>\n",
       "      <td>0.000000</td>\n",
       "      <td>55.220000</td>\n",
       "      <td>10.300000</td>\n",
       "      <td>0.000000</td>\n",
       "    </tr>\n",
       "    <tr>\n",
       "      <th>25%</th>\n",
       "      <td>3825.750000</td>\n",
       "      <td>26.000000</td>\n",
       "      <td>0.000000</td>\n",
       "      <td>0.000000</td>\n",
       "      <td>74.900000</td>\n",
       "      <td>23.500000</td>\n",
       "      <td>0.000000</td>\n",
       "    </tr>\n",
       "    <tr>\n",
       "      <th>50%</th>\n",
       "      <td>7651.500000</td>\n",
       "      <td>43.000000</td>\n",
       "      <td>0.000000</td>\n",
       "      <td>0.000000</td>\n",
       "      <td>85.120000</td>\n",
       "      <td>27.600000</td>\n",
       "      <td>0.000000</td>\n",
       "    </tr>\n",
       "    <tr>\n",
       "      <th>75%</th>\n",
       "      <td>11477.250000</td>\n",
       "      <td>57.000000</td>\n",
       "      <td>0.000000</td>\n",
       "      <td>0.000000</td>\n",
       "      <td>96.980000</td>\n",
       "      <td>32.000000</td>\n",
       "      <td>0.000000</td>\n",
       "    </tr>\n",
       "    <tr>\n",
       "      <th>max</th>\n",
       "      <td>15303.000000</td>\n",
       "      <td>82.000000</td>\n",
       "      <td>1.000000</td>\n",
       "      <td>1.000000</td>\n",
       "      <td>267.600000</td>\n",
       "      <td>80.100000</td>\n",
       "      <td>1.000000</td>\n",
       "    </tr>\n",
       "  </tbody>\n",
       "</table>\n",
       "</div>"
      ],
      "text/plain": [
       "                 id           age  hypertension  heart_disease  \\\n",
       "count  15304.000000  15304.000000  15304.000000   15304.000000   \n",
       "mean    7651.500000     41.417708      0.049726       0.023327   \n",
       "std     4418.028595     21.444673      0.217384       0.150946   \n",
       "min        0.000000      0.080000      0.000000       0.000000   \n",
       "25%     3825.750000     26.000000      0.000000       0.000000   \n",
       "50%     7651.500000     43.000000      0.000000       0.000000   \n",
       "75%    11477.250000     57.000000      0.000000       0.000000   \n",
       "max    15303.000000     82.000000      1.000000       1.000000   \n",
       "\n",
       "       avg_glucose_level           bmi        stroke  \n",
       "count       15304.000000  15304.000000  15304.000000  \n",
       "mean           89.039853     28.112721      0.041296  \n",
       "std            25.476102      6.722315      0.198981  \n",
       "min            55.220000     10.300000      0.000000  \n",
       "25%            74.900000     23.500000      0.000000  \n",
       "50%            85.120000     27.600000      0.000000  \n",
       "75%            96.980000     32.000000      0.000000  \n",
       "max           267.600000     80.100000      1.000000  "
      ]
     },
     "execution_count": 5,
     "metadata": {},
     "output_type": "execute_result"
    }
   ],
   "source": [
    "train_data.describe()"
   ]
  },
  {
   "cell_type": "code",
   "execution_count": 6,
   "id": "bb22e8b3",
   "metadata": {
    "execution": {
     "iopub.execute_input": "2023-01-16T07:36:26.099426Z",
     "iopub.status.busy": "2023-01-16T07:36:26.098603Z",
     "iopub.status.idle": "2023-01-16T07:36:26.130703Z",
     "shell.execute_reply": "2023-01-16T07:36:26.129621Z"
    },
    "papermill": {
     "duration": 0.05079,
     "end_time": "2023-01-16T07:36:26.134886",
     "exception": false,
     "start_time": "2023-01-16T07:36:26.084096",
     "status": "completed"
    },
    "tags": []
   },
   "outputs": [
    {
     "name": "stdout",
     "output_type": "stream",
     "text": [
      "15304\n",
      "0        1\n",
      "10207    1\n",
      "10195    1\n",
      "10196    1\n",
      "10197    1\n",
      "        ..\n",
      "5105     1\n",
      "5106     1\n",
      "5107     1\n",
      "5108     1\n",
      "15303    1\n",
      "Name: id, Length: 15304, dtype: int64\n",
      "3\n",
      "Female    9446\n",
      "Male      5857\n",
      "Other        1\n",
      "Name: gender, dtype: int64\n",
      "106\n",
      "57.00    353\n",
      "78.00    337\n",
      "53.00    311\n",
      "31.00    310\n",
      "45.00    309\n",
      "        ... \n",
      "0.16       6\n",
      "0.08       6\n",
      "0.48       3\n",
      "1.30       2\n",
      "0.68       1\n",
      "Name: age, Length: 106, dtype: int64\n",
      "2\n",
      "0    14543\n",
      "1      761\n",
      "Name: hypertension, dtype: int64\n",
      "2\n",
      "0    14947\n",
      "1      357\n",
      "Name: heart_disease, dtype: int64\n",
      "2\n",
      "Yes    10385\n",
      "No      4919\n",
      "Name: ever_married, dtype: int64\n",
      "5\n",
      "Private          9752\n",
      "children         2038\n",
      "Self-employed    1939\n",
      "Govt_job         1533\n",
      "Never_worked       42\n",
      "Name: work_type, dtype: int64\n",
      "2\n",
      "Rural    7664\n",
      "Urban    7640\n",
      "Name: Residence_type, dtype: int64\n",
      "3740\n",
      "93.88     33\n",
      "85.84     33\n",
      "77.55     32\n",
      "72.49     31\n",
      "73.00     31\n",
      "          ..\n",
      "229.92     1\n",
      "61.12      1\n",
      "86.66      1\n",
      "116.14     1\n",
      "77.65      1\n",
      "Name: avg_glucose_level, Length: 3740, dtype: int64\n",
      "407\n",
      "23.4    173\n",
      "28.7    163\n",
      "28.4    157\n",
      "26.7    150\n",
      "27.7    138\n",
      "       ... \n",
      "51.0      1\n",
      "57.3      1\n",
      "14.0      1\n",
      "47.0      1\n",
      "44.1      1\n",
      "Name: bmi, Length: 407, dtype: int64\n",
      "4\n",
      "never smoked       6281\n",
      "Unknown            4543\n",
      "formerly smoked    2337\n",
      "smokes             2143\n",
      "Name: smoking_status, dtype: int64\n",
      "2\n",
      "0    14672\n",
      "1      632\n",
      "Name: stroke, dtype: int64\n"
     ]
    }
   ],
   "source": [
    "for i in train_data:\n",
    "  print(train_data[i].nunique())\n",
    "  print(train_data[i].value_counts())\n"
   ]
  },
  {
   "cell_type": "code",
   "execution_count": 7,
   "id": "14ccca24",
   "metadata": {
    "execution": {
     "iopub.execute_input": "2023-01-16T07:36:26.164436Z",
     "iopub.status.busy": "2023-01-16T07:36:26.163881Z",
     "iopub.status.idle": "2023-01-16T07:36:26.179477Z",
     "shell.execute_reply": "2023-01-16T07:36:26.178431Z"
    },
    "papermill": {
     "duration": 0.031707,
     "end_time": "2023-01-16T07:36:26.181543",
     "exception": false,
     "start_time": "2023-01-16T07:36:26.149836",
     "status": "completed"
    },
    "tags": []
   },
   "outputs": [
    {
     "data": {
      "text/html": [
       "<div>\n",
       "<style scoped>\n",
       "    .dataframe tbody tr th:only-of-type {\n",
       "        vertical-align: middle;\n",
       "    }\n",
       "\n",
       "    .dataframe tbody tr th {\n",
       "        vertical-align: top;\n",
       "    }\n",
       "\n",
       "    .dataframe thead th {\n",
       "        text-align: right;\n",
       "    }\n",
       "</style>\n",
       "<table border=\"1\" class=\"dataframe\">\n",
       "  <thead>\n",
       "    <tr style=\"text-align: right;\">\n",
       "      <th></th>\n",
       "      <th>Missing</th>\n",
       "      <th>Missing%</th>\n",
       "    </tr>\n",
       "  </thead>\n",
       "  <tbody>\n",
       "  </tbody>\n",
       "</table>\n",
       "</div>"
      ],
      "text/plain": [
       "Empty DataFrame\n",
       "Columns: [Missing, Missing%]\n",
       "Index: []"
      ]
     },
     "execution_count": 7,
     "metadata": {},
     "output_type": "execute_result"
    }
   ],
   "source": [
    "null=train_data.isnull().sum().sort_values(ascending=False)\n",
    "null[null>0]\n",
    "total_rows=15304\n",
    "null_per=pd.DataFrame(null[null>0])\n",
    "null_per.columns=['Missing']\n",
    "null_per['Missing%']=((null_per['Missing']/total_rows)*100).round(2)\n",
    "null_per"
   ]
  },
  {
   "cell_type": "markdown",
   "id": "63135943",
   "metadata": {
    "papermill": {
     "duration": 0.013124,
     "end_time": "2023-01-16T07:36:26.210308",
     "exception": false,
     "start_time": "2023-01-16T07:36:26.197184",
     "status": "completed"
    },
    "tags": []
   },
   "source": [
    "there are no null values in the data."
   ]
  },
  {
   "cell_type": "code",
   "execution_count": 8,
   "id": "7df7b057",
   "metadata": {
    "execution": {
     "iopub.execute_input": "2023-01-16T07:36:26.238802Z",
     "iopub.status.busy": "2023-01-16T07:36:26.238064Z",
     "iopub.status.idle": "2023-01-16T07:36:26.244187Z",
     "shell.execute_reply": "2023-01-16T07:36:26.243319Z"
    },
    "papermill": {
     "duration": 0.022323,
     "end_time": "2023-01-16T07:36:26.246248",
     "exception": false,
     "start_time": "2023-01-16T07:36:26.223925",
     "status": "completed"
    },
    "tags": []
   },
   "outputs": [],
   "source": [
    "train_data.drop(['id'],axis=1,inplace=True)"
   ]
  },
  {
   "cell_type": "markdown",
   "id": "5c8d6e1e",
   "metadata": {
    "papermill": {
     "duration": 0.013106,
     "end_time": "2023-01-16T07:36:26.274071",
     "exception": false,
     "start_time": "2023-01-16T07:36:26.260965",
     "status": "completed"
    },
    "tags": []
   },
   "source": [
    "we dropped the id column beacuse there is no repeated values in that column"
   ]
  },
  {
   "cell_type": "code",
   "execution_count": 9,
   "id": "9340e995",
   "metadata": {
    "execution": {
     "iopub.execute_input": "2023-01-16T07:36:26.303476Z",
     "iopub.status.busy": "2023-01-16T07:36:26.302656Z",
     "iopub.status.idle": "2023-01-16T07:36:26.309844Z",
     "shell.execute_reply": "2023-01-16T07:36:26.308884Z"
    },
    "papermill": {
     "duration": 0.024053,
     "end_time": "2023-01-16T07:36:26.311816",
     "exception": false,
     "start_time": "2023-01-16T07:36:26.287763",
     "status": "completed"
    },
    "tags": []
   },
   "outputs": [
    {
     "data": {
      "text/plain": [
       "gender                object\n",
       "age                  float64\n",
       "hypertension           int64\n",
       "heart_disease          int64\n",
       "ever_married          object\n",
       "work_type             object\n",
       "Residence_type        object\n",
       "avg_glucose_level    float64\n",
       "bmi                  float64\n",
       "smoking_status        object\n",
       "stroke                 int64\n",
       "dtype: object"
      ]
     },
     "execution_count": 9,
     "metadata": {},
     "output_type": "execute_result"
    }
   ],
   "source": [
    "train_data.dtypes"
   ]
  },
  {
   "cell_type": "code",
   "execution_count": 10,
   "id": "aeb46894",
   "metadata": {
    "execution": {
     "iopub.execute_input": "2023-01-16T07:36:26.340033Z",
     "iopub.status.busy": "2023-01-16T07:36:26.339279Z",
     "iopub.status.idle": "2023-01-16T07:36:26.361613Z",
     "shell.execute_reply": "2023-01-16T07:36:26.359610Z"
    },
    "papermill": {
     "duration": 0.039412,
     "end_time": "2023-01-16T07:36:26.364596",
     "exception": false,
     "start_time": "2023-01-16T07:36:26.325184",
     "status": "completed"
    },
    "tags": []
   },
   "outputs": [],
   "source": [
    "catt_attr=(['gender','ever_married','work_type','Residence_type','smoking_status','hypertension','heart_disease'])\n",
    "train_data[catt_attr]=train_data[catt_attr].astype('category')"
   ]
  },
  {
   "cell_type": "code",
   "execution_count": 11,
   "id": "67ad1a86",
   "metadata": {
    "execution": {
     "iopub.execute_input": "2023-01-16T07:36:26.412561Z",
     "iopub.status.busy": "2023-01-16T07:36:26.412232Z",
     "iopub.status.idle": "2023-01-16T07:36:26.423228Z",
     "shell.execute_reply": "2023-01-16T07:36:26.420432Z"
    },
    "papermill": {
     "duration": 0.037627,
     "end_time": "2023-01-16T07:36:26.425431",
     "exception": false,
     "start_time": "2023-01-16T07:36:26.387804",
     "status": "completed"
    },
    "tags": []
   },
   "outputs": [],
   "source": [
    "num_attr =(['age','avg_glucose_level','bmi'])"
   ]
  },
  {
   "cell_type": "code",
   "execution_count": 12,
   "id": "22536710",
   "metadata": {
    "execution": {
     "iopub.execute_input": "2023-01-16T07:36:26.454584Z",
     "iopub.status.busy": "2023-01-16T07:36:26.454072Z",
     "iopub.status.idle": "2023-01-16T07:36:27.333518Z",
     "shell.execute_reply": "2023-01-16T07:36:27.332560Z"
    },
    "papermill": {
     "duration": 0.896831,
     "end_time": "2023-01-16T07:36:27.336435",
     "exception": false,
     "start_time": "2023-01-16T07:36:26.439604",
     "status": "completed"
    },
    "tags": []
   },
   "outputs": [],
   "source": [
    "from matplotlib import pyplot as plt\n",
    "import seaborn as sns "
   ]
  },
  {
   "cell_type": "code",
   "execution_count": 13,
   "id": "e96800a5",
   "metadata": {
    "execution": {
     "iopub.execute_input": "2023-01-16T07:36:27.368595Z",
     "iopub.status.busy": "2023-01-16T07:36:27.368310Z",
     "iopub.status.idle": "2023-01-16T07:36:27.747803Z",
     "shell.execute_reply": "2023-01-16T07:36:27.746936Z"
    },
    "papermill": {
     "duration": 0.399301,
     "end_time": "2023-01-16T07:36:27.749744",
     "exception": false,
     "start_time": "2023-01-16T07:36:27.350443",
     "status": "completed"
    },
    "tags": []
   },
   "outputs": [
    {
     "name": "stderr",
     "output_type": "stream",
     "text": [
      "/opt/conda/lib/python3.7/site-packages/seaborn/_decorators.py:43: FutureWarning: Pass the following variable as a keyword arg: x. From version 0.12, the only valid positional argument will be `data`, and passing other arguments without an explicit keyword will result in an error or misinterpretation.\n",
      "  FutureWarning\n",
      "/opt/conda/lib/python3.7/site-packages/seaborn/_decorators.py:43: FutureWarning: Pass the following variable as a keyword arg: x. From version 0.12, the only valid positional argument will be `data`, and passing other arguments without an explicit keyword will result in an error or misinterpretation.\n",
      "  FutureWarning\n",
      "/opt/conda/lib/python3.7/site-packages/seaborn/_decorators.py:43: FutureWarning: Pass the following variable as a keyword arg: x. From version 0.12, the only valid positional argument will be `data`, and passing other arguments without an explicit keyword will result in an error or misinterpretation.\n",
      "  FutureWarning\n"
     ]
    },
    {
     "data": {
      "image/png": "[encoded data removed]",
      "text/plain": [
       "<Figure size 1440x1080 with 3 Axes>"
      ]
     },
     "metadata": {
      "needs_background": "light"
     },
     "output_type": "display_data"
    }
   ],
   "source": [
    "plt.figure(figsize = (20, 15))\n",
    "plotnumber = 1\n",
    "for col in num_attr:\n",
    "        ax = plt.subplot(10,5, plotnumber)\n",
    "        sns.boxplot(train_data[col])\n",
    "        plt.xlabel(col, fontsize = 15)\n",
    "        plotnumber += 1\n",
    "plt.tight_layout()\n",
    "plt.show()"
   ]
  },
  {
   "cell_type": "code",
   "execution_count": 14,
   "id": "59f293eb",
   "metadata": {
    "execution": {
     "iopub.execute_input": "2023-01-16T07:36:27.779154Z",
     "iopub.status.busy": "2023-01-16T07:36:27.778363Z",
     "iopub.status.idle": "2023-01-16T07:36:27.796386Z",
     "shell.execute_reply": "2023-01-16T07:36:27.795211Z"
    },
    "papermill": {
     "duration": 0.034766,
     "end_time": "2023-01-16T07:36:27.798441",
     "exception": false,
     "start_time": "2023-01-16T07:36:27.763675",
     "status": "completed"
    },
    "tags": []
   },
   "outputs": [],
   "source": [
    "for col in num_attr:\n",
    "  q1=train_data[col].quantile(0.25)\n",
    "  q3=train_data[col].quantile(0.70)\n",
    "  iqr = q3-q1\n",
    "  filter1 = (train_data[col]>=q1 - 1.5*iqr) & (train_data[col]<=q3+1.5*iqr)\n",
    "  data=train_data.loc[filter1]"
   ]
  },
  {
   "cell_type": "code",
   "execution_count": 15,
   "id": "3252f75e",
   "metadata": {
    "execution": {
     "iopub.execute_input": "2023-01-16T07:36:27.826875Z",
     "iopub.status.busy": "2023-01-16T07:36:27.826613Z",
     "iopub.status.idle": "2023-01-16T07:36:28.157644Z",
     "shell.execute_reply": "2023-01-16T07:36:28.156689Z"
    },
    "papermill": {
     "duration": 0.348002,
     "end_time": "2023-01-16T07:36:28.159873",
     "exception": false,
     "start_time": "2023-01-16T07:36:27.811871",
     "status": "completed"
    },
    "tags": []
   },
   "outputs": [
    {
     "name": "stderr",
     "output_type": "stream",
     "text": [
      "/opt/conda/lib/python3.7/site-packages/seaborn/_decorators.py:43: FutureWarning: Pass the following variable as a keyword arg: x. From version 0.12, the only valid positional argument will be `data`, and passing other arguments without an explicit keyword will result in an error or misinterpretation.\n",
      "  FutureWarning\n",
      "/opt/conda/lib/python3.7/site-packages/seaborn/_decorators.py:43: FutureWarning: Pass the following variable as a keyword arg: x. From version 0.12, the only valid positional argument will be `data`, and passing other arguments without an explicit keyword will result in an error or misinterpretation.\n",
      "  FutureWarning\n",
      "/opt/conda/lib/python3.7/site-packages/seaborn/_decorators.py:43: FutureWarning: Pass the following variable as a keyword arg: x. From version 0.12, the only valid positional argument will be `data`, and passing other arguments without an explicit keyword will result in an error or misinterpretation.\n",
      "  FutureWarning\n"
     ]
    },
    {
     "data": {
      "image/png": "[encoded data removed]",
      "text/plain": [
       "<Figure size 1440x1080 with 3 Axes>"
      ]
     },
     "metadata": {
      "needs_background": "light"
     },
     "output_type": "display_data"
    }
   ],
   "source": [
    "plt.figure(figsize = (20, 15))\n",
    "plotnumber = 1\n",
    "for col in num_attr:\n",
    "        ax = plt.subplot(10,5, plotnumber)\n",
    "        sns.boxplot(train_data[col])\n",
    "        plt.xlabel(col, fontsize = 15)\n",
    "        plotnumber += 1\n",
    "plt.tight_layout()\n",
    "plt.show()"
   ]
  },
  {
   "cell_type": "code",
   "execution_count": 16,
   "id": "c8424620",
   "metadata": {
    "execution": {
     "iopub.execute_input": "2023-01-16T07:36:28.190593Z",
     "iopub.status.busy": "2023-01-16T07:36:28.190296Z",
     "iopub.status.idle": "2023-01-16T07:36:28.206115Z",
     "shell.execute_reply": "2023-01-16T07:36:28.205270Z"
    },
    "papermill": {
     "duration": 0.033875,
     "end_time": "2023-01-16T07:36:28.208118",
     "exception": false,
     "start_time": "2023-01-16T07:36:28.174243",
     "status": "completed"
    },
    "tags": []
   },
   "outputs": [],
   "source": [
    "train_data=pd.get_dummies(train_data)"
   ]
  },
  {
   "cell_type": "code",
   "execution_count": 17,
   "id": "441b87e2",
   "metadata": {
    "execution": {
     "iopub.execute_input": "2023-01-16T07:36:28.237309Z",
     "iopub.status.busy": "2023-01-16T07:36:28.237044Z",
     "iopub.status.idle": "2023-01-16T07:36:28.260469Z",
     "shell.execute_reply": "2023-01-16T07:36:28.259340Z"
    },
    "papermill": {
     "duration": 0.041179,
     "end_time": "2023-01-16T07:36:28.263073",
     "exception": false,
     "start_time": "2023-01-16T07:36:28.221894",
     "status": "completed"
    },
    "tags": []
   },
   "outputs": [
    {
     "data": {
      "text/html": [
       "<div>\n",
       "<style scoped>\n",
       "    .dataframe tbody tr th:only-of-type {\n",
       "        vertical-align: middle;\n",
       "    }\n",
       "\n",
       "    .dataframe tbody tr th {\n",
       "        vertical-align: top;\n",
       "    }\n",
       "\n",
       "    .dataframe thead th {\n",
       "        text-align: right;\n",
       "    }\n",
       "</style>\n",
       "<table border=\"1\" class=\"dataframe\">\n",
       "  <thead>\n",
       "    <tr style=\"text-align: right;\">\n",
       "      <th></th>\n",
       "      <th>age</th>\n",
       "      <th>avg_glucose_level</th>\n",
       "      <th>bmi</th>\n",
       "      <th>stroke</th>\n",
       "      <th>gender_Female</th>\n",
       "      <th>gender_Male</th>\n",
       "      <th>gender_Other</th>\n",
       "      <th>hypertension_0</th>\n",
       "      <th>hypertension_1</th>\n",
       "      <th>heart_disease_0</th>\n",
       "      <th>...</th>\n",
       "      <th>work_type_Never_worked</th>\n",
       "      <th>work_type_Private</th>\n",
       "      <th>work_type_Self-employed</th>\n",
       "      <th>work_type_children</th>\n",
       "      <th>Residence_type_Rural</th>\n",
       "      <th>Residence_type_Urban</th>\n",
       "      <th>smoking_status_Unknown</th>\n",
       "      <th>smoking_status_formerly smoked</th>\n",
       "      <th>smoking_status_never smoked</th>\n",
       "      <th>smoking_status_smokes</th>\n",
       "    </tr>\n",
       "  </thead>\n",
       "  <tbody>\n",
       "    <tr>\n",
       "      <th>0</th>\n",
       "      <td>28.0</td>\n",
       "      <td>79.53</td>\n",
       "      <td>31.1</td>\n",
       "      <td>0</td>\n",
       "      <td>0</td>\n",
       "      <td>1</td>\n",
       "      <td>0</td>\n",
       "      <td>1</td>\n",
       "      <td>0</td>\n",
       "      <td>1</td>\n",
       "      <td>...</td>\n",
       "      <td>0</td>\n",
       "      <td>1</td>\n",
       "      <td>0</td>\n",
       "      <td>0</td>\n",
       "      <td>0</td>\n",
       "      <td>1</td>\n",
       "      <td>0</td>\n",
       "      <td>0</td>\n",
       "      <td>1</td>\n",
       "      <td>0</td>\n",
       "    </tr>\n",
       "    <tr>\n",
       "      <th>1</th>\n",
       "      <td>33.0</td>\n",
       "      <td>78.44</td>\n",
       "      <td>23.9</td>\n",
       "      <td>0</td>\n",
       "      <td>0</td>\n",
       "      <td>1</td>\n",
       "      <td>0</td>\n",
       "      <td>1</td>\n",
       "      <td>0</td>\n",
       "      <td>1</td>\n",
       "      <td>...</td>\n",
       "      <td>0</td>\n",
       "      <td>1</td>\n",
       "      <td>0</td>\n",
       "      <td>0</td>\n",
       "      <td>1</td>\n",
       "      <td>0</td>\n",
       "      <td>0</td>\n",
       "      <td>1</td>\n",
       "      <td>0</td>\n",
       "      <td>0</td>\n",
       "    </tr>\n",
       "    <tr>\n",
       "      <th>2</th>\n",
       "      <td>42.0</td>\n",
       "      <td>103.00</td>\n",
       "      <td>40.3</td>\n",
       "      <td>0</td>\n",
       "      <td>1</td>\n",
       "      <td>0</td>\n",
       "      <td>0</td>\n",
       "      <td>1</td>\n",
       "      <td>0</td>\n",
       "      <td>1</td>\n",
       "      <td>...</td>\n",
       "      <td>0</td>\n",
       "      <td>1</td>\n",
       "      <td>0</td>\n",
       "      <td>0</td>\n",
       "      <td>1</td>\n",
       "      <td>0</td>\n",
       "      <td>1</td>\n",
       "      <td>0</td>\n",
       "      <td>0</td>\n",
       "      <td>0</td>\n",
       "    </tr>\n",
       "    <tr>\n",
       "      <th>3</th>\n",
       "      <td>56.0</td>\n",
       "      <td>64.87</td>\n",
       "      <td>28.8</td>\n",
       "      <td>0</td>\n",
       "      <td>0</td>\n",
       "      <td>1</td>\n",
       "      <td>0</td>\n",
       "      <td>1</td>\n",
       "      <td>0</td>\n",
       "      <td>1</td>\n",
       "      <td>...</td>\n",
       "      <td>0</td>\n",
       "      <td>1</td>\n",
       "      <td>0</td>\n",
       "      <td>0</td>\n",
       "      <td>0</td>\n",
       "      <td>1</td>\n",
       "      <td>0</td>\n",
       "      <td>0</td>\n",
       "      <td>1</td>\n",
       "      <td>0</td>\n",
       "    </tr>\n",
       "    <tr>\n",
       "      <th>4</th>\n",
       "      <td>24.0</td>\n",
       "      <td>73.36</td>\n",
       "      <td>28.8</td>\n",
       "      <td>0</td>\n",
       "      <td>1</td>\n",
       "      <td>0</td>\n",
       "      <td>0</td>\n",
       "      <td>1</td>\n",
       "      <td>0</td>\n",
       "      <td>1</td>\n",
       "      <td>...</td>\n",
       "      <td>0</td>\n",
       "      <td>1</td>\n",
       "      <td>0</td>\n",
       "      <td>0</td>\n",
       "      <td>1</td>\n",
       "      <td>0</td>\n",
       "      <td>0</td>\n",
       "      <td>0</td>\n",
       "      <td>1</td>\n",
       "      <td>0</td>\n",
       "    </tr>\n",
       "    <tr>\n",
       "      <th>...</th>\n",
       "      <td>...</td>\n",
       "      <td>...</td>\n",
       "      <td>...</td>\n",
       "      <td>...</td>\n",
       "      <td>...</td>\n",
       "      <td>...</td>\n",
       "      <td>...</td>\n",
       "      <td>...</td>\n",
       "      <td>...</td>\n",
       "      <td>...</td>\n",
       "      <td>...</td>\n",
       "      <td>...</td>\n",
       "      <td>...</td>\n",
       "      <td>...</td>\n",
       "      <td>...</td>\n",
       "      <td>...</td>\n",
       "      <td>...</td>\n",
       "      <td>...</td>\n",
       "      <td>...</td>\n",
       "      <td>...</td>\n",
       "      <td>...</td>\n",
       "    </tr>\n",
       "    <tr>\n",
       "      <th>15299</th>\n",
       "      <td>22.0</td>\n",
       "      <td>72.63</td>\n",
       "      <td>19.5</td>\n",
       "      <td>0</td>\n",
       "      <td>1</td>\n",
       "      <td>0</td>\n",
       "      <td>0</td>\n",
       "      <td>1</td>\n",
       "      <td>0</td>\n",
       "      <td>1</td>\n",
       "      <td>...</td>\n",
       "      <td>0</td>\n",
       "      <td>0</td>\n",
       "      <td>0</td>\n",
       "      <td>0</td>\n",
       "      <td>0</td>\n",
       "      <td>1</td>\n",
       "      <td>0</td>\n",
       "      <td>0</td>\n",
       "      <td>1</td>\n",
       "      <td>0</td>\n",
       "    </tr>\n",
       "    <tr>\n",
       "      <th>15300</th>\n",
       "      <td>46.0</td>\n",
       "      <td>101.19</td>\n",
       "      <td>32.1</td>\n",
       "      <td>0</td>\n",
       "      <td>1</td>\n",
       "      <td>0</td>\n",
       "      <td>0</td>\n",
       "      <td>0</td>\n",
       "      <td>1</td>\n",
       "      <td>1</td>\n",
       "      <td>...</td>\n",
       "      <td>0</td>\n",
       "      <td>1</td>\n",
       "      <td>0</td>\n",
       "      <td>0</td>\n",
       "      <td>0</td>\n",
       "      <td>1</td>\n",
       "      <td>0</td>\n",
       "      <td>0</td>\n",
       "      <td>1</td>\n",
       "      <td>0</td>\n",
       "    </tr>\n",
       "    <tr>\n",
       "      <th>15301</th>\n",
       "      <td>75.0</td>\n",
       "      <td>87.69</td>\n",
       "      <td>26.2</td>\n",
       "      <td>0</td>\n",
       "      <td>1</td>\n",
       "      <td>0</td>\n",
       "      <td>0</td>\n",
       "      <td>1</td>\n",
       "      <td>0</td>\n",
       "      <td>1</td>\n",
       "      <td>...</td>\n",
       "      <td>0</td>\n",
       "      <td>0</td>\n",
       "      <td>1</td>\n",
       "      <td>0</td>\n",
       "      <td>0</td>\n",
       "      <td>1</td>\n",
       "      <td>0</td>\n",
       "      <td>0</td>\n",
       "      <td>1</td>\n",
       "      <td>0</td>\n",
       "    </tr>\n",
       "    <tr>\n",
       "      <th>15302</th>\n",
       "      <td>46.0</td>\n",
       "      <td>101.13</td>\n",
       "      <td>22.5</td>\n",
       "      <td>0</td>\n",
       "      <td>0</td>\n",
       "      <td>1</td>\n",
       "      <td>0</td>\n",
       "      <td>1</td>\n",
       "      <td>0</td>\n",
       "      <td>1</td>\n",
       "      <td>...</td>\n",
       "      <td>0</td>\n",
       "      <td>1</td>\n",
       "      <td>0</td>\n",
       "      <td>0</td>\n",
       "      <td>1</td>\n",
       "      <td>0</td>\n",
       "      <td>1</td>\n",
       "      <td>0</td>\n",
       "      <td>0</td>\n",
       "      <td>0</td>\n",
       "    </tr>\n",
       "    <tr>\n",
       "      <th>15303</th>\n",
       "      <td>14.0</td>\n",
       "      <td>85.12</td>\n",
       "      <td>24.7</td>\n",
       "      <td>0</td>\n",
       "      <td>1</td>\n",
       "      <td>0</td>\n",
       "      <td>0</td>\n",
       "      <td>1</td>\n",
       "      <td>0</td>\n",
       "      <td>1</td>\n",
       "      <td>...</td>\n",
       "      <td>0</td>\n",
       "      <td>1</td>\n",
       "      <td>0</td>\n",
       "      <td>0</td>\n",
       "      <td>1</td>\n",
       "      <td>0</td>\n",
       "      <td>0</td>\n",
       "      <td>0</td>\n",
       "      <td>1</td>\n",
       "      <td>0</td>\n",
       "    </tr>\n",
       "  </tbody>\n",
       "</table>\n",
       "<p>15304 rows × 24 columns</p>\n",
       "</div>"
      ],
      "text/plain": [
       "        age  avg_glucose_level   bmi  stroke  gender_Female  gender_Male  \\\n",
       "0      28.0              79.53  31.1       0              0            1   \n",
       "1      33.0              78.44  23.9       0              0            1   \n",
       "2      42.0             103.00  40.3       0              1            0   \n",
       "3      56.0              64.87  28.8       0              0            1   \n",
       "4      24.0              73.36  28.8       0              1            0   \n",
       "...     ...                ...   ...     ...            ...          ...   \n",
       "15299  22.0              72.63  19.5       0              1            0   \n",
       "15300  46.0             101.19  32.1       0              1            0   \n",
       "15301  75.0              87.69  26.2       0              1            0   \n",
       "15302  46.0             101.13  22.5       0              0            1   \n",
       "15303  14.0              85.12  24.7       0              1            0   \n",
       "\n",
       "       gender_Other  hypertension_0  hypertension_1  heart_disease_0  ...  \\\n",
       "0                 0               1               0                1  ...   \n",
       "1                 0               1               0                1  ...   \n",
       "2                 0               1               0                1  ...   \n",
       "3                 0               1               0                1  ...   \n",
       "4                 0               1               0                1  ...   \n",
       "...             ...             ...             ...              ...  ...   \n",
       "15299             0               1               0                1  ...   \n",
       "15300             0               0               1                1  ...   \n",
       "15301             0               1               0                1  ...   \n",
       "15302             0               1               0                1  ...   \n",
       "15303             0               1               0                1  ...   \n",
       "\n",
       "       work_type_Never_worked  work_type_Private  work_type_Self-employed  \\\n",
       "0                           0                  1                        0   \n",
       "1                           0                  1                        0   \n",
       "2                           0                  1                        0   \n",
       "3                           0                  1                        0   \n",
       "4                           0                  1                        0   \n",
       "...                       ...                ...                      ...   \n",
       "15299                       0                  0                        0   \n",
       "15300                       0                  1                        0   \n",
       "15301                       0                  0                        1   \n",
       "15302                       0                  1                        0   \n",
       "15303                       0                  1                        0   \n",
       "\n",
       "       work_type_children  Residence_type_Rural  Residence_type_Urban  \\\n",
       "0                       0                     0                     1   \n",
       "1                       0                     1                     0   \n",
       "2                       0                     1                     0   \n",
       "3                       0                     0                     1   \n",
       "4                       0                     1                     0   \n",
       "...                   ...                   ...                   ...   \n",
       "15299                   0                     0                     1   \n",
       "15300                   0                     0                     1   \n",
       "15301                   0                     0                     1   \n",
       "15302                   0                     1                     0   \n",
       "15303                   0                     1                     0   \n",
       "\n",
       "       smoking_status_Unknown  smoking_status_formerly smoked  \\\n",
       "0                           0                               0   \n",
       "1                           0                               1   \n",
       "2                           1                               0   \n",
       "3                           0                               0   \n",
       "4                           0                               0   \n",
       "...                       ...                             ...   \n",
       "15299                       0                               0   \n",
       "15300                       0                               0   \n",
       "15301                       0                               0   \n",
       "15302                       1                               0   \n",
       "15303                       0                               0   \n",
       "\n",
       "       smoking_status_never smoked  smoking_status_smokes  \n",
       "0                                1                      0  \n",
       "1                                0                      0  \n",
       "2                                0                      0  \n",
       "3                                1                      0  \n",
       "4                                1                      0  \n",
       "...                            ...                    ...  \n",
       "15299                            1                      0  \n",
       "15300                            1                      0  \n",
       "15301                            1                      0  \n",
       "15302                            0                      0  \n",
       "15303                            1                      0  \n",
       "\n",
       "[15304 rows x 24 columns]"
      ]
     },
     "execution_count": 17,
     "metadata": {},
     "output_type": "execute_result"
    }
   ],
   "source": [
    "train_data"
   ]
  },
  {
   "cell_type": "markdown",
   "id": "fe47f0d0",
   "metadata": {
    "papermill": {
     "duration": 0.01456,
     "end_time": "2023-01-16T07:36:28.293002",
     "exception": false,
     "start_time": "2023-01-16T07:36:28.278442",
     "status": "completed"
    },
    "tags": []
   },
   "source": [
    "encoding done using dummies"
   ]
  },
  {
   "cell_type": "code",
   "execution_count": 18,
   "id": "3fed2255",
   "metadata": {
    "execution": {
     "iopub.execute_input": "2023-01-16T07:36:28.322393Z",
     "iopub.status.busy": "2023-01-16T07:36:28.322004Z",
     "iopub.status.idle": "2023-01-16T07:36:28.510220Z",
     "shell.execute_reply": "2023-01-16T07:36:28.509029Z"
    },
    "papermill": {
     "duration": 0.20596,
     "end_time": "2023-01-16T07:36:28.513090",
     "exception": false,
     "start_time": "2023-01-16T07:36:28.307130",
     "status": "completed"
    },
    "tags": []
   },
   "outputs": [],
   "source": [
    "from sklearn.model_selection import train_test_split"
   ]
  },
  {
   "cell_type": "code",
   "execution_count": 19,
   "id": "58dcd6c4",
   "metadata": {
    "execution": {
     "iopub.execute_input": "2023-01-16T07:36:28.569183Z",
     "iopub.status.busy": "2023-01-16T07:36:28.568849Z",
     "iopub.status.idle": "2023-01-16T07:36:28.581263Z",
     "shell.execute_reply": "2023-01-16T07:36:28.580436Z"
    },
    "papermill": {
     "duration": 0.041027,
     "end_time": "2023-01-16T07:36:28.583152",
     "exception": false,
     "start_time": "2023-01-16T07:36:28.542125",
     "status": "completed"
    },
    "tags": []
   },
   "outputs": [],
   "source": [
    "y=train_data['stroke']\n",
    "X=train_data.drop('stroke',axis=1)\n",
    "X_train,X_test,y_train,y_test=train_test_split(X,y, test_size=0.2,random_state=123)"
   ]
  },
  {
   "cell_type": "code",
   "execution_count": 20,
   "id": "2ebebd25",
   "metadata": {
    "execution": {
     "iopub.execute_input": "2023-01-16T07:36:28.632667Z",
     "iopub.status.busy": "2023-01-16T07:36:28.632360Z",
     "iopub.status.idle": "2023-01-16T07:36:28.638232Z",
     "shell.execute_reply": "2023-01-16T07:36:28.637024Z"
    },
    "papermill": {
     "duration": 0.034185,
     "end_time": "2023-01-16T07:36:28.641619",
     "exception": false,
     "start_time": "2023-01-16T07:36:28.607434",
     "status": "completed"
    },
    "tags": []
   },
   "outputs": [
    {
     "name": "stdout",
     "output_type": "stream",
     "text": [
      "(12243, 23)\n",
      "(3061, 23)\n",
      "(12243,)\n",
      "(3061,)\n"
     ]
    }
   ],
   "source": [
    "print(X_train.shape)\n",
    "print(X_test.shape)\n",
    "print(y_train.shape)\n",
    "print(y_test.shape)"
   ]
  },
  {
   "cell_type": "code",
   "execution_count": 21,
   "id": "680b7b53",
   "metadata": {
    "execution": {
     "iopub.execute_input": "2023-01-16T07:36:28.690047Z",
     "iopub.status.busy": "2023-01-16T07:36:28.689770Z",
     "iopub.status.idle": "2023-01-16T07:36:28.694189Z",
     "shell.execute_reply": "2023-01-16T07:36:28.693256Z"
    },
    "papermill": {
     "duration": 0.030771,
     "end_time": "2023-01-16T07:36:28.696403",
     "exception": false,
     "start_time": "2023-01-16T07:36:28.665632",
     "status": "completed"
    },
    "tags": []
   },
   "outputs": [],
   "source": [
    "from sklearn.preprocessing import StandardScaler\n",
    "scaler=StandardScaler()"
   ]
  },
  {
   "cell_type": "code",
   "execution_count": 22,
   "id": "46d1b9ac",
   "metadata": {
    "execution": {
     "iopub.execute_input": "2023-01-16T07:36:28.744087Z",
     "iopub.status.busy": "2023-01-16T07:36:28.743787Z",
     "iopub.status.idle": "2023-01-16T07:36:28.751914Z",
     "shell.execute_reply": "2023-01-16T07:36:28.751025Z"
    },
    "papermill": {
     "duration": 0.034322,
     "end_time": "2023-01-16T07:36:28.754230",
     "exception": false,
     "start_time": "2023-01-16T07:36:28.719908",
     "status": "completed"
    },
    "tags": []
   },
   "outputs": [
    {
     "data": {
      "text/plain": [
       "age                               float64\n",
       "avg_glucose_level                 float64\n",
       "bmi                               float64\n",
       "stroke                              int64\n",
       "gender_Female                       uint8\n",
       "gender_Male                         uint8\n",
       "gender_Other                        uint8\n",
       "hypertension_0                      uint8\n",
       "hypertension_1                      uint8\n",
       "heart_disease_0                     uint8\n",
       "heart_disease_1                     uint8\n",
       "ever_married_No                     uint8\n",
       "ever_married_Yes                    uint8\n",
       "work_type_Govt_job                  uint8\n",
       "work_type_Never_worked              uint8\n",
       "work_type_Private                   uint8\n",
       "work_type_Self-employed             uint8\n",
       "work_type_children                  uint8\n",
       "Residence_type_Rural                uint8\n",
       "Residence_type_Urban                uint8\n",
       "smoking_status_Unknown              uint8\n",
       "smoking_status_formerly smoked      uint8\n",
       "smoking_status_never smoked         uint8\n",
       "smoking_status_smokes               uint8\n",
       "dtype: object"
      ]
     },
     "execution_count": 22,
     "metadata": {},
     "output_type": "execute_result"
    }
   ],
   "source": [
    "train_data.dtypes"
   ]
  },
  {
   "cell_type": "code",
   "execution_count": 23,
   "id": "584bad64",
   "metadata": {
    "execution": {
     "iopub.execute_input": "2023-01-16T07:36:28.800773Z",
     "iopub.status.busy": "2023-01-16T07:36:28.800282Z",
     "iopub.status.idle": "2023-01-16T07:36:28.810013Z",
     "shell.execute_reply": "2023-01-16T07:36:28.809032Z"
    },
    "papermill": {
     "duration": 0.03598,
     "end_time": "2023-01-16T07:36:28.812603",
     "exception": false,
     "start_time": "2023-01-16T07:36:28.776623",
     "status": "completed"
    },
    "tags": []
   },
   "outputs": [
    {
     "data": {
      "text/plain": [
       "Index(['age', 'avg_glucose_level', 'bmi', 'gender_Female', 'gender_Male',\n",
       "       'gender_Other', 'hypertension_0', 'hypertension_1', 'heart_disease_0',\n",
       "       'heart_disease_1', 'ever_married_No', 'ever_married_Yes',\n",
       "       'work_type_Govt_job', 'work_type_Never_worked', 'work_type_Private',\n",
       "       'work_type_Self-employed', 'work_type_children', 'Residence_type_Rural',\n",
       "       'Residence_type_Urban', 'smoking_status_Unknown',\n",
       "       'smoking_status_formerly smoked', 'smoking_status_never smoked',\n",
       "       'smoking_status_smokes'],\n",
       "      dtype='object')"
      ]
     },
     "execution_count": 23,
     "metadata": {},
     "output_type": "execute_result"
    }
   ],
   "source": [
    "num_attr=X_train.select_dtypes(['int64','float64','uint8']).columns\n",
    "num_attr"
   ]
  },
  {
   "cell_type": "code",
   "execution_count": 24,
   "id": "bae0ec5f",
   "metadata": {
    "execution": {
     "iopub.execute_input": "2023-01-16T07:36:28.859679Z",
     "iopub.status.busy": "2023-01-16T07:36:28.859364Z",
     "iopub.status.idle": "2023-01-16T07:36:28.890526Z",
     "shell.execute_reply": "2023-01-16T07:36:28.889275Z"
    },
    "papermill": {
     "duration": 0.057006,
     "end_time": "2023-01-16T07:36:28.892907",
     "exception": false,
     "start_time": "2023-01-16T07:36:28.835901",
     "status": "completed"
    },
    "tags": []
   },
   "outputs": [],
   "source": [
    "X_train[num_attr]=scaler.fit_transform(X_train[num_attr])\n",
    "X_test[num_attr]=scaler.transform(X_test[num_attr])"
   ]
  },
  {
   "cell_type": "code",
   "execution_count": 25,
   "id": "7ed6b063",
   "metadata": {
    "execution": {
     "iopub.execute_input": "2023-01-16T07:36:28.949677Z",
     "iopub.status.busy": "2023-01-16T07:36:28.949398Z",
     "iopub.status.idle": "2023-01-16T07:36:29.476270Z",
     "shell.execute_reply": "2023-01-16T07:36:29.474828Z"
    },
    "papermill": {
     "duration": 0.562029,
     "end_time": "2023-01-16T07:36:29.480240",
     "exception": false,
     "start_time": "2023-01-16T07:36:28.918211",
     "status": "completed"
    },
    "tags": []
   },
   "outputs": [],
   "source": [
    "from sklearn.linear_model import LogisticRegression\n",
    "LR=LogisticRegression(class_weight='balanced',solver='saga')\n",
    "LR.fit(X_train,y_train)\n",
    "X_train_pred=LR.predict(X_train)\n",
    "X_test_pred=LR.predict(X_test)"
   ]
  },
  {
   "cell_type": "code",
   "execution_count": 26,
   "id": "096c0349",
   "metadata": {
    "execution": {
     "iopub.execute_input": "2023-01-16T07:36:29.560894Z",
     "iopub.status.busy": "2023-01-16T07:36:29.560284Z",
     "iopub.status.idle": "2023-01-16T07:36:29.566225Z",
     "shell.execute_reply": "2023-01-16T07:36:29.565234Z"
    },
    "papermill": {
     "duration": 0.049392,
     "end_time": "2023-01-16T07:36:29.569483",
     "exception": false,
     "start_time": "2023-01-16T07:36:29.520091",
     "status": "completed"
    },
    "tags": []
   },
   "outputs": [],
   "source": [
    "from sklearn.metrics import accuracy_score,recall_score,precision_score,f1_score\n",
    "from sklearn.metrics import confusion_matrix"
   ]
  },
  {
   "cell_type": "code",
   "execution_count": 27,
   "id": "d162bc07",
   "metadata": {
    "execution": {
     "iopub.execute_input": "2023-01-16T07:36:29.623928Z",
     "iopub.status.busy": "2023-01-16T07:36:29.623641Z",
     "iopub.status.idle": "2023-01-16T07:36:29.634170Z",
     "shell.execute_reply": "2023-01-16T07:36:29.633111Z"
    },
    "papermill": {
     "duration": 0.029393,
     "end_time": "2023-01-16T07:36:29.637284",
     "exception": false,
     "start_time": "2023-01-16T07:36:29.607891",
     "status": "completed"
    },
    "tags": []
   },
   "outputs": [
    {
     "name": "stdout",
     "output_type": "stream",
     "text": [
      "========Train=======\n",
      "Confusion Matrix \n",
      "[[9251 2494]\n",
      " [  85  413]]\n",
      "========Test=======\n",
      "Confusion Matrix \n",
      "[[2310  617]\n",
      " [  26  108]]\n"
     ]
    }
   ],
   "source": [
    "print('========Train=======')\n",
    "print(f\"Confusion Matrix \\n{confusion_matrix(y_train, X_train_pred)}\")\n",
    "print('========Test=======')\n",
    "print(f\"Confusion Matrix \\n{confusion_matrix(y_test, X_test_pred)}\")"
   ]
  },
  {
   "cell_type": "code",
   "execution_count": 28,
   "id": "f8aa30ba",
   "metadata": {
    "execution": {
     "iopub.execute_input": "2023-01-16T07:36:29.670570Z",
     "iopub.status.busy": "2023-01-16T07:36:29.670291Z",
     "iopub.status.idle": "2023-01-16T07:36:29.685119Z",
     "shell.execute_reply": "2023-01-16T07:36:29.683637Z"
    },
    "papermill": {
     "duration": 0.034514,
     "end_time": "2023-01-16T07:36:29.687920",
     "exception": false,
     "start_time": "2023-01-16T07:36:29.653406",
     "status": "completed"
    },
    "tags": []
   },
   "outputs": [
    {
     "name": "stdout",
     "output_type": "stream",
     "text": [
      "0.7893490157641101\n",
      "0.8293172690763052\n",
      "0.24258443465491922\n"
     ]
    }
   ],
   "source": [
    "print(accuracy_score(y_train,X_train_pred))\n",
    "print(recall_score(y_train,X_train_pred))\n",
    "print(f1_score(y_train,X_train_pred))"
   ]
  },
  {
   "cell_type": "code",
   "execution_count": 29,
   "id": "23ef76b0",
   "metadata": {
    "execution": {
     "iopub.execute_input": "2023-01-16T07:36:29.718769Z",
     "iopub.status.busy": "2023-01-16T07:36:29.718505Z",
     "iopub.status.idle": "2023-01-16T07:36:29.728298Z",
     "shell.execute_reply": "2023-01-16T07:36:29.727160Z"
    },
    "papermill": {
     "duration": 0.028265,
     "end_time": "2023-01-16T07:36:29.731484",
     "exception": false,
     "start_time": "2023-01-16T07:36:29.703219",
     "status": "completed"
    },
    "tags": []
   },
   "outputs": [
    {
     "name": "stdout",
     "output_type": "stream",
     "text": [
      "accuracy-score 0.789937928781444\n",
      "recall-score 0.8059701492537313\n",
      "0.25145518044237486\n"
     ]
    }
   ],
   "source": [
    "print(\"accuracy-score\",(accuracy_score(y_test,X_test_pred)))\n",
    "print(\"recall-score\",recall_score(y_test,X_test_pred))\n",
    "print(f1_score(y_test,X_test_pred))"
   ]
  },
  {
   "cell_type": "code",
   "execution_count": 30,
   "id": "b3430968",
   "metadata": {
    "execution": {
     "iopub.execute_input": "2023-01-16T07:36:29.762777Z",
     "iopub.status.busy": "2023-01-16T07:36:29.762500Z",
     "iopub.status.idle": "2023-01-16T07:36:29.958212Z",
     "shell.execute_reply": "2023-01-16T07:36:29.957293Z"
    },
    "papermill": {
     "duration": 0.213006,
     "end_time": "2023-01-16T07:36:29.960200",
     "exception": false,
     "start_time": "2023-01-16T07:36:29.747194",
     "status": "completed"
    },
    "tags": []
   },
   "outputs": [
    {
     "data": {
      "image/png": "[encoded data removed]",
      "text/plain": [
       "<Figure size 432x288 with 1 Axes>"
      ]
     },
     "metadata": {
      "needs_background": "light"
     },
     "output_type": "display_data"
    }
   ],
   "source": [
    "from sklearn import metrics\n",
    "auc = metrics.roc_auc_score(y_test, X_test_pred)\n",
    "fpr, tpr, _ = metrics.roc_curve(y_test,  X_test_pred)\n",
    "#create ROC curve\n",
    "plt.plot(fpr,tpr,label=\"AUC=\"+str(auc))\n",
    "plt.ylabel('True Positive Rate')\n",
    "plt.xlabel('False Positive Rate')\n",
    "plt.legend(loc=4)\n",
    "plt.show()"
   ]
  },
  {
   "cell_type": "markdown",
   "id": "b5c0375a",
   "metadata": {
    "papermill": {
     "duration": 0.01536,
     "end_time": "2023-01-16T07:36:29.990894",
     "exception": false,
     "start_time": "2023-01-16T07:36:29.975534",
     "status": "completed"
    },
    "tags": []
   },
   "source": [
    "test data"
   ]
  },
  {
   "cell_type": "code",
   "execution_count": 31,
   "id": "4914b42a",
   "metadata": {
    "execution": {
     "iopub.execute_input": "2023-01-16T07:36:30.023012Z",
     "iopub.status.busy": "2023-01-16T07:36:30.022032Z",
     "iopub.status.idle": "2023-01-16T07:36:30.050002Z",
     "shell.execute_reply": "2023-01-16T07:36:30.048871Z"
    },
    "papermill": {
     "duration": 0.045928,
     "end_time": "2023-01-16T07:36:30.051853",
     "exception": false,
     "start_time": "2023-01-16T07:36:30.005925",
     "status": "completed"
    },
    "tags": []
   },
   "outputs": [
    {
     "data": {
      "text/html": [
       "<div>\n",
       "<style scoped>\n",
       "    .dataframe tbody tr th:only-of-type {\n",
       "        vertical-align: middle;\n",
       "    }\n",
       "\n",
       "    .dataframe tbody tr th {\n",
       "        vertical-align: top;\n",
       "    }\n",
       "\n",
       "    .dataframe thead th {\n",
       "        text-align: right;\n",
       "    }\n",
       "</style>\n",
       "<table border=\"1\" class=\"dataframe\">\n",
       "  <thead>\n",
       "    <tr style=\"text-align: right;\">\n",
       "      <th></th>\n",
       "      <th>id</th>\n",
       "      <th>age</th>\n",
       "      <th>hypertension</th>\n",
       "      <th>heart_disease</th>\n",
       "      <th>avg_glucose_level</th>\n",
       "      <th>bmi</th>\n",
       "    </tr>\n",
       "  </thead>\n",
       "  <tbody>\n",
       "    <tr>\n",
       "      <th>count</th>\n",
       "      <td>10204.000000</td>\n",
       "      <td>10204.000000</td>\n",
       "      <td>10204.000000</td>\n",
       "      <td>10204.000000</td>\n",
       "      <td>10204.000000</td>\n",
       "      <td>10204.000000</td>\n",
       "    </tr>\n",
       "    <tr>\n",
       "      <th>mean</th>\n",
       "      <td>20405.500000</td>\n",
       "      <td>41.920713</td>\n",
       "      <td>0.051450</td>\n",
       "      <td>0.021756</td>\n",
       "      <td>89.197766</td>\n",
       "      <td>28.242351</td>\n",
       "    </tr>\n",
       "    <tr>\n",
       "      <th>std</th>\n",
       "      <td>2945.785407</td>\n",
       "      <td>21.097956</td>\n",
       "      <td>0.220925</td>\n",
       "      <td>0.145894</td>\n",
       "      <td>25.914364</td>\n",
       "      <td>6.733863</td>\n",
       "    </tr>\n",
       "    <tr>\n",
       "      <th>min</th>\n",
       "      <td>15304.000000</td>\n",
       "      <td>0.080000</td>\n",
       "      <td>0.000000</td>\n",
       "      <td>0.000000</td>\n",
       "      <td>55.120000</td>\n",
       "      <td>11.500000</td>\n",
       "    </tr>\n",
       "    <tr>\n",
       "      <th>25%</th>\n",
       "      <td>17854.750000</td>\n",
       "      <td>26.000000</td>\n",
       "      <td>0.000000</td>\n",
       "      <td>0.000000</td>\n",
       "      <td>75.060000</td>\n",
       "      <td>23.700000</td>\n",
       "    </tr>\n",
       "    <tr>\n",
       "      <th>50%</th>\n",
       "      <td>20405.500000</td>\n",
       "      <td>43.500000</td>\n",
       "      <td>0.000000</td>\n",
       "      <td>0.000000</td>\n",
       "      <td>85.070000</td>\n",
       "      <td>27.700000</td>\n",
       "    </tr>\n",
       "    <tr>\n",
       "      <th>75%</th>\n",
       "      <td>22956.250000</td>\n",
       "      <td>57.000000</td>\n",
       "      <td>0.000000</td>\n",
       "      <td>0.000000</td>\n",
       "      <td>96.750000</td>\n",
       "      <td>32.000000</td>\n",
       "    </tr>\n",
       "    <tr>\n",
       "      <th>max</th>\n",
       "      <td>25507.000000</td>\n",
       "      <td>82.000000</td>\n",
       "      <td>1.000000</td>\n",
       "      <td>1.000000</td>\n",
       "      <td>267.600000</td>\n",
       "      <td>97.600000</td>\n",
       "    </tr>\n",
       "  </tbody>\n",
       "</table>\n",
       "</div>"
      ],
      "text/plain": [
       "                 id           age  hypertension  heart_disease  \\\n",
       "count  10204.000000  10204.000000  10204.000000   10204.000000   \n",
       "mean   20405.500000     41.920713      0.051450       0.021756   \n",
       "std     2945.785407     21.097956      0.220925       0.145894   \n",
       "min    15304.000000      0.080000      0.000000       0.000000   \n",
       "25%    17854.750000     26.000000      0.000000       0.000000   \n",
       "50%    20405.500000     43.500000      0.000000       0.000000   \n",
       "75%    22956.250000     57.000000      0.000000       0.000000   \n",
       "max    25507.000000     82.000000      1.000000       1.000000   \n",
       "\n",
       "       avg_glucose_level           bmi  \n",
       "count       10204.000000  10204.000000  \n",
       "mean           89.197766     28.242351  \n",
       "std            25.914364      6.733863  \n",
       "min            55.120000     11.500000  \n",
       "25%            75.060000     23.700000  \n",
       "50%            85.070000     27.700000  \n",
       "75%            96.750000     32.000000  \n",
       "max           267.600000     97.600000  "
      ]
     },
     "execution_count": 31,
     "metadata": {},
     "output_type": "execute_result"
    }
   ],
   "source": [
    "test_data.describe()"
   ]
  },
  {
   "cell_type": "code",
   "execution_count": 32,
   "id": "507a894a",
   "metadata": {
    "execution": {
     "iopub.execute_input": "2023-01-16T07:36:30.083901Z",
     "iopub.status.busy": "2023-01-16T07:36:30.083271Z",
     "iopub.status.idle": "2023-01-16T07:36:30.096755Z",
     "shell.execute_reply": "2023-01-16T07:36:30.095669Z"
    },
    "papermill": {
     "duration": 0.031879,
     "end_time": "2023-01-16T07:36:30.098922",
     "exception": false,
     "start_time": "2023-01-16T07:36:30.067043",
     "status": "completed"
    },
    "tags": []
   },
   "outputs": [
    {
     "data": {
      "text/html": [
       "<div>\n",
       "<style scoped>\n",
       "    .dataframe tbody tr th:only-of-type {\n",
       "        vertical-align: middle;\n",
       "    }\n",
       "\n",
       "    .dataframe tbody tr th {\n",
       "        vertical-align: top;\n",
       "    }\n",
       "\n",
       "    .dataframe thead th {\n",
       "        text-align: right;\n",
       "    }\n",
       "</style>\n",
       "<table border=\"1\" class=\"dataframe\">\n",
       "  <thead>\n",
       "    <tr style=\"text-align: right;\">\n",
       "      <th></th>\n",
       "      <th>Missing</th>\n",
       "      <th>Missing%</th>\n",
       "    </tr>\n",
       "  </thead>\n",
       "  <tbody>\n",
       "  </tbody>\n",
       "</table>\n",
       "</div>"
      ],
      "text/plain": [
       "Empty DataFrame\n",
       "Columns: [Missing, Missing%]\n",
       "Index: []"
      ]
     },
     "execution_count": 32,
     "metadata": {},
     "output_type": "execute_result"
    }
   ],
   "source": [
    "null=train_data.isnull().sum().sort_values(ascending=False)\n",
    "null[null>0]\n",
    "total_rows=15304\n",
    "null_per=pd.DataFrame(null[null>0])\n",
    "null_per.columns=['Missing']\n",
    "null_per['Missing%']=((null_per['Missing']/total_rows)*100).round(2)\n",
    "null_per"
   ]
  },
  {
   "cell_type": "code",
   "execution_count": 33,
   "id": "bae39d94",
   "metadata": {
    "execution": {
     "iopub.execute_input": "2023-01-16T07:36:30.131225Z",
     "iopub.status.busy": "2023-01-16T07:36:30.130501Z",
     "iopub.status.idle": "2023-01-16T07:36:30.136984Z",
     "shell.execute_reply": "2023-01-16T07:36:30.136189Z"
    },
    "papermill": {
     "duration": 0.02458,
     "end_time": "2023-01-16T07:36:30.139191",
     "exception": false,
     "start_time": "2023-01-16T07:36:30.114611",
     "status": "completed"
    },
    "tags": []
   },
   "outputs": [],
   "source": [
    "test_data.drop(['id'],axis=1,inplace=True)"
   ]
  },
  {
   "cell_type": "code",
   "execution_count": 34,
   "id": "c5b5bf72",
   "metadata": {
    "execution": {
     "iopub.execute_input": "2023-01-16T07:36:30.170859Z",
     "iopub.status.busy": "2023-01-16T07:36:30.170599Z",
     "iopub.status.idle": "2023-01-16T07:36:30.186507Z",
     "shell.execute_reply": "2023-01-16T07:36:30.185676Z"
    },
    "papermill": {
     "duration": 0.034103,
     "end_time": "2023-01-16T07:36:30.188521",
     "exception": false,
     "start_time": "2023-01-16T07:36:30.154418",
     "status": "completed"
    },
    "tags": []
   },
   "outputs": [],
   "source": [
    "catt_attr_test=(['gender','ever_married','work_type','Residence_type','smoking_status','hypertension','heart_disease'])\n",
    "test_data[catt_attr_test]=test_data[catt_attr_test].astype('category')"
   ]
  },
  {
   "cell_type": "code",
   "execution_count": 35,
   "id": "b9e4ff3c",
   "metadata": {
    "execution": {
     "iopub.execute_input": "2023-01-16T07:36:30.221294Z",
     "iopub.status.busy": "2023-01-16T07:36:30.220968Z",
     "iopub.status.idle": "2023-01-16T07:36:30.225385Z",
     "shell.execute_reply": "2023-01-16T07:36:30.224374Z"
    },
    "papermill": {
     "duration": 0.02315,
     "end_time": "2023-01-16T07:36:30.227545",
     "exception": false,
     "start_time": "2023-01-16T07:36:30.204395",
     "status": "completed"
    },
    "tags": []
   },
   "outputs": [],
   "source": [
    "num_attr_test =(['age','avg_glucose_level','bmi'])"
   ]
  },
  {
   "cell_type": "code",
   "execution_count": 36,
   "id": "6e198df0",
   "metadata": {
    "execution": {
     "iopub.execute_input": "2023-01-16T07:36:30.260888Z",
     "iopub.status.busy": "2023-01-16T07:36:30.260608Z",
     "iopub.status.idle": "2023-01-16T07:36:30.603989Z",
     "shell.execute_reply": "2023-01-16T07:36:30.603008Z"
    },
    "papermill": {
     "duration": 0.362277,
     "end_time": "2023-01-16T07:36:30.606132",
     "exception": false,
     "start_time": "2023-01-16T07:36:30.243855",
     "status": "completed"
    },
    "tags": []
   },
   "outputs": [
    {
     "name": "stderr",
     "output_type": "stream",
     "text": [
      "/opt/conda/lib/python3.7/site-packages/seaborn/_decorators.py:43: FutureWarning: Pass the following variable as a keyword arg: x. From version 0.12, the only valid positional argument will be `data`, and passing other arguments without an explicit keyword will result in an error or misinterpretation.\n",
      "  FutureWarning\n",
      "/opt/conda/lib/python3.7/site-packages/seaborn/_decorators.py:43: FutureWarning: Pass the following variable as a keyword arg: x. From version 0.12, the only valid positional argument will be `data`, and passing other arguments without an explicit keyword will result in an error or misinterpretation.\n",
      "  FutureWarning\n",
      "/opt/conda/lib/python3.7/site-packages/seaborn/_decorators.py:43: FutureWarning: Pass the following variable as a keyword arg: x. From version 0.12, the only valid positional argument will be `data`, and passing other arguments without an explicit keyword will result in an error or misinterpretation.\n",
      "  FutureWarning\n"
     ]
    },
    {
     "data": {
      "image/png": "[encoded data removed]",
      "text/plain": [
       "<Figure size 1440x1080 with 3 Axes>"
      ]
     },
     "metadata": {
      "needs_background": "light"
     },
     "output_type": "display_data"
    }
   ],
   "source": [
    "plt.figure(figsize = (20, 15))\n",
    "plotnumber = 1\n",
    "for col in num_attr_test:\n",
    "        ax = plt.subplot(10,5, plotnumber)\n",
    "        sns.boxplot(test_data[col])\n",
    "        plt.xlabel(col, fontsize = 15)\n",
    "        plotnumber += 1\n",
    "plt.tight_layout()\n",
    "plt.show()"
   ]
  },
  {
   "cell_type": "code",
   "execution_count": 37,
   "id": "bdc57453",
   "metadata": {
    "execution": {
     "iopub.execute_input": "2023-01-16T07:36:30.639558Z",
     "iopub.status.busy": "2023-01-16T07:36:30.639270Z",
     "iopub.status.idle": "2023-01-16T07:36:30.655840Z",
     "shell.execute_reply": "2023-01-16T07:36:30.654908Z"
    },
    "papermill": {
     "duration": 0.035552,
     "end_time": "2023-01-16T07:36:30.658068",
     "exception": false,
     "start_time": "2023-01-16T07:36:30.622516",
     "status": "completed"
    },
    "tags": []
   },
   "outputs": [],
   "source": [
    "for col in num_attr_test:\n",
    "  q1=test_data[col].quantile(0.25)\n",
    "  q3=test_data[col].quantile(0.70)\n",
    "  iqr = q3-q1\n",
    "  filter1 = (test_data[col]>=q1 - 1.5*iqr) & (test_data[col]<=q3+1.5*iqr)\n",
    "  data=test_data.loc[filter1]"
   ]
  },
  {
   "cell_type": "code",
   "execution_count": 38,
   "id": "a180bcdd",
   "metadata": {
    "execution": {
     "iopub.execute_input": "2023-01-16T07:36:30.691735Z",
     "iopub.status.busy": "2023-01-16T07:36:30.691464Z",
     "iopub.status.idle": "2023-01-16T07:36:31.018538Z",
     "shell.execute_reply": "2023-01-16T07:36:31.017556Z"
    },
    "papermill": {
     "duration": 0.345717,
     "end_time": "2023-01-16T07:36:31.020584",
     "exception": false,
     "start_time": "2023-01-16T07:36:30.674867",
     "status": "completed"
    },
    "tags": []
   },
   "outputs": [
    {
     "name": "stderr",
     "output_type": "stream",
     "text": [
      "/opt/conda/lib/python3.7/site-packages/seaborn/_decorators.py:43: FutureWarning: Pass the following variable as a keyword arg: x. From version 0.12, the only valid positional argument will be `data`, and passing other arguments without an explicit keyword will result in an error or misinterpretation.\n",
      "  FutureWarning\n",
      "/opt/conda/lib/python3.7/site-packages/seaborn/_decorators.py:43: FutureWarning: Pass the following variable as a keyword arg: x. From version 0.12, the only valid positional argument will be `data`, and passing other arguments without an explicit keyword will result in an error or misinterpretation.\n",
      "  FutureWarning\n",
      "/opt/conda/lib/python3.7/site-packages/seaborn/_decorators.py:43: FutureWarning: Pass the following variable as a keyword arg: x. From version 0.12, the only valid positional argument will be `data`, and passing other arguments without an explicit keyword will result in an error or misinterpretation.\n",
      "  FutureWarning\n"
     ]
    },
    {
     "data": {
      "image/png": "[encoded data removed]",
      "text/plain": [
       "<Figure size 1440x1080 with 3 Axes>"
      ]
     },
     "metadata": {
      "needs_background": "light"
     },
     "output_type": "display_data"
    }
   ],
   "source": [
    "plt.figure(figsize = (20, 15))\n",
    "plotnumber = 1\n",
    "for col in num_attr_test:\n",
    "        ax = plt.subplot(10,5, plotnumber)\n",
    "        sns.boxplot(test_data[col])\n",
    "        plt.xlabel(col, fontsize = 15)\n",
    "        plotnumber += 1\n",
    "plt.tight_layout()\n",
    "plt.show()"
   ]
  },
  {
   "cell_type": "code",
   "execution_count": 39,
   "id": "83c147e4",
   "metadata": {
    "execution": {
     "iopub.execute_input": "2023-01-16T07:36:31.057297Z",
     "iopub.status.busy": "2023-01-16T07:36:31.056764Z",
     "iopub.status.idle": "2023-01-16T07:36:31.071910Z",
     "shell.execute_reply": "2023-01-16T07:36:31.071032Z"
    },
    "papermill": {
     "duration": 0.036894,
     "end_time": "2023-01-16T07:36:31.074049",
     "exception": false,
     "start_time": "2023-01-16T07:36:31.037155",
     "status": "completed"
    },
    "tags": []
   },
   "outputs": [],
   "source": [
    "test_data=pd.get_dummies(test_data)"
   ]
  },
  {
   "cell_type": "code",
   "execution_count": 40,
   "id": "be34bfc9",
   "metadata": {
    "execution": {
     "iopub.execute_input": "2023-01-16T07:36:31.108156Z",
     "iopub.status.busy": "2023-01-16T07:36:31.107568Z",
     "iopub.status.idle": "2023-01-16T07:36:31.131420Z",
     "shell.execute_reply": "2023-01-16T07:36:31.130302Z"
    },
    "papermill": {
     "duration": 0.043629,
     "end_time": "2023-01-16T07:36:31.134200",
     "exception": false,
     "start_time": "2023-01-16T07:36:31.090571",
     "status": "completed"
    },
    "tags": []
   },
   "outputs": [
    {
     "data": {
      "text/html": [
       "<div>\n",
       "<style scoped>\n",
       "    .dataframe tbody tr th:only-of-type {\n",
       "        vertical-align: middle;\n",
       "    }\n",
       "\n",
       "    .dataframe tbody tr th {\n",
       "        vertical-align: top;\n",
       "    }\n",
       "\n",
       "    .dataframe thead th {\n",
       "        text-align: right;\n",
       "    }\n",
       "</style>\n",
       "<table border=\"1\" class=\"dataframe\">\n",
       "  <thead>\n",
       "    <tr style=\"text-align: right;\">\n",
       "      <th></th>\n",
       "      <th>age</th>\n",
       "      <th>avg_glucose_level</th>\n",
       "      <th>bmi</th>\n",
       "      <th>gender_Female</th>\n",
       "      <th>gender_Male</th>\n",
       "      <th>gender_Other</th>\n",
       "      <th>hypertension_0</th>\n",
       "      <th>hypertension_1</th>\n",
       "      <th>heart_disease_0</th>\n",
       "      <th>heart_disease_1</th>\n",
       "      <th>...</th>\n",
       "      <th>work_type_Never_worked</th>\n",
       "      <th>work_type_Private</th>\n",
       "      <th>work_type_Self-employed</th>\n",
       "      <th>work_type_children</th>\n",
       "      <th>Residence_type_Rural</th>\n",
       "      <th>Residence_type_Urban</th>\n",
       "      <th>smoking_status_Unknown</th>\n",
       "      <th>smoking_status_formerly smoked</th>\n",
       "      <th>smoking_status_never smoked</th>\n",
       "      <th>smoking_status_smokes</th>\n",
       "    </tr>\n",
       "  </thead>\n",
       "  <tbody>\n",
       "    <tr>\n",
       "      <th>0</th>\n",
       "      <td>57.0</td>\n",
       "      <td>82.54</td>\n",
       "      <td>33.4</td>\n",
       "      <td>1</td>\n",
       "      <td>0</td>\n",
       "      <td>0</td>\n",
       "      <td>1</td>\n",
       "      <td>0</td>\n",
       "      <td>1</td>\n",
       "      <td>0</td>\n",
       "      <td>...</td>\n",
       "      <td>0</td>\n",
       "      <td>1</td>\n",
       "      <td>0</td>\n",
       "      <td>0</td>\n",
       "      <td>1</td>\n",
       "      <td>0</td>\n",
       "      <td>1</td>\n",
       "      <td>0</td>\n",
       "      <td>0</td>\n",
       "      <td>0</td>\n",
       "    </tr>\n",
       "    <tr>\n",
       "      <th>1</th>\n",
       "      <td>70.0</td>\n",
       "      <td>72.06</td>\n",
       "      <td>28.5</td>\n",
       "      <td>0</td>\n",
       "      <td>1</td>\n",
       "      <td>0</td>\n",
       "      <td>0</td>\n",
       "      <td>1</td>\n",
       "      <td>1</td>\n",
       "      <td>0</td>\n",
       "      <td>...</td>\n",
       "      <td>0</td>\n",
       "      <td>1</td>\n",
       "      <td>0</td>\n",
       "      <td>0</td>\n",
       "      <td>0</td>\n",
       "      <td>1</td>\n",
       "      <td>1</td>\n",
       "      <td>0</td>\n",
       "      <td>0</td>\n",
       "      <td>0</td>\n",
       "    </tr>\n",
       "    <tr>\n",
       "      <th>2</th>\n",
       "      <td>5.0</td>\n",
       "      <td>103.72</td>\n",
       "      <td>19.5</td>\n",
       "      <td>1</td>\n",
       "      <td>0</td>\n",
       "      <td>0</td>\n",
       "      <td>1</td>\n",
       "      <td>0</td>\n",
       "      <td>1</td>\n",
       "      <td>0</td>\n",
       "      <td>...</td>\n",
       "      <td>0</td>\n",
       "      <td>0</td>\n",
       "      <td>0</td>\n",
       "      <td>1</td>\n",
       "      <td>0</td>\n",
       "      <td>1</td>\n",
       "      <td>1</td>\n",
       "      <td>0</td>\n",
       "      <td>0</td>\n",
       "      <td>0</td>\n",
       "    </tr>\n",
       "    <tr>\n",
       "      <th>3</th>\n",
       "      <td>56.0</td>\n",
       "      <td>69.24</td>\n",
       "      <td>41.4</td>\n",
       "      <td>1</td>\n",
       "      <td>0</td>\n",
       "      <td>0</td>\n",
       "      <td>1</td>\n",
       "      <td>0</td>\n",
       "      <td>1</td>\n",
       "      <td>0</td>\n",
       "      <td>...</td>\n",
       "      <td>0</td>\n",
       "      <td>0</td>\n",
       "      <td>0</td>\n",
       "      <td>0</td>\n",
       "      <td>0</td>\n",
       "      <td>1</td>\n",
       "      <td>0</td>\n",
       "      <td>0</td>\n",
       "      <td>0</td>\n",
       "      <td>1</td>\n",
       "    </tr>\n",
       "    <tr>\n",
       "      <th>4</th>\n",
       "      <td>32.0</td>\n",
       "      <td>111.15</td>\n",
       "      <td>30.1</td>\n",
       "      <td>0</td>\n",
       "      <td>1</td>\n",
       "      <td>0</td>\n",
       "      <td>1</td>\n",
       "      <td>0</td>\n",
       "      <td>1</td>\n",
       "      <td>0</td>\n",
       "      <td>...</td>\n",
       "      <td>0</td>\n",
       "      <td>1</td>\n",
       "      <td>0</td>\n",
       "      <td>0</td>\n",
       "      <td>1</td>\n",
       "      <td>0</td>\n",
       "      <td>0</td>\n",
       "      <td>0</td>\n",
       "      <td>0</td>\n",
       "      <td>1</td>\n",
       "    </tr>\n",
       "    <tr>\n",
       "      <th>...</th>\n",
       "      <td>...</td>\n",
       "      <td>...</td>\n",
       "      <td>...</td>\n",
       "      <td>...</td>\n",
       "      <td>...</td>\n",
       "      <td>...</td>\n",
       "      <td>...</td>\n",
       "      <td>...</td>\n",
       "      <td>...</td>\n",
       "      <td>...</td>\n",
       "      <td>...</td>\n",
       "      <td>...</td>\n",
       "      <td>...</td>\n",
       "      <td>...</td>\n",
       "      <td>...</td>\n",
       "      <td>...</td>\n",
       "      <td>...</td>\n",
       "      <td>...</td>\n",
       "      <td>...</td>\n",
       "      <td>...</td>\n",
       "      <td>...</td>\n",
       "    </tr>\n",
       "    <tr>\n",
       "      <th>10199</th>\n",
       "      <td>27.0</td>\n",
       "      <td>75.77</td>\n",
       "      <td>17.6</td>\n",
       "      <td>1</td>\n",
       "      <td>0</td>\n",
       "      <td>0</td>\n",
       "      <td>1</td>\n",
       "      <td>0</td>\n",
       "      <td>1</td>\n",
       "      <td>0</td>\n",
       "      <td>...</td>\n",
       "      <td>0</td>\n",
       "      <td>1</td>\n",
       "      <td>0</td>\n",
       "      <td>0</td>\n",
       "      <td>0</td>\n",
       "      <td>1</td>\n",
       "      <td>0</td>\n",
       "      <td>0</td>\n",
       "      <td>1</td>\n",
       "      <td>0</td>\n",
       "    </tr>\n",
       "    <tr>\n",
       "      <th>10200</th>\n",
       "      <td>49.0</td>\n",
       "      <td>102.91</td>\n",
       "      <td>26.7</td>\n",
       "      <td>0</td>\n",
       "      <td>1</td>\n",
       "      <td>0</td>\n",
       "      <td>1</td>\n",
       "      <td>0</td>\n",
       "      <td>1</td>\n",
       "      <td>0</td>\n",
       "      <td>...</td>\n",
       "      <td>0</td>\n",
       "      <td>1</td>\n",
       "      <td>0</td>\n",
       "      <td>0</td>\n",
       "      <td>0</td>\n",
       "      <td>1</td>\n",
       "      <td>1</td>\n",
       "      <td>0</td>\n",
       "      <td>0</td>\n",
       "      <td>0</td>\n",
       "    </tr>\n",
       "    <tr>\n",
       "      <th>10201</th>\n",
       "      <td>3.0</td>\n",
       "      <td>104.04</td>\n",
       "      <td>18.3</td>\n",
       "      <td>1</td>\n",
       "      <td>0</td>\n",
       "      <td>0</td>\n",
       "      <td>1</td>\n",
       "      <td>0</td>\n",
       "      <td>1</td>\n",
       "      <td>0</td>\n",
       "      <td>...</td>\n",
       "      <td>0</td>\n",
       "      <td>0</td>\n",
       "      <td>0</td>\n",
       "      <td>1</td>\n",
       "      <td>1</td>\n",
       "      <td>0</td>\n",
       "      <td>1</td>\n",
       "      <td>0</td>\n",
       "      <td>0</td>\n",
       "      <td>0</td>\n",
       "    </tr>\n",
       "    <tr>\n",
       "      <th>10202</th>\n",
       "      <td>31.0</td>\n",
       "      <td>82.41</td>\n",
       "      <td>28.7</td>\n",
       "      <td>0</td>\n",
       "      <td>1</td>\n",
       "      <td>0</td>\n",
       "      <td>1</td>\n",
       "      <td>0</td>\n",
       "      <td>1</td>\n",
       "      <td>0</td>\n",
       "      <td>...</td>\n",
       "      <td>0</td>\n",
       "      <td>1</td>\n",
       "      <td>0</td>\n",
       "      <td>0</td>\n",
       "      <td>0</td>\n",
       "      <td>1</td>\n",
       "      <td>0</td>\n",
       "      <td>0</td>\n",
       "      <td>1</td>\n",
       "      <td>0</td>\n",
       "    </tr>\n",
       "    <tr>\n",
       "      <th>10203</th>\n",
       "      <td>2.0</td>\n",
       "      <td>85.12</td>\n",
       "      <td>14.8</td>\n",
       "      <td>1</td>\n",
       "      <td>0</td>\n",
       "      <td>0</td>\n",
       "      <td>1</td>\n",
       "      <td>0</td>\n",
       "      <td>1</td>\n",
       "      <td>0</td>\n",
       "      <td>...</td>\n",
       "      <td>0</td>\n",
       "      <td>0</td>\n",
       "      <td>0</td>\n",
       "      <td>1</td>\n",
       "      <td>0</td>\n",
       "      <td>1</td>\n",
       "      <td>1</td>\n",
       "      <td>0</td>\n",
       "      <td>0</td>\n",
       "      <td>0</td>\n",
       "    </tr>\n",
       "  </tbody>\n",
       "</table>\n",
       "<p>10204 rows × 23 columns</p>\n",
       "</div>"
      ],
      "text/plain": [
       "        age  avg_glucose_level   bmi  gender_Female  gender_Male  \\\n",
       "0      57.0              82.54  33.4              1            0   \n",
       "1      70.0              72.06  28.5              0            1   \n",
       "2       5.0             103.72  19.5              1            0   \n",
       "3      56.0              69.24  41.4              1            0   \n",
       "4      32.0             111.15  30.1              0            1   \n",
       "...     ...                ...   ...            ...          ...   \n",
       "10199  27.0              75.77  17.6              1            0   \n",
       "10200  49.0             102.91  26.7              0            1   \n",
       "10201   3.0             104.04  18.3              1            0   \n",
       "10202  31.0              82.41  28.7              0            1   \n",
       "10203   2.0              85.12  14.8              1            0   \n",
       "\n",
       "       gender_Other  hypertension_0  hypertension_1  heart_disease_0  \\\n",
       "0                 0               1               0                1   \n",
       "1                 0               0               1                1   \n",
       "2                 0               1               0                1   \n",
       "3                 0               1               0                1   \n",
       "4                 0               1               0                1   \n",
       "...             ...             ...             ...              ...   \n",
       "10199             0               1               0                1   \n",
       "10200             0               1               0                1   \n",
       "10201             0               1               0                1   \n",
       "10202             0               1               0                1   \n",
       "10203             0               1               0                1   \n",
       "\n",
       "       heart_disease_1  ...  work_type_Never_worked  work_type_Private  \\\n",
       "0                    0  ...                       0                  1   \n",
       "1                    0  ...                       0                  1   \n",
       "2                    0  ...                       0                  0   \n",
       "3                    0  ...                       0                  0   \n",
       "4                    0  ...                       0                  1   \n",
       "...                ...  ...                     ...                ...   \n",
       "10199                0  ...                       0                  1   \n",
       "10200                0  ...                       0                  1   \n",
       "10201                0  ...                       0                  0   \n",
       "10202                0  ...                       0                  1   \n",
       "10203                0  ...                       0                  0   \n",
       "\n",
       "       work_type_Self-employed  work_type_children  Residence_type_Rural  \\\n",
       "0                            0                   0                     1   \n",
       "1                            0                   0                     0   \n",
       "2                            0                   1                     0   \n",
       "3                            0                   0                     0   \n",
       "4                            0                   0                     1   \n",
       "...                        ...                 ...                   ...   \n",
       "10199                        0                   0                     0   \n",
       "10200                        0                   0                     0   \n",
       "10201                        0                   1                     1   \n",
       "10202                        0                   0                     0   \n",
       "10203                        0                   1                     0   \n",
       "\n",
       "       Residence_type_Urban  smoking_status_Unknown  \\\n",
       "0                         0                       1   \n",
       "1                         1                       1   \n",
       "2                         1                       1   \n",
       "3                         1                       0   \n",
       "4                         0                       0   \n",
       "...                     ...                     ...   \n",
       "10199                     1                       0   \n",
       "10200                     1                       1   \n",
       "10201                     0                       1   \n",
       "10202                     1                       0   \n",
       "10203                     1                       1   \n",
       "\n",
       "       smoking_status_formerly smoked  smoking_status_never smoked  \\\n",
       "0                                   0                            0   \n",
       "1                                   0                            0   \n",
       "2                                   0                            0   \n",
       "3                                   0                            0   \n",
       "4                                   0                            0   \n",
       "...                               ...                          ...   \n",
       "10199                               0                            1   \n",
       "10200                               0                            0   \n",
       "10201                               0                            0   \n",
       "10202                               0                            1   \n",
       "10203                               0                            0   \n",
       "\n",
       "       smoking_status_smokes  \n",
       "0                          0  \n",
       "1                          0  \n",
       "2                          0  \n",
       "3                          1  \n",
       "4                          1  \n",
       "...                      ...  \n",
       "10199                      0  \n",
       "10200                      0  \n",
       "10201                      0  \n",
       "10202                      0  \n",
       "10203                      0  \n",
       "\n",
       "[10204 rows x 23 columns]"
      ]
     },
     "execution_count": 40,
     "metadata": {},
     "output_type": "execute_result"
    }
   ],
   "source": [
    "test_data"
   ]
  },
  {
   "cell_type": "code",
   "execution_count": 41,
   "id": "d0e99793",
   "metadata": {
    "execution": {
     "iopub.execute_input": "2023-01-16T07:36:31.170827Z",
     "iopub.status.busy": "2023-01-16T07:36:31.170044Z",
     "iopub.status.idle": "2023-01-16T07:36:31.177860Z",
     "shell.execute_reply": "2023-01-16T07:36:31.176707Z"
    },
    "papermill": {
     "duration": 0.029482,
     "end_time": "2023-01-16T07:36:31.181525",
     "exception": false,
     "start_time": "2023-01-16T07:36:31.152043",
     "status": "completed"
    },
    "tags": []
   },
   "outputs": [],
   "source": [
    "test=LR.predict(test_data)"
   ]
  },
  {
   "cell_type": "code",
   "execution_count": 42,
   "id": "403dd71f",
   "metadata": {
    "execution": {
     "iopub.execute_input": "2023-01-16T07:36:31.272122Z",
     "iopub.status.busy": "2023-01-16T07:36:31.271546Z",
     "iopub.status.idle": "2023-01-16T07:36:31.284714Z",
     "shell.execute_reply": "2023-01-16T07:36:31.283451Z"
    },
    "papermill": {
     "duration": 0.062997,
     "end_time": "2023-01-16T07:36:31.288458",
     "exception": false,
     "start_time": "2023-01-16T07:36:31.225461",
     "status": "completed"
    },
    "tags": []
   },
   "outputs": [],
   "source": [
    "test=LR.predict_proba(test_data)"
   ]
  },
  {
   "cell_type": "code",
   "execution_count": null,
   "id": "05a4aa86",
   "metadata": {
    "papermill": {
     "duration": 0.047111,
     "end_time": "2023-01-16T07:36:31.383413",
     "exception": false,
     "start_time": "2023-01-16T07:36:31.336302",
     "status": "completed"
    },
    "tags": []
   },
   "outputs": [],
   "source": []
  },
  {
   "cell_type": "code",
   "execution_count": 43,
   "id": "3b54d059",
   "metadata": {
    "execution": {
     "iopub.execute_input": "2023-01-16T07:36:31.439143Z",
     "iopub.status.busy": "2023-01-16T07:36:31.438818Z",
     "iopub.status.idle": "2023-01-16T07:36:31.469521Z",
     "shell.execute_reply": "2023-01-16T07:36:31.468468Z"
    },
    "papermill": {
     "duration": 0.050436,
     "end_time": "2023-01-16T07:36:31.471680",
     "exception": false,
     "start_time": "2023-01-16T07:36:31.421244",
     "status": "completed"
    },
    "tags": []
   },
   "outputs": [],
   "source": [
    "sample_submission = pd.read_csv(\"/kaggle/input/playground-series-s3e2/sample_submission.csv\")\n",
    "sample_submission[\"stroke\"] = test\n",
    "sample_submission.to_csv(\"submission.csv\", index=False)"
   ]
  },
  {
   "cell_type": "code",
   "execution_count": 44,
   "id": "e2b1f63d",
   "metadata": {
    "execution": {
     "iopub.execute_input": "2023-01-16T07:36:31.507636Z",
     "iopub.status.busy": "2023-01-16T07:36:31.505924Z",
     "iopub.status.idle": "2023-01-16T07:36:31.521835Z",
     "shell.execute_reply": "2023-01-16T07:36:31.520807Z"
    },
    "papermill": {
     "duration": 0.035345,
     "end_time": "2023-01-16T07:36:31.523952",
     "exception": false,
     "start_time": "2023-01-16T07:36:31.488607",
     "status": "completed"
    },
    "tags": []
   },
   "outputs": [
    {
     "data": {
      "text/html": [
       "<div>\n",
       "<style scoped>\n",
       "    .dataframe tbody tr th:only-of-type {\n",
       "        vertical-align: middle;\n",
       "    }\n",
       "\n",
       "    .dataframe tbody tr th {\n",
       "        vertical-align: top;\n",
       "    }\n",
       "\n",
       "    .dataframe thead th {\n",
       "        text-align: right;\n",
       "    }\n",
       "</style>\n",
       "<table border=\"1\" class=\"dataframe\">\n",
       "  <thead>\n",
       "    <tr style=\"text-align: right;\">\n",
       "      <th></th>\n",
       "      <th>id</th>\n",
       "      <th>stroke</th>\n",
       "    </tr>\n",
       "  </thead>\n",
       "  <tbody>\n",
       "    <tr>\n",
       "      <th>0</th>\n",
       "      <td>15304</td>\n",
       "      <td>0.000000e+00</td>\n",
       "    </tr>\n",
       "    <tr>\n",
       "      <th>1</th>\n",
       "      <td>15305</td>\n",
       "      <td>0.000000e+00</td>\n",
       "    </tr>\n",
       "    <tr>\n",
       "      <th>2</th>\n",
       "      <td>15306</td>\n",
       "      <td>3.552714e-15</td>\n",
       "    </tr>\n",
       "    <tr>\n",
       "      <th>3</th>\n",
       "      <td>15307</td>\n",
       "      <td>0.000000e+00</td>\n",
       "    </tr>\n",
       "    <tr>\n",
       "      <th>4</th>\n",
       "      <td>15308</td>\n",
       "      <td>0.000000e+00</td>\n",
       "    </tr>\n",
       "    <tr>\n",
       "      <th>...</th>\n",
       "      <td>...</td>\n",
       "      <td>...</td>\n",
       "    </tr>\n",
       "    <tr>\n",
       "      <th>10199</th>\n",
       "      <td>25503</td>\n",
       "      <td>0.000000e+00</td>\n",
       "    </tr>\n",
       "    <tr>\n",
       "      <th>10200</th>\n",
       "      <td>25504</td>\n",
       "      <td>0.000000e+00</td>\n",
       "    </tr>\n",
       "    <tr>\n",
       "      <th>10201</th>\n",
       "      <td>25505</td>\n",
       "      <td>3.090861e-13</td>\n",
       "    </tr>\n",
       "    <tr>\n",
       "      <th>10202</th>\n",
       "      <td>25506</td>\n",
       "      <td>0.000000e+00</td>\n",
       "    </tr>\n",
       "    <tr>\n",
       "      <th>10203</th>\n",
       "      <td>25507</td>\n",
       "      <td>2.157525e-10</td>\n",
       "    </tr>\n",
       "  </tbody>\n",
       "</table>\n",
       "<p>10204 rows × 2 columns</p>\n",
       "</div>"
      ],
      "text/plain": [
       "          id        stroke\n",
       "0      15304  0.000000e+00\n",
       "1      15305  0.000000e+00\n",
       "2      15306  3.552714e-15\n",
       "3      15307  0.000000e+00\n",
       "4      15308  0.000000e+00\n",
       "...      ...           ...\n",
       "10199  25503  0.000000e+00\n",
       "10200  25504  0.000000e+00\n",
       "10201  25505  3.090861e-13\n",
       "10202  25506  0.000000e+00\n",
       "10203  25507  2.157525e-10\n",
       "\n",
       "[10204 rows x 2 columns]"
      ]
     },
     "execution_count": 44,
     "metadata": {},
     "output_type": "execute_result"
    }
   ],
   "source": [
    "pd.read_csv(\"submission.csv\")"
   ]
  },
  {
   "cell_type": "code",
   "execution_count": 45,
   "id": "6a2bc66a",
   "metadata": {
    "execution": {
     "iopub.execute_input": "2023-01-16T07:36:31.559597Z",
     "iopub.status.busy": "2023-01-16T07:36:31.558961Z",
     "iopub.status.idle": "2023-01-16T07:36:31.673519Z",
     "shell.execute_reply": "2023-01-16T07:36:31.672099Z"
    },
    "papermill": {
     "duration": 0.134176,
     "end_time": "2023-01-16T07:36:31.675641",
     "exception": false,
     "start_time": "2023-01-16T07:36:31.541465",
     "status": "completed"
    },
    "tags": []
   },
   "outputs": [
    {
     "name": "stdout",
     "output_type": "stream",
     "text": [
      "========Train=======\n",
      "Confusion Matrix \n",
      "[[11745     0]\n",
      " [    0   498]]\n",
      "========Test=======\n",
      "Confusion Matrix \n",
      "[[2827  100]\n",
      " [ 113   21]]\n"
     ]
    }
   ],
   "source": [
    "from sklearn.tree import DecisionTreeClassifier\n",
    "DTC = DecisionTreeClassifier(class_weight=\"balanced\")\n",
    "DTC.fit(X_train,y_train)\n",
    "y_pred_train = DTC.predict(X_train)\n",
    "y_pred_test = DTC.predict(X_test)\n",
    "print('========Train=======')\n",
    "print(f\"Confusion Matrix \\n{confusion_matrix(y_train, y_pred_train)}\")\n",
    "print('========Test=======')\n",
    "print(f\"Confusion Matrix \\n{confusion_matrix(y_test, y_pred_test)}\")"
   ]
  },
  {
   "cell_type": "code",
   "execution_count": 46,
   "id": "f9b5af47",
   "metadata": {
    "execution": {
     "iopub.execute_input": "2023-01-16T07:36:31.710493Z",
     "iopub.status.busy": "2023-01-16T07:36:31.709531Z",
     "iopub.status.idle": "2023-01-16T07:36:31.723548Z",
     "shell.execute_reply": "2023-01-16T07:36:31.722038Z"
    },
    "papermill": {
     "duration": 0.034053,
     "end_time": "2023-01-16T07:36:31.726090",
     "exception": false,
     "start_time": "2023-01-16T07:36:31.692037",
     "status": "completed"
    },
    "tags": []
   },
   "outputs": [
    {
     "name": "stdout",
     "output_type": "stream",
     "text": [
      "1.0\n",
      "1.0\n",
      "1.0\n"
     ]
    }
   ],
   "source": [
    "print(accuracy_score(y_train,y_pred_train))\n",
    "print(recall_score(y_train,y_pred_train))\n",
    "print(f1_score(y_train,y_pred_train))"
   ]
  },
  {
   "cell_type": "code",
   "execution_count": 47,
   "id": "e9a30765",
   "metadata": {
    "execution": {
     "iopub.execute_input": "2023-01-16T07:36:31.763120Z",
     "iopub.status.busy": "2023-01-16T07:36:31.762811Z",
     "iopub.status.idle": "2023-01-16T07:36:31.773653Z",
     "shell.execute_reply": "2023-01-16T07:36:31.772654Z"
    },
    "papermill": {
     "duration": 0.031188,
     "end_time": "2023-01-16T07:36:31.775831",
     "exception": false,
     "start_time": "2023-01-16T07:36:31.744643",
     "status": "completed"
    },
    "tags": []
   },
   "outputs": [
    {
     "name": "stdout",
     "output_type": "stream",
     "text": [
      "accuracy-score 0.9304148970924534\n",
      "recall-score 0.15671641791044777\n",
      "0.1647058823529412\n"
     ]
    }
   ],
   "source": [
    "print(\"accuracy-score\",(accuracy_score(y_test,y_pred_test)))\n",
    "print(\"recall-score\",recall_score(y_test,y_pred_test))\n",
    "print(f1_score(y_test,y_pred_test))"
   ]
  },
  {
   "cell_type": "code",
   "execution_count": 48,
   "id": "1c200798",
   "metadata": {
    "execution": {
     "iopub.execute_input": "2023-01-16T07:36:31.810654Z",
     "iopub.status.busy": "2023-01-16T07:36:31.810393Z",
     "iopub.status.idle": "2023-01-16T07:36:32.005805Z",
     "shell.execute_reply": "2023-01-16T07:36:32.004889Z"
    },
    "papermill": {
     "duration": 0.214859,
     "end_time": "2023-01-16T07:36:32.007929",
     "exception": false,
     "start_time": "2023-01-16T07:36:31.793070",
     "status": "completed"
    },
    "tags": []
   },
   "outputs": [
    {
     "data": {
      "image/png": "[encoded data removed]",
      "text/plain": [
       "<Figure size 432x288 with 1 Axes>"
      ]
     },
     "metadata": {
      "needs_background": "light"
     },
     "output_type": "display_data"
    }
   ],
   "source": [
    "auc = metrics.roc_auc_score(y_test, y_pred_test)\n",
    "fpr, tpr, _ = metrics.roc_curve(y_test,  y_pred_test)\n",
    "#create ROC curve\n",
    "plt.plot(fpr,tpr,label=\"AUC=\"+str(auc))\n",
    "plt.ylabel('True Positive Rate')\n",
    "plt.xlabel('False Positive Rate')\n",
    "plt.legend(loc=4)\n",
    "plt.show()"
   ]
  },
  {
   "cell_type": "code",
   "execution_count": 49,
   "id": "74461a36",
   "metadata": {
    "execution": {
     "iopub.execute_input": "2023-01-16T07:36:32.043776Z",
     "iopub.status.busy": "2023-01-16T07:36:32.043483Z",
     "iopub.status.idle": "2023-01-16T07:36:35.696577Z",
     "shell.execute_reply": "2023-01-16T07:36:35.695562Z"
    },
    "papermill": {
     "duration": 3.674148,
     "end_time": "2023-01-16T07:36:35.699700",
     "exception": false,
     "start_time": "2023-01-16T07:36:32.025552",
     "status": "completed"
    },
    "tags": []
   },
   "outputs": [
    {
     "name": "stdout",
     "output_type": "stream",
     "text": [
      "========Train=======\n",
      "Confusion Matrix \n",
      "[[11710    35]\n",
      " [  430    68]]\n",
      "========Test=======\n",
      "Confusion Matrix \n",
      "[[2913   14]\n",
      " [ 128    6]]\n"
     ]
    }
   ],
   "source": [
    "from sklearn.neighbors import KNeighborsClassifier\n",
    "KNN = KNeighborsClassifier(weights=\"uniform\")\n",
    "KNN.fit(X_train,y_train)\n",
    "X_train_pred=KNN.predict(X_train)\n",
    "X_test_pred=KNN.predict(X_test)\n",
    "print('========Train=======')\n",
    "print(f\"Confusion Matrix \\n{confusion_matrix(y_train, X_train_pred)}\")\n",
    "print('========Test=======')\n",
    "print(f\"Confusion Matrix \\n{confusion_matrix(y_test, X_test_pred)}\")"
   ]
  },
  {
   "cell_type": "code",
   "execution_count": 50,
   "id": "ea12e04c",
   "metadata": {
    "execution": {
     "iopub.execute_input": "2023-01-16T07:36:35.735036Z",
     "iopub.status.busy": "2023-01-16T07:36:35.734702Z",
     "iopub.status.idle": "2023-01-16T07:36:35.747908Z",
     "shell.execute_reply": "2023-01-16T07:36:35.746527Z"
    },
    "papermill": {
     "duration": 0.033073,
     "end_time": "2023-01-16T07:36:35.750073",
     "exception": false,
     "start_time": "2023-01-16T07:36:35.717000",
     "status": "completed"
    },
    "tags": []
   },
   "outputs": [
    {
     "name": "stdout",
     "output_type": "stream",
     "text": [
      "0.9620191129625092\n",
      "0.13654618473895583\n",
      "0.22628951747088186\n"
     ]
    }
   ],
   "source": [
    "print(accuracy_score(y_train,X_train_pred))\n",
    "print(recall_score(y_train,X_train_pred))\n",
    "print(f1_score(y_train,X_train_pred))"
   ]
  },
  {
   "cell_type": "code",
   "execution_count": 51,
   "id": "dc28dac5",
   "metadata": {
    "execution": {
     "iopub.execute_input": "2023-01-16T07:36:35.785906Z",
     "iopub.status.busy": "2023-01-16T07:36:35.784998Z",
     "iopub.status.idle": "2023-01-16T07:36:35.794479Z",
     "shell.execute_reply": "2023-01-16T07:36:35.793041Z"
    },
    "papermill": {
     "duration": 0.030009,
     "end_time": "2023-01-16T07:36:35.797467",
     "exception": false,
     "start_time": "2023-01-16T07:36:35.767458",
     "status": "completed"
    },
    "tags": []
   },
   "outputs": [
    {
     "name": "stdout",
     "output_type": "stream",
     "text": [
      "accuracy-score 0.953609931394969\n",
      "recall-score 0.04477611940298507\n",
      "0.0779220779220779\n"
     ]
    }
   ],
   "source": [
    "print(\"accuracy-score\",(accuracy_score(y_test,X_test_pred)))\n",
    "print(\"recall-score\",recall_score(y_test,X_test_pred))\n",
    "print(f1_score(y_test,X_test_pred))"
   ]
  },
  {
   "cell_type": "code",
   "execution_count": 52,
   "id": "2c40db9c",
   "metadata": {
    "execution": {
     "iopub.execute_input": "2023-01-16T07:36:35.833487Z",
     "iopub.status.busy": "2023-01-16T07:36:35.832692Z",
     "iopub.status.idle": "2023-01-16T07:36:36.021017Z",
     "shell.execute_reply": "2023-01-16T07:36:36.020143Z"
    },
    "papermill": {
     "duration": 0.207998,
     "end_time": "2023-01-16T07:36:36.023089",
     "exception": false,
     "start_time": "2023-01-16T07:36:35.815091",
     "status": "completed"
    },
    "tags": []
   },
   "outputs": [
    {
     "data": {
      "image/png": "[encoded data removed]",
      "text/plain": [
       "<Figure size 432x288 with 1 Axes>"
      ]
     },
     "metadata": {
      "needs_background": "light"
     },
     "output_type": "display_data"
    }
   ],
   "source": [
    "auc = metrics.roc_auc_score(y_test, X_test_pred)\n",
    "fpr, tpr, _ = metrics.roc_curve(y_test,  X_test_pred)\n",
    "#create ROC curve\n",
    "plt.plot(fpr,tpr,label=\"AUC=\"+str(auc))\n",
    "plt.ylabel('True Positive Rate')\n",
    "plt.xlabel('False Positive Rate')\n",
    "plt.legend(loc=4)\n",
    "plt.show()"
   ]
  },
  {
   "cell_type": "code",
   "execution_count": 53,
   "id": "af0b3370",
   "metadata": {
    "execution": {
     "iopub.execute_input": "2023-01-16T07:36:36.061332Z",
     "iopub.status.busy": "2023-01-16T07:36:36.061048Z",
     "iopub.status.idle": "2023-01-16T07:36:36.080292Z",
     "shell.execute_reply": "2023-01-16T07:36:36.079407Z"
    },
    "papermill": {
     "duration": 0.04104,
     "end_time": "2023-01-16T07:36:36.082576",
     "exception": false,
     "start_time": "2023-01-16T07:36:36.041536",
     "status": "completed"
    },
    "tags": []
   },
   "outputs": [],
   "source": [
    "from sklearn.naive_bayes import GaussianNB\n",
    "NBmodel = GaussianNB().fit(X_train,y_train) \n",
    "nb_pred_train = NBmodel.predict(X_train)  \n",
    "nb_pred_test = NBmodel.predict(X_test) #predict on test data "
   ]
  },
  {
   "cell_type": "code",
   "execution_count": 54,
   "id": "767486ea",
   "metadata": {
    "execution": {
     "iopub.execute_input": "2023-01-16T07:36:36.119200Z",
     "iopub.status.busy": "2023-01-16T07:36:36.118393Z",
     "iopub.status.idle": "2023-01-16T07:36:36.126222Z",
     "shell.execute_reply": "2023-01-16T07:36:36.125034Z"
    },
    "papermill": {
     "duration": 0.028436,
     "end_time": "2023-01-16T07:36:36.128709",
     "exception": false,
     "start_time": "2023-01-16T07:36:36.100273",
     "status": "completed"
    },
    "tags": []
   },
   "outputs": [
    {
     "name": "stdout",
     "output_type": "stream",
     "text": [
      "========Train=======\n",
      "Confusion Matrix \n",
      "[[3932 7813]\n",
      " [  28  470]]\n"
     ]
    }
   ],
   "source": [
    "print('========Train=======')\n",
    "print(f\"Confusion Matrix \\n{confusion_matrix(y_train, nb_pred_train)}\")"
   ]
  },
  {
   "cell_type": "code",
   "execution_count": 55,
   "id": "8e3bafcc",
   "metadata": {
    "execution": {
     "iopub.execute_input": "2023-01-16T07:36:36.165290Z",
     "iopub.status.busy": "2023-01-16T07:36:36.164413Z",
     "iopub.status.idle": "2023-01-16T07:36:36.171189Z",
     "shell.execute_reply": "2023-01-16T07:36:36.169891Z"
    },
    "papermill": {
     "duration": 0.026636,
     "end_time": "2023-01-16T07:36:36.173149",
     "exception": false,
     "start_time": "2023-01-16T07:36:36.146513",
     "status": "completed"
    },
    "tags": []
   },
   "outputs": [
    {
     "name": "stdout",
     "output_type": "stream",
     "text": [
      "========Test=======\n",
      "Confusion Matrix \n",
      "[[ 977 1950]\n",
      " [   5  129]]\n"
     ]
    }
   ],
   "source": [
    "print('========Test=======')\n",
    "print(f\"Confusion Matrix \\n{confusion_matrix(y_test, nb_pred_test)}\")#confusion matrix of test dfs"
   ]
  },
  {
   "cell_type": "code",
   "execution_count": 56,
   "id": "61d6b0f3",
   "metadata": {
    "execution": {
     "iopub.execute_input": "2023-01-16T07:36:36.208963Z",
     "iopub.status.busy": "2023-01-16T07:36:36.208107Z",
     "iopub.status.idle": "2023-01-16T07:36:36.222428Z",
     "shell.execute_reply": "2023-01-16T07:36:36.221141Z"
    },
    "papermill": {
     "duration": 0.034271,
     "end_time": "2023-01-16T07:36:36.224383",
     "exception": false,
     "start_time": "2023-01-16T07:36:36.190112",
     "status": "completed"
    },
    "tags": []
   },
   "outputs": [
    {
     "name": "stdout",
     "output_type": "stream",
     "text": [
      "0.35955239728824634\n",
      "0.9437751004016064\n",
      "0.10704931101241318\n"
     ]
    }
   ],
   "source": [
    "print(accuracy_score(y_train,nb_pred_train))\n",
    "print(recall_score(y_train,nb_pred_train))\n",
    "print(f1_score(y_train,nb_pred_train))"
   ]
  },
  {
   "cell_type": "code",
   "execution_count": 57,
   "id": "5e515f07",
   "metadata": {
    "execution": {
     "iopub.execute_input": "2023-01-16T07:36:36.263117Z",
     "iopub.status.busy": "2023-01-16T07:36:36.262342Z",
     "iopub.status.idle": "2023-01-16T07:36:36.272538Z",
     "shell.execute_reply": "2023-01-16T07:36:36.271031Z"
    },
    "papermill": {
     "duration": 0.032471,
     "end_time": "2023-01-16T07:36:36.275122",
     "exception": false,
     "start_time": "2023-01-16T07:36:36.242651",
     "status": "completed"
    },
    "tags": []
   },
   "outputs": [
    {
     "name": "stdout",
     "output_type": "stream",
     "text": [
      "accuracy-score 0.36131983012087554\n",
      "recall-score 0.9626865671641791\n",
      "0.11658382286488927\n"
     ]
    }
   ],
   "source": [
    "print(\"accuracy-score\",(accuracy_score(y_test,nb_pred_test)))\n",
    "print(\"recall-score\",recall_score(y_test,nb_pred_test))\n",
    "print(f1_score(y_test,nb_pred_test))"
   ]
  },
  {
   "cell_type": "code",
   "execution_count": 58,
   "id": "fdc8de32",
   "metadata": {
    "execution": {
     "iopub.execute_input": "2023-01-16T07:36:36.313094Z",
     "iopub.status.busy": "2023-01-16T07:36:36.312819Z",
     "iopub.status.idle": "2023-01-16T07:36:36.519782Z",
     "shell.execute_reply": "2023-01-16T07:36:36.518909Z"
    },
    "papermill": {
     "duration": 0.22774,
     "end_time": "2023-01-16T07:36:36.521967",
     "exception": false,
     "start_time": "2023-01-16T07:36:36.294227",
     "status": "completed"
    },
    "tags": []
   },
   "outputs": [
    {
     "data": {
      "image/png": "[encoded data removed]",
      "text/plain": [
       "<Figure size 432x288 with 1 Axes>"
      ]
     },
     "metadata": {
      "needs_background": "light"
     },
     "output_type": "display_data"
    }
   ],
   "source": [
    "auc = metrics.roc_auc_score(y_test, nb_pred_test)\n",
    "fpr, tpr, _ = metrics.roc_curve(y_test,  nb_pred_test)\n",
    "#create ROC curve\n",
    "plt.plot(fpr,tpr,label=\"AUC=\"+str(auc))\n",
    "plt.ylabel('True Positive Rate')\n",
    "plt.xlabel('False Positive Rate')\n",
    "plt.legend(loc=4)\n",
    "plt.show()"
   ]
  },
  {
   "cell_type": "code",
   "execution_count": 59,
   "id": "24d0e54c",
   "metadata": {
    "execution": {
     "iopub.execute_input": "2023-01-16T07:36:36.559520Z",
     "iopub.status.busy": "2023-01-16T07:36:36.559206Z",
     "iopub.status.idle": "2023-01-16T07:36:37.416094Z",
     "shell.execute_reply": "2023-01-16T07:36:37.414437Z"
    },
    "papermill": {
     "duration": 0.878468,
     "end_time": "2023-01-16T07:36:37.418520",
     "exception": false,
     "start_time": "2023-01-16T07:36:36.540052",
     "status": "completed"
    },
    "tags": []
   },
   "outputs": [
    {
     "name": "stdout",
     "output_type": "stream",
     "text": [
      "========Train=======\n",
      "Confusion Matrix \n",
      "[[8079 3666]\n",
      " [  32  466]]\n",
      "========Test=======\n",
      "Confusion Matrix \n",
      "[[2006  921]\n",
      " [  13  121]]\n",
      "ACCURACY\n",
      "0.6979498488932451\n",
      "0.6948709572035282\n",
      "RECALL\n",
      "0.9357429718875502\n",
      "0.9029850746268657\n"
     ]
    }
   ],
   "source": [
    "from sklearn.ensemble import RandomForestClassifier\n",
    "RF=RandomForestClassifier(class_weight='balanced',criterion = 'gini', max_leaf_nodes = 15, min_samples_split = 12)\n",
    "RF.fit(X_train,y_train)\n",
    "X_train_pred3=RF.predict(X_train)\n",
    "X_test_pred3=RF.predict(X_test)\n",
    "print('========Train=======')\n",
    "print(f\"Confusion Matrix \\n{confusion_matrix(y_train, X_train_pred3)}\")\n",
    "print('========Test=======')\n",
    "print(f\"Confusion Matrix \\n{confusion_matrix(y_test, X_test_pred3)}\")\n",
    "print(\"ACCURACY\")\n",
    "print(accuracy_score(y_train,X_train_pred3))\n",
    "print(accuracy_score(y_test,X_test_pred3))\n",
    "print(\"RECALL\")\n",
    "print(recall_score(y_train,X_train_pred3))\n",
    "print(recall_score(y_test,X_test_pred3))"
   ]
  },
  {
   "cell_type": "code",
   "execution_count": 60,
   "id": "030683b7",
   "metadata": {
    "execution": {
     "iopub.execute_input": "2023-01-16T07:36:37.456657Z",
     "iopub.status.busy": "2023-01-16T07:36:37.455736Z",
     "iopub.status.idle": "2023-01-16T07:36:37.648894Z",
     "shell.execute_reply": "2023-01-16T07:36:37.647908Z"
    },
    "papermill": {
     "duration": 0.213695,
     "end_time": "2023-01-16T07:36:37.650959",
     "exception": false,
     "start_time": "2023-01-16T07:36:37.437264",
     "status": "completed"
    },
    "tags": []
   },
   "outputs": [
    {
     "data": {
      "image/png": "[encoded data removed]",
      "text/plain": [
       "<Figure size 432x288 with 1 Axes>"
      ]
     },
     "metadata": {
      "needs_background": "light"
     },
     "output_type": "display_data"
    }
   ],
   "source": [
    "auc = metrics.roc_auc_score(y_test, X_test_pred3)\n",
    "fpr, tpr, _ = metrics.roc_curve(y_test,  X_test_pred3)\n",
    "#create ROC curve\n",
    "plt.plot(fpr,tpr,label=\"AUC=\"+str(auc))\n",
    "plt.ylabel('True Positive Rate')\n",
    "plt.xlabel('False Positive Rate')\n",
    "plt.legend(loc=4)\n",
    "plt.show()"
   ]
  },
  {
   "cell_type": "code",
   "execution_count": 61,
   "id": "ce727671",
   "metadata": {
    "execution": {
     "iopub.execute_input": "2023-01-16T07:36:37.689179Z",
     "iopub.status.busy": "2023-01-16T07:36:37.688549Z",
     "iopub.status.idle": "2023-01-16T07:41:29.555810Z",
     "shell.execute_reply": "2023-01-16T07:41:29.554703Z"
    },
    "papermill": {
     "duration": 291.908603,
     "end_time": "2023-01-16T07:41:29.578058",
     "exception": false,
     "start_time": "2023-01-16T07:36:37.669455",
     "status": "completed"
    },
    "tags": []
   },
   "outputs": [
    {
     "name": "stdout",
     "output_type": "stream",
     "text": [
      "========Train=======\n",
      "Confusion Matrix \n",
      "[[8079 3666]\n",
      " [  32  466]]\n",
      "========Test=======\n",
      "Confusion Matrix \n",
      "[[2006  921]\n",
      " [  13  121]]\n",
      "ACCURACY\n",
      "0.6979498488932451\n",
      "0.6948709572035282\n",
      "RECALL\n",
      "0.9357429718875502\n",
      "0.9029850746268657\n"
     ]
    }
   ],
   "source": [
    "from sklearn.svm import SVC\n",
    " \n",
    "# Building a Support Vector Machine on train data\n",
    "svc_model = SVC(C= .1, kernel='poly', gamma= 1,class_weight='balanced')\n",
    "svc_model.fit(X_train, y_train)\n",
    "X_train_pred=RF.predict(X_train)\n",
    "X_test_pred=RF.predict(X_test)\n",
    "print('========Train=======')\n",
    "print(f\"Confusion Matrix \\n{confusion_matrix(y_train, X_train_pred)}\")\n",
    "print('========Test=======')\n",
    "print(f\"Confusion Matrix \\n{confusion_matrix(y_test, X_test_pred)}\")\n",
    "print(\"ACCURACY\")\n",
    "print(accuracy_score(y_train,X_train_pred))\n",
    "print(accuracy_score(y_test,X_test_pred))\n",
    "print(\"RECALL\")\n",
    "print(recall_score(y_train,X_train_pred))\n",
    "print(recall_score(y_test,X_test_pred))"
   ]
  },
  {
   "cell_type": "code",
   "execution_count": 62,
   "id": "8c70b1bf",
   "metadata": {
    "execution": {
     "iopub.execute_input": "2023-01-16T07:41:29.616930Z",
     "iopub.status.busy": "2023-01-16T07:41:29.615151Z",
     "iopub.status.idle": "2023-01-16T07:41:29.814060Z",
     "shell.execute_reply": "2023-01-16T07:41:29.813039Z"
    },
    "papermill": {
     "duration": 0.220405,
     "end_time": "2023-01-16T07:41:29.816435",
     "exception": false,
     "start_time": "2023-01-16T07:41:29.596030",
     "status": "completed"
    },
    "tags": []
   },
   "outputs": [
    {
     "data": {
      "image/png": "[encoded data removed]",
      "text/plain": [
       "<Figure size 432x288 with 1 Axes>"
      ]
     },
     "metadata": {
      "needs_background": "light"
     },
     "output_type": "display_data"
    }
   ],
   "source": [
    "auc = metrics.roc_auc_score(y_test, X_test_pred)\n",
    "fpr, tpr, _ = metrics.roc_curve(y_test,  X_test_pred)\n",
    "#create ROC curve\n",
    "plt.plot(fpr,tpr,label=\"AUC=\"+str(auc))\n",
    "plt.ylabel('True Positive Rate')\n",
    "plt.xlabel('False Positive Rate')\n",
    "plt.legend(loc=4)\n",
    "plt.show()"
   ]
  },
  {
   "cell_type": "code",
   "execution_count": 63,
   "id": "ea42f546",
   "metadata": {
    "execution": {
     "iopub.execute_input": "2023-01-16T07:41:29.857560Z",
     "iopub.status.busy": "2023-01-16T07:41:29.857216Z",
     "iopub.status.idle": "2023-01-16T07:41:29.905185Z",
     "shell.execute_reply": "2023-01-16T07:41:29.903995Z"
    },
    "papermill": {
     "duration": 0.071408,
     "end_time": "2023-01-16T07:41:29.907918",
     "exception": false,
     "start_time": "2023-01-16T07:41:29.836510",
     "status": "completed"
    },
    "tags": []
   },
   "outputs": [
    {
     "data": {
      "text/html": [
       "<div>\n",
       "<style scoped>\n",
       "    .dataframe tbody tr th:only-of-type {\n",
       "        vertical-align: middle;\n",
       "    }\n",
       "\n",
       "    .dataframe tbody tr th {\n",
       "        vertical-align: top;\n",
       "    }\n",
       "\n",
       "    .dataframe thead th {\n",
       "        text-align: right;\n",
       "    }\n",
       "</style>\n",
       "<table border=\"1\" class=\"dataframe\">\n",
       "  <thead>\n",
       "    <tr style=\"text-align: right;\">\n",
       "      <th></th>\n",
       "      <th>id</th>\n",
       "      <th>stroke</th>\n",
       "    </tr>\n",
       "  </thead>\n",
       "  <tbody>\n",
       "    <tr>\n",
       "      <th>0</th>\n",
       "      <td>15304</td>\n",
       "      <td>1.0</td>\n",
       "    </tr>\n",
       "    <tr>\n",
       "      <th>1</th>\n",
       "      <td>15305</td>\n",
       "      <td>1.0</td>\n",
       "    </tr>\n",
       "    <tr>\n",
       "      <th>2</th>\n",
       "      <td>15306</td>\n",
       "      <td>1.0</td>\n",
       "    </tr>\n",
       "    <tr>\n",
       "      <th>3</th>\n",
       "      <td>15307</td>\n",
       "      <td>1.0</td>\n",
       "    </tr>\n",
       "    <tr>\n",
       "      <th>4</th>\n",
       "      <td>15308</td>\n",
       "      <td>1.0</td>\n",
       "    </tr>\n",
       "    <tr>\n",
       "      <th>...</th>\n",
       "      <td>...</td>\n",
       "      <td>...</td>\n",
       "    </tr>\n",
       "    <tr>\n",
       "      <th>10199</th>\n",
       "      <td>25503</td>\n",
       "      <td>1.0</td>\n",
       "    </tr>\n",
       "    <tr>\n",
       "      <th>10200</th>\n",
       "      <td>25504</td>\n",
       "      <td>1.0</td>\n",
       "    </tr>\n",
       "    <tr>\n",
       "      <th>10201</th>\n",
       "      <td>25505</td>\n",
       "      <td>1.0</td>\n",
       "    </tr>\n",
       "    <tr>\n",
       "      <th>10202</th>\n",
       "      <td>25506</td>\n",
       "      <td>1.0</td>\n",
       "    </tr>\n",
       "    <tr>\n",
       "      <th>10203</th>\n",
       "      <td>25507</td>\n",
       "      <td>1.0</td>\n",
       "    </tr>\n",
       "  </tbody>\n",
       "</table>\n",
       "<p>10204 rows × 2 columns</p>\n",
       "</div>"
      ],
      "text/plain": [
       "          id  stroke\n",
       "0      15304     1.0\n",
       "1      15305     1.0\n",
       "2      15306     1.0\n",
       "3      15307     1.0\n",
       "4      15308     1.0\n",
       "...      ...     ...\n",
       "10199  25503     1.0\n",
       "10200  25504     1.0\n",
       "10201  25505     1.0\n",
       "10202  25506     1.0\n",
       "10203  25507     1.0\n",
       "\n",
       "[10204 rows x 2 columns]"
      ]
     },
     "execution_count": 63,
     "metadata": {},
     "output_type": "execute_result"
    }
   ],
   "source": [
    "test=NBmodel.predict(test_data)\n",
    "test=NBmodel.predict_proba(test_data)\n",
    "sample_submission = pd.read_csv(\"/kaggle/input/playground-series-s3e2/sample_submission.csv\")\n",
    "sample_submission[\"stroke\"] = test\n",
    "sample_submission.to_csv(\"submission.csv\", index=False)\n",
    "pd.read_csv(\"submission.csv\")"
   ]
  },
  {
   "cell_type": "code",
   "execution_count": 64,
   "id": "3033fb7b",
   "metadata": {
    "execution": {
     "iopub.execute_input": "2023-01-16T07:41:29.948964Z",
     "iopub.status.busy": "2023-01-16T07:41:29.948144Z",
     "iopub.status.idle": "2023-01-16T07:41:35.011793Z",
     "shell.execute_reply": "2023-01-16T07:41:35.010780Z"
    },
    "papermill": {
     "duration": 5.085908,
     "end_time": "2023-01-16T07:41:35.014266",
     "exception": false,
     "start_time": "2023-01-16T07:41:29.928358",
     "status": "completed"
    },
    "tags": []
   },
   "outputs": [
    {
     "data": {
      "text/html": [
       "<div>\n",
       "<style scoped>\n",
       "    .dataframe tbody tr th:only-of-type {\n",
       "        vertical-align: middle;\n",
       "    }\n",
       "\n",
       "    .dataframe tbody tr th {\n",
       "        vertical-align: top;\n",
       "    }\n",
       "\n",
       "    .dataframe thead th {\n",
       "        text-align: right;\n",
       "    }\n",
       "</style>\n",
       "<table border=\"1\" class=\"dataframe\">\n",
       "  <thead>\n",
       "    <tr style=\"text-align: right;\">\n",
       "      <th></th>\n",
       "      <th>id</th>\n",
       "      <th>stroke</th>\n",
       "    </tr>\n",
       "  </thead>\n",
       "  <tbody>\n",
       "    <tr>\n",
       "      <th>0</th>\n",
       "      <td>15304</td>\n",
       "      <td>0.8</td>\n",
       "    </tr>\n",
       "    <tr>\n",
       "      <th>1</th>\n",
       "      <td>15305</td>\n",
       "      <td>0.8</td>\n",
       "    </tr>\n",
       "    <tr>\n",
       "      <th>2</th>\n",
       "      <td>15306</td>\n",
       "      <td>0.8</td>\n",
       "    </tr>\n",
       "    <tr>\n",
       "      <th>3</th>\n",
       "      <td>15307</td>\n",
       "      <td>1.0</td>\n",
       "    </tr>\n",
       "    <tr>\n",
       "      <th>4</th>\n",
       "      <td>15308</td>\n",
       "      <td>0.8</td>\n",
       "    </tr>\n",
       "    <tr>\n",
       "      <th>...</th>\n",
       "      <td>...</td>\n",
       "      <td>...</td>\n",
       "    </tr>\n",
       "    <tr>\n",
       "      <th>10199</th>\n",
       "      <td>25503</td>\n",
       "      <td>0.8</td>\n",
       "    </tr>\n",
       "    <tr>\n",
       "      <th>10200</th>\n",
       "      <td>25504</td>\n",
       "      <td>0.8</td>\n",
       "    </tr>\n",
       "    <tr>\n",
       "      <th>10201</th>\n",
       "      <td>25505</td>\n",
       "      <td>0.8</td>\n",
       "    </tr>\n",
       "    <tr>\n",
       "      <th>10202</th>\n",
       "      <td>25506</td>\n",
       "      <td>1.0</td>\n",
       "    </tr>\n",
       "    <tr>\n",
       "      <th>10203</th>\n",
       "      <td>25507</td>\n",
       "      <td>0.8</td>\n",
       "    </tr>\n",
       "  </tbody>\n",
       "</table>\n",
       "<p>10204 rows × 2 columns</p>\n",
       "</div>"
      ],
      "text/plain": [
       "          id  stroke\n",
       "0      15304     0.8\n",
       "1      15305     0.8\n",
       "2      15306     0.8\n",
       "3      15307     1.0\n",
       "4      15308     0.8\n",
       "...      ...     ...\n",
       "10199  25503     0.8\n",
       "10200  25504     0.8\n",
       "10201  25505     0.8\n",
       "10202  25506     1.0\n",
       "10203  25507     0.8\n",
       "\n",
       "[10204 rows x 2 columns]"
      ]
     },
     "execution_count": 64,
     "metadata": {},
     "output_type": "execute_result"
    }
   ],
   "source": [
    "test=KNN.predict(test_data)\n",
    "test=KNN.predict_proba(test_data)\n",
    "sample_submission = pd.read_csv(\"/kaggle/input/playground-series-s3e2/sample_submission.csv\")\n",
    "sample_submission[\"stroke\"] = test\n",
    "sample_submission.to_csv(\"submission.csv\", index=False)\n",
    "pd.read_csv(\"submission.csv\")"
   ]
  },
  {
   "cell_type": "code",
   "execution_count": null,
   "id": "6d06b60a",
   "metadata": {
    "papermill": {
     "duration": 0.018722,
     "end_time": "2023-01-16T07:41:35.052956",
     "exception": false,
     "start_time": "2023-01-16T07:41:35.034234",
     "status": "completed"
    },
    "tags": []
   },
   "outputs": [],
   "source": []
  }
 ],
 "metadata": {
  "kernelspec": {
   "display_name": "Python 3",
   "language": "python",
   "name": "python3"
  },
  "language_info": {
   "codemirror_mode": {
    "name": "ipython",
    "version": 3
   },
   "file_extension": ".py",
   "mimetype": "text/x-python",
   "name": "python",
   "nbconvert_exporter": "python",
   "pygments_lexer": "ipython3",
   "version": "3.7.12"
  },
  "papermill": {
   "default_parameters": {},
   "duration": 317.664164,
   "end_time": "2023-01-16T07:41:35.593357",
   "environment_variables": {},
   "exception": null,
   "input_path": "__notebook__.ipynb",
   "output_path": "__notebook__.ipynb",
   "parameters": {},
   "start_time": "2023-01-16T07:36:17.929193",
   "version": "2.3.4"
  }
 },
 "nbformat": 4,
 "nbformat_minor": 5
}
